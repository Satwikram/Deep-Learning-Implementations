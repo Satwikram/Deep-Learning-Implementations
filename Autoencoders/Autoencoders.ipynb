{
  "nbformat": 4,
  "nbformat_minor": 0,
  "metadata": {
    "colab": {
      "name": "Autoencoders.ipynb",
      "provenance": [],
      "collapsed_sections": [],
      "authorship_tag": "ABX9TyOEbvmiN2cBx+KA/bx2Vm1J",
      "include_colab_link": true
    },
    "kernelspec": {
      "name": "python3",
      "display_name": "Python 3"
    },
    "accelerator": "TPU"
  },
  "cells": [
    {
      "cell_type": "markdown",
      "metadata": {
        "id": "view-in-github",
        "colab_type": "text"
      },
      "source": [
        "<a href=\"https://colab.research.google.com/github/Satwikram/Deep-Learning-Notebooks/blob/master/Autoencoders/Autoencoders.ipynb\" target=\"_parent\"><img src=\"https://colab.research.google.com/assets/colab-badge.svg\" alt=\"Open In Colab\"/></a>"
      ]
    },
    {
      "cell_type": "code",
      "metadata": {
        "id": "1aLnhblcoSdx",
        "colab_type": "code",
        "colab": {
          "base_uri": "https://localhost:8080/",
          "height": 34
        },
        "outputId": "2a5da363-bab4-4932-ae86-fcedc2db978f"
      },
      "source": [
        "\"\"\"\n",
        "@Author: Satwik Ram K\n",
        "\n",
        "Autoencoders \n",
        "\n",
        "\"\"\"\n",
        "# Importing Dependencies\n",
        "import numpy as np # Linear Algebra\n",
        "import tensorflow as tf\n",
        "import keras"
      ],
      "execution_count": 24,
      "outputs": [
        {
          "output_type": "stream",
          "text": [
            "Using TensorFlow backend.\n"
          ],
          "name": "stderr"
        }
      ]
    },
    {
      "cell_type": "code",
      "metadata": {
        "id": "gA_4mVWHpydt",
        "colab_type": "code",
        "colab": {}
      },
      "source": [
        "from keras.layers import Input, Dense\n",
        "from keras.models import Model"
      ],
      "execution_count": 25,
      "outputs": []
    },
    {
      "cell_type": "code",
      "metadata": {
        "id": "rLvhQ65mqiiu",
        "colab_type": "code",
        "colab": {}
      },
      "source": [
        "# this is the size of our encoded representations\n",
        "encoding_dim = 32 \n"
      ],
      "execution_count": 26,
      "outputs": []
    },
    {
      "cell_type": "code",
      "metadata": {
        "id": "A2wn5Sk7qqYU",
        "colab_type": "code",
        "colab": {}
      },
      "source": [
        "# this is our input placeholder\n",
        "input_img = Input(shape=(784,)) #Assuming"
      ],
      "execution_count": 27,
      "outputs": []
    },
    {
      "cell_type": "code",
      "metadata": {
        "id": "yayiX_npqwqp",
        "colab_type": "code",
        "colab": {}
      },
      "source": [
        "# \"encoded\" is encoded version of input\n",
        "encoded = Dense(encoding_dim, activation = 'relu')(input_img)"
      ],
      "execution_count": 28,
      "outputs": []
    },
    {
      "cell_type": "code",
      "metadata": {
        "id": "QZFpypxSrcLO",
        "colab_type": "code",
        "colab": {}
      },
      "source": [
        "# \"decoded\" is the lossy reconstruction of the input\n",
        "decoded = Dense(784, activation = 'sigmoid')(encoded)"
      ],
      "execution_count": 29,
      "outputs": []
    },
    {
      "cell_type": "code",
      "metadata": {
        "id": "zNGnacnqrzE5",
        "colab_type": "code",
        "colab": {}
      },
      "source": [
        "# this model maps an input to its reconstruction\n",
        "autoencoder = Model(input_img, decoded)"
      ],
      "execution_count": 30,
      "outputs": []
    },
    {
      "cell_type": "code",
      "metadata": {
        "id": "G-qcsS0or6Yi",
        "colab_type": "code",
        "colab": {}
      },
      "source": [
        "# this model maps an input to its encoded representation\n",
        "encoder = Model(input_img, encoded)"
      ],
      "execution_count": 31,
      "outputs": []
    },
    {
      "cell_type": "code",
      "metadata": {
        "id": "zEAqqS78r_EX",
        "colab_type": "code",
        "colab": {}
      },
      "source": [
        "# create a placeholder for an encoded (32-dimensional) input\n",
        "encoded_input = Input(shape=(encoding_dim,))"
      ],
      "execution_count": 32,
      "outputs": []
    },
    {
      "cell_type": "code",
      "metadata": {
        "id": "CQ_sF-Xxr_pk",
        "colab_type": "code",
        "colab": {}
      },
      "source": [
        "# retrieve the last layer of the autoencoder model\n",
        "decoder_layer = autoencoder.layers[-1]"
      ],
      "execution_count": 33,
      "outputs": []
    },
    {
      "cell_type": "code",
      "metadata": {
        "id": "ha1KBKAfr_cq",
        "colab_type": "code",
        "colab": {}
      },
      "source": [
        "# create the decoder model\n",
        "decoder = Model(encoded_input, decoder_layer(encoded_input))"
      ],
      "execution_count": 34,
      "outputs": []
    },
    {
      "cell_type": "code",
      "metadata": {
        "id": "iY5Johe1r-07",
        "colab_type": "code",
        "colab": {}
      },
      "source": [
        "autoencoder.compile(optimizer = 'adadelta', loss = 'binary_crossentropy', metrics = ['accuracy'])"
      ],
      "execution_count": 35,
      "outputs": []
    },
    {
      "cell_type": "code",
      "metadata": {
        "id": "GD9NCALOs285",
        "colab_type": "code",
        "colab": {}
      },
      "source": [
        "# Importing Dataset\n",
        "from keras.datasets import mnist\n",
        "(x_train, _), (x_test, _) = mnist.load_data()"
      ],
      "execution_count": 36,
      "outputs": []
    },
    {
      "cell_type": "code",
      "metadata": {
        "id": "JKTqTgi_tgYB",
        "colab_type": "code",
        "colab": {}
      },
      "source": [
        "# Normalizing the datasets\n",
        "x_train = x_train.astype('float32')/255.\n",
        "x_test = x_test.astype('float32')/255."
      ],
      "execution_count": 37,
      "outputs": []
    },
    {
      "cell_type": "code",
      "metadata": {
        "id": "8xrnKcNRt470",
        "colab_type": "code",
        "colab": {
          "base_uri": "https://localhost:8080/",
          "height": 51
        },
        "outputId": "f8dc1830-2b38-4e24-a89b-27126677e951"
      },
      "source": [
        "x_train = x_train.reshape((len(x_train), np.prod(x_train.shape[1:])))\n",
        "x_test = x_test.reshape((len(x_test), np.prod(x_test.shape[1:])))\n",
        "print(x_train.shape)\n",
        "print(x_test.shape)"
      ],
      "execution_count": 38,
      "outputs": [
        {
          "output_type": "stream",
          "text": [
            "(60000, 784)\n",
            "(10000, 784)\n"
          ],
          "name": "stdout"
        }
      ]
    },
    {
      "cell_type": "code",
      "metadata": {
        "id": "VFT0kz_Nt77j",
        "colab_type": "code",
        "colab": {
          "base_uri": "https://localhost:8080/",
          "height": 35
        },
        "outputId": "c0bfde0f-7ba8-4440-d548-2a113d202fb6"
      },
      "source": [
        "\"\"\"\n",
        "import matplotlib.pyplot as plt\n",
        "%matplotlib inline\n",
        "plt.imshow(x_train[0])\n",
        "\"\"\""
      ],
      "execution_count": 39,
      "outputs": [
        {
          "output_type": "execute_result",
          "data": {
            "application/vnd.google.colaboratory.intrinsic": {
              "type": "string"
            },
            "text/plain": [
              "'\\nimport matplotlib.pyplot as plt\\n%matplotlib inline\\nplt.imshow(x_train[0])\\n'"
            ]
          },
          "metadata": {
            "tags": []
          },
          "execution_count": 39
        }
      ]
    },
    {
      "cell_type": "code",
      "metadata": {
        "id": "cOkpIuAAvP69",
        "colab_type": "code",
        "colab": {
          "base_uri": "https://localhost:8080/",
          "height": 1000
        },
        "outputId": "b1258974-d64b-4b50-b4cf-c67a87ff1b03"
      },
      "source": [
        "autoencoder.fit(x_train, x_train, epochs = 50, batch_size = 256, shuffle = True, validation_data = (x_test, x_test), verbose = 1)"
      ],
      "execution_count": 40,
      "outputs": [
        {
          "output_type": "stream",
          "text": [
            "Train on 60000 samples, validate on 10000 samples\n",
            "Epoch 1/50\n",
            "60000/60000 [==============================] - 3s 52us/step - loss: 0.3599 - accuracy: 0.7521 - val_loss: 0.2718 - val_accuracy: 0.7946\n",
            "Epoch 2/50\n",
            "60000/60000 [==============================] - 3s 54us/step - loss: 0.2653 - accuracy: 0.7969 - val_loss: 0.2557 - val_accuracy: 0.7965\n",
            "Epoch 3/50\n",
            "60000/60000 [==============================] - 3s 55us/step - loss: 0.2460 - accuracy: 0.7966 - val_loss: 0.2343 - val_accuracy: 0.7960\n",
            "Epoch 4/50\n",
            "60000/60000 [==============================] - 3s 51us/step - loss: 0.2263 - accuracy: 0.7964 - val_loss: 0.2163 - val_accuracy: 0.7964\n",
            "Epoch 5/50\n",
            "60000/60000 [==============================] - 3s 51us/step - loss: 0.2107 - accuracy: 0.7976 - val_loss: 0.2028 - val_accuracy: 0.7982\n",
            "Epoch 6/50\n",
            "60000/60000 [==============================] - 3s 50us/step - loss: 0.1991 - accuracy: 0.7989 - val_loss: 0.1931 - val_accuracy: 0.7987\n",
            "Epoch 7/50\n",
            "60000/60000 [==============================] - 3s 50us/step - loss: 0.1909 - accuracy: 0.7999 - val_loss: 0.1861 - val_accuracy: 0.7999\n",
            "Epoch 8/50\n",
            "60000/60000 [==============================] - 3s 50us/step - loss: 0.1845 - accuracy: 0.8009 - val_loss: 0.1801 - val_accuracy: 0.8007\n",
            "Epoch 9/50\n",
            "60000/60000 [==============================] - 3s 52us/step - loss: 0.1788 - accuracy: 0.8019 - val_loss: 0.1748 - val_accuracy: 0.8020\n",
            "Epoch 10/50\n",
            "60000/60000 [==============================] - 3s 52us/step - loss: 0.1736 - accuracy: 0.8029 - val_loss: 0.1699 - val_accuracy: 0.8027\n",
            "Epoch 11/50\n",
            "60000/60000 [==============================] - 3s 50us/step - loss: 0.1690 - accuracy: 0.8038 - val_loss: 0.1655 - val_accuracy: 0.8036\n",
            "Epoch 12/50\n",
            "60000/60000 [==============================] - 3s 51us/step - loss: 0.1647 - accuracy: 0.8046 - val_loss: 0.1614 - val_accuracy: 0.8043\n",
            "Epoch 13/50\n",
            "60000/60000 [==============================] - 3s 57us/step - loss: 0.1609 - accuracy: 0.8053 - val_loss: 0.1577 - val_accuracy: 0.8050\n",
            "Epoch 14/50\n",
            "60000/60000 [==============================] - 3s 56us/step - loss: 0.1573 - accuracy: 0.8059 - val_loss: 0.1544 - val_accuracy: 0.8057\n",
            "Epoch 15/50\n",
            "60000/60000 [==============================] - 3s 56us/step - loss: 0.1541 - accuracy: 0.8065 - val_loss: 0.1512 - val_accuracy: 0.8062\n",
            "Epoch 16/50\n",
            "60000/60000 [==============================] - 3s 51us/step - loss: 0.1511 - accuracy: 0.8070 - val_loss: 0.1483 - val_accuracy: 0.8067\n",
            "Epoch 17/50\n",
            "60000/60000 [==============================] - 3s 50us/step - loss: 0.1483 - accuracy: 0.8075 - val_loss: 0.1457 - val_accuracy: 0.8072\n",
            "Epoch 18/50\n",
            "60000/60000 [==============================] - 3s 51us/step - loss: 0.1457 - accuracy: 0.8079 - val_loss: 0.1431 - val_accuracy: 0.8075\n",
            "Epoch 19/50\n",
            "60000/60000 [==============================] - 3s 52us/step - loss: 0.1433 - accuracy: 0.8083 - val_loss: 0.1407 - val_accuracy: 0.8076\n",
            "Epoch 20/50\n",
            "60000/60000 [==============================] - 3s 50us/step - loss: 0.1410 - accuracy: 0.8086 - val_loss: 0.1385 - val_accuracy: 0.8081\n",
            "Epoch 21/50\n",
            "60000/60000 [==============================] - 3s 52us/step - loss: 0.1389 - accuracy: 0.8090 - val_loss: 0.1364 - val_accuracy: 0.8084\n",
            "Epoch 22/50\n",
            "60000/60000 [==============================] - 3s 52us/step - loss: 0.1369 - accuracy: 0.8093 - val_loss: 0.1344 - val_accuracy: 0.8088\n",
            "Epoch 23/50\n",
            "60000/60000 [==============================] - 3s 50us/step - loss: 0.1349 - accuracy: 0.8096 - val_loss: 0.1326 - val_accuracy: 0.8091\n",
            "Epoch 24/50\n",
            "60000/60000 [==============================] - 3s 49us/step - loss: 0.1331 - accuracy: 0.8099 - val_loss: 0.1307 - val_accuracy: 0.8093\n",
            "Epoch 25/50\n",
            "60000/60000 [==============================] - 3s 51us/step - loss: 0.1314 - accuracy: 0.8101 - val_loss: 0.1291 - val_accuracy: 0.8097\n",
            "Epoch 26/50\n",
            "60000/60000 [==============================] - 3s 51us/step - loss: 0.1298 - accuracy: 0.8104 - val_loss: 0.1274 - val_accuracy: 0.8097\n",
            "Epoch 27/50\n",
            "60000/60000 [==============================] - 3s 54us/step - loss: 0.1283 - accuracy: 0.8106 - val_loss: 0.1260 - val_accuracy: 0.8101\n",
            "Epoch 28/50\n",
            "60000/60000 [==============================] - 3s 51us/step - loss: 0.1268 - accuracy: 0.8108 - val_loss: 0.1245 - val_accuracy: 0.8101\n",
            "Epoch 29/50\n",
            "60000/60000 [==============================] - 3s 55us/step - loss: 0.1255 - accuracy: 0.8110 - val_loss: 0.1232 - val_accuracy: 0.8103\n",
            "Epoch 30/50\n",
            "60000/60000 [==============================] - 3s 55us/step - loss: 0.1242 - accuracy: 0.8112 - val_loss: 0.1220 - val_accuracy: 0.8106\n",
            "Epoch 31/50\n",
            "60000/60000 [==============================] - 3s 54us/step - loss: 0.1230 - accuracy: 0.8113 - val_loss: 0.1207 - val_accuracy: 0.8105\n",
            "Epoch 32/50\n",
            "60000/60000 [==============================] - 3s 54us/step - loss: 0.1218 - accuracy: 0.8115 - val_loss: 0.1196 - val_accuracy: 0.8107\n",
            "Epoch 33/50\n",
            "60000/60000 [==============================] - 3s 52us/step - loss: 0.1208 - accuracy: 0.8116 - val_loss: 0.1185 - val_accuracy: 0.8108\n",
            "Epoch 34/50\n",
            "60000/60000 [==============================] - 3s 51us/step - loss: 0.1197 - accuracy: 0.8117 - val_loss: 0.1175 - val_accuracy: 0.8110\n",
            "Epoch 35/50\n",
            "60000/60000 [==============================] - 3s 50us/step - loss: 0.1188 - accuracy: 0.8119 - val_loss: 0.1167 - val_accuracy: 0.8112\n",
            "Epoch 36/50\n",
            "60000/60000 [==============================] - 3s 51us/step - loss: 0.1179 - accuracy: 0.8120 - val_loss: 0.1158 - val_accuracy: 0.8112\n",
            "Epoch 37/50\n",
            "60000/60000 [==============================] - 3s 54us/step - loss: 0.1171 - accuracy: 0.8121 - val_loss: 0.1149 - val_accuracy: 0.8113\n",
            "Epoch 38/50\n",
            "60000/60000 [==============================] - 3s 54us/step - loss: 0.1163 - accuracy: 0.8122 - val_loss: 0.1142 - val_accuracy: 0.8114\n",
            "Epoch 39/50\n",
            "60000/60000 [==============================] - 3s 53us/step - loss: 0.1156 - accuracy: 0.8122 - val_loss: 0.1135 - val_accuracy: 0.8115\n",
            "Epoch 40/50\n",
            "60000/60000 [==============================] - 3s 55us/step - loss: 0.1149 - accuracy: 0.8123 - val_loss: 0.1128 - val_accuracy: 0.8115\n",
            "Epoch 41/50\n",
            "60000/60000 [==============================] - 3s 53us/step - loss: 0.1143 - accuracy: 0.8124 - val_loss: 0.1122 - val_accuracy: 0.8115\n",
            "Epoch 42/50\n",
            "60000/60000 [==============================] - 3s 52us/step - loss: 0.1137 - accuracy: 0.8124 - val_loss: 0.1116 - val_accuracy: 0.8117\n",
            "Epoch 43/50\n",
            "60000/60000 [==============================] - 3s 54us/step - loss: 0.1131 - accuracy: 0.8125 - val_loss: 0.1111 - val_accuracy: 0.8117\n",
            "Epoch 44/50\n",
            "60000/60000 [==============================] - 3s 52us/step - loss: 0.1126 - accuracy: 0.8126 - val_loss: 0.1106 - val_accuracy: 0.8118\n",
            "Epoch 45/50\n",
            "60000/60000 [==============================] - 3s 49us/step - loss: 0.1121 - accuracy: 0.8126 - val_loss: 0.1101 - val_accuracy: 0.8118\n",
            "Epoch 46/50\n",
            "60000/60000 [==============================] - 3s 52us/step - loss: 0.1117 - accuracy: 0.8126 - val_loss: 0.1097 - val_accuracy: 0.8118\n",
            "Epoch 47/50\n",
            "60000/60000 [==============================] - 3s 50us/step - loss: 0.1112 - accuracy: 0.8127 - val_loss: 0.1092 - val_accuracy: 0.8119\n",
            "Epoch 48/50\n",
            "60000/60000 [==============================] - 3s 52us/step - loss: 0.1108 - accuracy: 0.8127 - val_loss: 0.1088 - val_accuracy: 0.8119\n",
            "Epoch 49/50\n",
            "60000/60000 [==============================] - 3s 54us/step - loss: 0.1104 - accuracy: 0.8128 - val_loss: 0.1085 - val_accuracy: 0.8119\n",
            "Epoch 50/50\n",
            "60000/60000 [==============================] - 3s 54us/step - loss: 0.1101 - accuracy: 0.8128 - val_loss: 0.1081 - val_accuracy: 0.8120\n"
          ],
          "name": "stdout"
        },
        {
          "output_type": "execute_result",
          "data": {
            "text/plain": [
              "<keras.callbacks.callbacks.History at 0x7f9a75efb240>"
            ]
          },
          "metadata": {
            "tags": []
          },
          "execution_count": 40
        }
      ]
    },
    {
      "cell_type": "code",
      "metadata": {
        "id": "CVu5DIyOwFgA",
        "colab_type": "code",
        "colab": {}
      },
      "source": [
        "# encode and decode some digits\n",
        "# note that we take them from the *test* set\n",
        "encoded_imgs = encoder.predict(x_test)\n",
        "decoded_imgs = decoder.predict(encoded_imgs)"
      ],
      "execution_count": 41,
      "outputs": []
    },
    {
      "cell_type": "code",
      "metadata": {
        "id": "bMP3vfOxxRFa",
        "colab_type": "code",
        "colab": {
          "base_uri": "https://localhost:8080/",
          "height": 209
        },
        "outputId": "fd21ea2f-7175-4e56-c16b-9fc971ad00fe"
      },
      "source": [
        "# use Matplotlib (don't ask)\n",
        "import matplotlib.pyplot as plt\n",
        "\n",
        "n = 10  # how many digits we will display\n",
        "plt.figure(figsize=(20, 4))\n",
        "for i in range(n):\n",
        "    # display original\n",
        "    ax = plt.subplot(2, n, i + 1)\n",
        "    plt.imshow(x_test[i].reshape(28, 28))\n",
        "    plt.gray()\n",
        "    ax.get_xaxis().set_visible(False)\n",
        "    ax.get_yaxis().set_visible(False)\n",
        "\n",
        "    # display reconstruction\n",
        "    ax = plt.subplot(2, n, i + 1 + n)\n",
        "    plt.imshow(decoded_imgs[i].reshape(28, 28))\n",
        "    plt.gray()\n",
        "    ax.get_xaxis().set_visible(False)\n",
        "    ax.get_yaxis().set_visible(False)\n",
        "plt.show()"
      ],
      "execution_count": 42,
      "outputs": [
        {
          "output_type": "display_data",
          "data": {
            "image/png": "[encoded data removed]",
            "text/plain": [
              "<Figure size 1440x288 with 20 Axes>"
            ]
          },
          "metadata": {
            "tags": [],
            "needs_background": "light"
          }
        }
      ]
    },
    {
      "cell_type": "code",
      "metadata": {
        "id": "L2L_i7yCxUQX",
        "colab_type": "code",
        "colab": {}
      },
      "source": [
        ""
      ],
      "execution_count": 42,
      "outputs": []
    }
  ]
}