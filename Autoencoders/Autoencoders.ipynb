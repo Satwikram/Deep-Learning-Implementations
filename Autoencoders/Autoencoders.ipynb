{
  "nbformat": 4,
  "nbformat_minor": 0,
  "metadata": {
    "colab": {
      "name": "Autoencoders.ipynb",
      "provenance": [],
      "collapsed_sections": [],
      "authorship_tag": "ABX9TyMPRt8GKFeEuTd9NlnIt932",
      "include_colab_link": true
    },
    "kernelspec": {
      "name": "python3",
      "display_name": "Python 3"
    },
    "accelerator": "TPU"
  },
  "cells": [
    {
      "cell_type": "markdown",
      "metadata": {
        "id": "view-in-github",
        "colab_type": "text"
      },
      "source": [
        "<a href=\"https://colab.research.google.com/github/Satwikram/Deep-Learning-Notebooks/blob/master/Autoencoders/Autoencoders.ipynb\" target=\"_parent\"><img src=\"https://colab.research.google.com/assets/colab-badge.svg\" alt=\"Open In Colab\"/></a>"
      ]
    },
    {
      "cell_type": "code",
      "metadata": {
        "id": "1aLnhblcoSdx",
        "colab_type": "code",
        "colab": {
          "base_uri": "https://localhost:8080/",
          "height": 34
        },
        "outputId": "39524a0d-4f40-4465-ef10-6c92e68f2f69"
      },
      "source": [
        "\"\"\"\n",
        "@Author: Satwik Ram K\n",
        "\n",
        "Autoencoders \n",
        "\n",
        "\"\"\"\n",
        "# Importing Dependencies\n",
        "import numpy as np # Linear Algebra\n",
        "import tensorflow as tf\n",
        "import keras"
      ],
      "execution_count": 1,
      "outputs": [
        {
          "output_type": "stream",
          "text": [
            "Using TensorFlow backend.\n"
          ],
          "name": "stderr"
        }
      ]
    },
    {
      "cell_type": "code",
      "metadata": {
        "id": "gA_4mVWHpydt",
        "colab_type": "code",
        "colab": {}
      },
      "source": [
        "from keras.layers import Input, Dense\n",
        "from keras.models import Model"
      ],
      "execution_count": 2,
      "outputs": []
    },
    {
      "cell_type": "code",
      "metadata": {
        "id": "rLvhQ65mqiiu",
        "colab_type": "code",
        "colab": {}
      },
      "source": [
        "# this is the size of our encoded representations\n",
        "encoding_dim = 32 \n"
      ],
      "execution_count": 3,
      "outputs": []
    },
    {
      "cell_type": "code",
      "metadata": {
        "id": "A2wn5Sk7qqYU",
        "colab_type": "code",
        "colab": {}
      },
      "source": [
        "# this is our input placeholder\n",
        "input_img = Input(shape=(784,)) #Assuming"
      ],
      "execution_count": 4,
      "outputs": []
    },
    {
      "cell_type": "code",
      "metadata": {
        "id": "yayiX_npqwqp",
        "colab_type": "code",
        "colab": {}
      },
      "source": [
        "# \"encoded\" is encoded version of input\n",
        "encoded = Dense(encoding_dim, activation = 'relu')(input_img)"
      ],
      "execution_count": 5,
      "outputs": []
    },
    {
      "cell_type": "code",
      "metadata": {
        "id": "QZFpypxSrcLO",
        "colab_type": "code",
        "colab": {}
      },
      "source": [
        "# \"decoded\" is the lossy reconstruction of the input\n",
        "decoded = Dense(784, activation = 'sigmoid')(encoded)"
      ],
      "execution_count": 6,
      "outputs": []
    },
    {
      "cell_type": "code",
      "metadata": {
        "id": "zNGnacnqrzE5",
        "colab_type": "code",
        "colab": {}
      },
      "source": [
        "# this model maps an input to its reconstruction\n",
        "autoencoder = Model(input_img, decoded)"
      ],
      "execution_count": 7,
      "outputs": []
    },
    {
      "cell_type": "code",
      "metadata": {
        "id": "G-qcsS0or6Yi",
        "colab_type": "code",
        "colab": {}
      },
      "source": [
        "# this model maps an input to its encoded representation\n",
        "encoder = Model(input_img, encoded)"
      ],
      "execution_count": 8,
      "outputs": []
    },
    {
      "cell_type": "code",
      "metadata": {
        "id": "zEAqqS78r_EX",
        "colab_type": "code",
        "colab": {}
      },
      "source": [
        "# create a placeholder for an encoded (32-dimensional) input\n",
        "encoded_input = Input(shape=(encoding_dim,))"
      ],
      "execution_count": 9,
      "outputs": []
    },
    {
      "cell_type": "code",
      "metadata": {
        "id": "CQ_sF-Xxr_pk",
        "colab_type": "code",
        "colab": {}
      },
      "source": [
        "# retrieve the last layer of the autoencoder model\n",
        "decoder_layer = autoencoder.layers[-1]"
      ],
      "execution_count": 10,
      "outputs": []
    },
    {
      "cell_type": "code",
      "metadata": {
        "id": "ha1KBKAfr_cq",
        "colab_type": "code",
        "colab": {}
      },
      "source": [
        "# create the decoder model\n",
        "decoder = Model(encoded_input, decoder_layer(encoded_input))"
      ],
      "execution_count": 11,
      "outputs": []
    },
    {
      "cell_type": "code",
      "metadata": {
        "id": "iY5Johe1r-07",
        "colab_type": "code",
        "colab": {}
      },
      "source": [
        "autoencoder.compile(optimizer = 'adadelta', loss = 'binary_crossentropy', metrics = ['accuracy'])"
      ],
      "execution_count": 12,
      "outputs": []
    },
    {
      "cell_type": "code",
      "metadata": {
        "id": "GD9NCALOs285",
        "colab_type": "code",
        "colab": {
          "base_uri": "https://localhost:8080/",
          "height": 51
        },
        "outputId": "f34b49aa-50e6-4d1b-dadf-9d16fe7f3734"
      },
      "source": [
        "# Importing Dataset\n",
        "from keras.datasets import mnist\n",
        "(x_train, _), (x_test, _) = mnist.load_data()"
      ],
      "execution_count": 13,
      "outputs": [
        {
          "output_type": "stream",
          "text": [
            "Downloading data from https://s3.amazonaws.com/img-datasets/mnist.npz\n",
            "11493376/11490434 [==============================] - 0s 0us/step\n"
          ],
          "name": "stdout"
        }
      ]
    },
    {
      "cell_type": "code",
      "metadata": {
        "id": "JKTqTgi_tgYB",
        "colab_type": "code",
        "colab": {}
      },
      "source": [
        "# Normalizing the datasets\n",
        "x_train = x_train.astype('float32')/255.\n",
        "x_test = x_test.astype('float32')/255."
      ],
      "execution_count": 14,
      "outputs": []
    },
    {
      "cell_type": "code",
      "metadata": {
        "id": "8xrnKcNRt470",
        "colab_type": "code",
        "colab": {
          "base_uri": "https://localhost:8080/",
          "height": 51
        },
        "outputId": "fd6bb298-026c-4001-b174-fdd04a3d3d8b"
      },
      "source": [
        "x_train = x_train.reshape((len(x_train), np.prod(x_train.shape[1:])))\n",
        "x_test = x_test.reshape((len(x_test), np.prod(x_test.shape[1:])))\n",
        "print(x_train.shape)\n",
        "print(x_test.shape)"
      ],
      "execution_count": 15,
      "outputs": [
        {
          "output_type": "stream",
          "text": [
            "(60000, 784)\n",
            "(10000, 784)\n"
          ],
          "name": "stdout"
        }
      ]
    },
    {
      "cell_type": "code",
      "metadata": {
        "id": "VFT0kz_Nt77j",
        "colab_type": "code",
        "colab": {
          "base_uri": "https://localhost:8080/",
          "height": 35
        },
        "outputId": "60b1644e-8481-49fa-886a-7414d0f5b2ac"
      },
      "source": [
        "\"\"\"\n",
        "import matplotlib.pyplot as plt\n",
        "%matplotlib inline\n",
        "plt.imshow(x_train[0])\n",
        "\"\"\""
      ],
      "execution_count": 16,
      "outputs": [
        {
          "output_type": "execute_result",
          "data": {
            "application/vnd.google.colaboratory.intrinsic": {
              "type": "string"
            },
            "text/plain": [
              "'\\nimport matplotlib.pyplot as plt\\n%matplotlib inline\\nplt.imshow(x_train[0])\\n'"
            ]
          },
          "metadata": {
            "tags": []
          },
          "execution_count": 16
        }
      ]
    },
    {
      "cell_type": "code",
      "metadata": {
        "id": "cOkpIuAAvP69",
        "colab_type": "code",
        "colab": {
          "base_uri": "https://localhost:8080/",
          "height": 1000
        },
        "outputId": "fbf01dbd-f3f9-4d63-de78-380b94d4f02b"
      },
      "source": [
        "autoencoder.fit(x_train, x_train, epochs = 50, batch_size = 256, shuffle = True, validation_data = (x_test, x_test), verbose = 1)"
      ],
      "execution_count": 17,
      "outputs": [
        {
          "output_type": "stream",
          "text": [
            "Train on 60000 samples, validate on 10000 samples\n",
            "Epoch 1/50\n",
            "60000/60000 [==============================] - 2s 39us/step - loss: 0.3496 - accuracy: 0.7588 - val_loss: 0.2701 - val_accuracy: 0.7958\n",
            "Epoch 2/50\n",
            "60000/60000 [==============================] - 2s 33us/step - loss: 0.2617 - accuracy: 0.7975 - val_loss: 0.2500 - val_accuracy: 0.7960\n",
            "Epoch 3/50\n",
            "60000/60000 [==============================] - 2s 33us/step - loss: 0.2400 - accuracy: 0.7973 - val_loss: 0.2277 - val_accuracy: 0.7967\n",
            "Epoch 4/50\n",
            "60000/60000 [==============================] - 2s 34us/step - loss: 0.2199 - accuracy: 0.7978 - val_loss: 0.2098 - val_accuracy: 0.7983\n",
            "Epoch 5/50\n",
            "60000/60000 [==============================] - 2s 34us/step - loss: 0.2045 - accuracy: 0.7992 - val_loss: 0.1967 - val_accuracy: 0.7991\n",
            "Epoch 6/50\n",
            "60000/60000 [==============================] - 2s 34us/step - loss: 0.1933 - accuracy: 0.8003 - val_loss: 0.1873 - val_accuracy: 0.8006\n",
            "Epoch 7/50\n",
            "60000/60000 [==============================] - 2s 34us/step - loss: 0.1849 - accuracy: 0.8014 - val_loss: 0.1799 - val_accuracy: 0.8017\n",
            "Epoch 8/50\n",
            "60000/60000 [==============================] - 2s 34us/step - loss: 0.1782 - accuracy: 0.8024 - val_loss: 0.1737 - val_accuracy: 0.8026\n",
            "Epoch 9/50\n",
            "60000/60000 [==============================] - 2s 34us/step - loss: 0.1725 - accuracy: 0.8034 - val_loss: 0.1684 - val_accuracy: 0.8034\n",
            "Epoch 10/50\n",
            "60000/60000 [==============================] - 2s 34us/step - loss: 0.1676 - accuracy: 0.8042 - val_loss: 0.1639 - val_accuracy: 0.8042\n",
            "Epoch 11/50\n",
            "60000/60000 [==============================] - 2s 33us/step - loss: 0.1633 - accuracy: 0.8049 - val_loss: 0.1597 - val_accuracy: 0.8045\n",
            "Epoch 12/50\n",
            "60000/60000 [==============================] - 2s 33us/step - loss: 0.1594 - accuracy: 0.8055 - val_loss: 0.1560 - val_accuracy: 0.8053\n",
            "Epoch 13/50\n",
            "60000/60000 [==============================] - 2s 34us/step - loss: 0.1558 - accuracy: 0.8061 - val_loss: 0.1525 - val_accuracy: 0.8057\n",
            "Epoch 14/50\n",
            "60000/60000 [==============================] - 2s 33us/step - loss: 0.1524 - accuracy: 0.8067 - val_loss: 0.1493 - val_accuracy: 0.8065\n",
            "Epoch 15/50\n",
            "60000/60000 [==============================] - 2s 34us/step - loss: 0.1492 - accuracy: 0.8072 - val_loss: 0.1462 - val_accuracy: 0.8069\n",
            "Epoch 16/50\n",
            "60000/60000 [==============================] - 2s 34us/step - loss: 0.1462 - accuracy: 0.8077 - val_loss: 0.1433 - val_accuracy: 0.8073\n",
            "Epoch 17/50\n",
            "60000/60000 [==============================] - 2s 34us/step - loss: 0.1434 - accuracy: 0.8082 - val_loss: 0.1405 - val_accuracy: 0.8079\n",
            "Epoch 18/50\n",
            "60000/60000 [==============================] - 2s 33us/step - loss: 0.1407 - accuracy: 0.8086 - val_loss: 0.1380 - val_accuracy: 0.8084\n",
            "Epoch 19/50\n",
            "60000/60000 [==============================] - 2s 33us/step - loss: 0.1381 - accuracy: 0.8090 - val_loss: 0.1355 - val_accuracy: 0.8087\n",
            "Epoch 20/50\n",
            "60000/60000 [==============================] - 2s 34us/step - loss: 0.1357 - accuracy: 0.8094 - val_loss: 0.1330 - val_accuracy: 0.8089\n",
            "Epoch 21/50\n",
            "60000/60000 [==============================] - 2s 33us/step - loss: 0.1334 - accuracy: 0.8097 - val_loss: 0.1308 - val_accuracy: 0.8092\n",
            "Epoch 22/50\n",
            "60000/60000 [==============================] - 2s 33us/step - loss: 0.1312 - accuracy: 0.8101 - val_loss: 0.1286 - val_accuracy: 0.8095\n",
            "Epoch 23/50\n",
            "60000/60000 [==============================] - 2s 34us/step - loss: 0.1291 - accuracy: 0.8104 - val_loss: 0.1266 - val_accuracy: 0.8098\n",
            "Epoch 24/50\n",
            "60000/60000 [==============================] - 2s 34us/step - loss: 0.1272 - accuracy: 0.8107 - val_loss: 0.1247 - val_accuracy: 0.8101\n",
            "Epoch 25/50\n",
            "60000/60000 [==============================] - 2s 34us/step - loss: 0.1253 - accuracy: 0.8110 - val_loss: 0.1228 - val_accuracy: 0.8104\n",
            "Epoch 26/50\n",
            "60000/60000 [==============================] - 2s 34us/step - loss: 0.1235 - accuracy: 0.8112 - val_loss: 0.1211 - val_accuracy: 0.8106\n",
            "Epoch 27/50\n",
            "60000/60000 [==============================] - 2s 34us/step - loss: 0.1218 - accuracy: 0.8115 - val_loss: 0.1194 - val_accuracy: 0.8107\n",
            "Epoch 28/50\n",
            "60000/60000 [==============================] - 2s 34us/step - loss: 0.1202 - accuracy: 0.8117 - val_loss: 0.1179 - val_accuracy: 0.8111\n",
            "Epoch 29/50\n",
            "60000/60000 [==============================] - 2s 34us/step - loss: 0.1186 - accuracy: 0.8119 - val_loss: 0.1163 - val_accuracy: 0.8111\n",
            "Epoch 30/50\n",
            "60000/60000 [==============================] - 2s 33us/step - loss: 0.1172 - accuracy: 0.8121 - val_loss: 0.1150 - val_accuracy: 0.8114\n",
            "Epoch 31/50\n",
            "60000/60000 [==============================] - 2s 34us/step - loss: 0.1159 - accuracy: 0.8122 - val_loss: 0.1137 - val_accuracy: 0.8116\n",
            "Epoch 32/50\n",
            "60000/60000 [==============================] - 2s 33us/step - loss: 0.1146 - accuracy: 0.8124 - val_loss: 0.1124 - val_accuracy: 0.8116\n",
            "Epoch 33/50\n",
            "60000/60000 [==============================] - 2s 33us/step - loss: 0.1134 - accuracy: 0.8125 - val_loss: 0.1113 - val_accuracy: 0.8117\n",
            "Epoch 34/50\n",
            "60000/60000 [==============================] - 2s 34us/step - loss: 0.1124 - accuracy: 0.8126 - val_loss: 0.1103 - val_accuracy: 0.8118\n",
            "Epoch 35/50\n",
            "60000/60000 [==============================] - 2s 34us/step - loss: 0.1113 - accuracy: 0.8127 - val_loss: 0.1093 - val_accuracy: 0.8120\n",
            "Epoch 36/50\n",
            "60000/60000 [==============================] - 2s 33us/step - loss: 0.1104 - accuracy: 0.8128 - val_loss: 0.1083 - val_accuracy: 0.8120\n",
            "Epoch 37/50\n",
            "60000/60000 [==============================] - 2s 34us/step - loss: 0.1095 - accuracy: 0.8129 - val_loss: 0.1075 - val_accuracy: 0.8121\n",
            "Epoch 38/50\n",
            "60000/60000 [==============================] - 2s 34us/step - loss: 0.1086 - accuracy: 0.8130 - val_loss: 0.1067 - val_accuracy: 0.8122\n",
            "Epoch 39/50\n",
            "60000/60000 [==============================] - 2s 33us/step - loss: 0.1079 - accuracy: 0.8131 - val_loss: 0.1059 - val_accuracy: 0.8123\n",
            "Epoch 40/50\n",
            "60000/60000 [==============================] - 2s 34us/step - loss: 0.1071 - accuracy: 0.8132 - val_loss: 0.1052 - val_accuracy: 0.8124\n",
            "Epoch 41/50\n",
            "60000/60000 [==============================] - 2s 34us/step - loss: 0.1064 - accuracy: 0.8132 - val_loss: 0.1045 - val_accuracy: 0.8124\n",
            "Epoch 42/50\n",
            "60000/60000 [==============================] - 2s 33us/step - loss: 0.1058 - accuracy: 0.8133 - val_loss: 0.1039 - val_accuracy: 0.8125\n",
            "Epoch 43/50\n",
            "60000/60000 [==============================] - 2s 34us/step - loss: 0.1052 - accuracy: 0.8133 - val_loss: 0.1033 - val_accuracy: 0.8125\n",
            "Epoch 44/50\n",
            "60000/60000 [==============================] - 2s 34us/step - loss: 0.1046 - accuracy: 0.8134 - val_loss: 0.1028 - val_accuracy: 0.8125\n",
            "Epoch 45/50\n",
            "60000/60000 [==============================] - 2s 34us/step - loss: 0.1041 - accuracy: 0.8134 - val_loss: 0.1023 - val_accuracy: 0.8126\n",
            "Epoch 46/50\n",
            "60000/60000 [==============================] - 2s 34us/step - loss: 0.1036 - accuracy: 0.8135 - val_loss: 0.1018 - val_accuracy: 0.8126\n",
            "Epoch 47/50\n",
            "60000/60000 [==============================] - 2s 34us/step - loss: 0.1031 - accuracy: 0.8135 - val_loss: 0.1014 - val_accuracy: 0.8127\n",
            "Epoch 48/50\n",
            "60000/60000 [==============================] - 2s 34us/step - loss: 0.1027 - accuracy: 0.8136 - val_loss: 0.1009 - val_accuracy: 0.8127\n",
            "Epoch 49/50\n",
            "60000/60000 [==============================] - 2s 34us/step - loss: 0.1023 - accuracy: 0.8136 - val_loss: 0.1005 - val_accuracy: 0.8128\n",
            "Epoch 50/50\n",
            "60000/60000 [==============================] - 2s 34us/step - loss: 0.1019 - accuracy: 0.8136 - val_loss: 0.1001 - val_accuracy: 0.8128\n"
          ],
          "name": "stdout"
        },
        {
          "output_type": "execute_result",
          "data": {
            "text/plain": [
              "<keras.callbacks.callbacks.History at 0x7f500a6b9828>"
            ]
          },
          "metadata": {
            "tags": []
          },
          "execution_count": 17
        }
      ]
    },
    {
      "cell_type": "code",
      "metadata": {
        "id": "CVu5DIyOwFgA",
        "colab_type": "code",
        "colab": {}
      },
      "source": [
        "# encode and decode some digits\n",
        "# note that we take them from the *test* set\n",
        "encoded_imgs = encoder.predict(x_test)\n",
        "decoded_imgs = decoder.predict(encoded_imgs)"
      ],
      "execution_count": 18,
      "outputs": []
    },
    {
      "cell_type": "code",
      "metadata": {
        "id": "HDXUb6fuUuHY",
        "colab_type": "code",
        "colab": {}
      },
      "source": [
        "auto_imgs = autoencoder.predict(x_test)"
      ],
      "execution_count": 21,
      "outputs": []
    },
    {
      "cell_type": "code",
      "metadata": {
        "id": "bMP3vfOxxRFa",
        "colab_type": "code",
        "colab": {
          "base_uri": "https://localhost:8080/",
          "height": 209
        },
        "outputId": "666be15d-b854-4f56-bef3-d84082fedfcd"
      },
      "source": [
        "# use Matplotlib (don't ask)\n",
        "import matplotlib.pyplot as plt\n",
        "\n",
        "n = 10  # how many digits we will display\n",
        "plt.figure(figsize=(20, 4))\n",
        "for i in range(n):\n",
        "    # display original\n",
        "    ax = plt.subplot(2, n, i + 1)\n",
        "    plt.imshow(x_test[i].reshape(28, 28))\n",
        "    plt.gray()\n",
        "    ax.get_xaxis().set_visible(False)\n",
        "    ax.get_yaxis().set_visible(False)\n",
        "\n",
        "    # display reconstruction\n",
        "    \"\"\"\n",
        "    ax = plt.subplot(2, n, i + 1 + n)\n",
        "    plt.imshow(decoded_imgs[i].reshape(28, 28))\n",
        "    plt.gray()\n",
        "    ax.get_xaxis().set_visible(False)\n",
        "    ax.get_yaxis().set_visible(False)\n",
        "\n",
        "    \"\"\"\n",
        "\n",
        "    # display reconstruction\n",
        "    ax = plt.subplot(2, n, i + 1 + n)\n",
        "    plt.imshow(auto_imgs[i].reshape(28, 28))\n",
        "    plt.gray()\n",
        "    ax.get_xaxis().set_visible(False)\n",
        "    ax.get_yaxis().set_visible(False)\n",
        "plt.show()"
      ],
      "execution_count": 25,
      "outputs": [
        {
          "output_type": "display_data",
          "data": {
            "image/png": "[encoded data removed]",
            "text/plain": [
              "<Figure size 1440x288 with 20 Axes>"
            ]
          },
          "metadata": {
            "tags": [],
            "needs_background": "light"
          }
        }
      ]
    },
    {
      "cell_type": "code",
      "metadata": {
        "id": "L2L_i7yCxUQX",
        "colab_type": "code",
        "colab": {}
      },
      "source": [
        ""
      ],
      "execution_count": 19,
      "outputs": []
    }
  ]
}