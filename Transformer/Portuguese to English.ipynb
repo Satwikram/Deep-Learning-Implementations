{
  "nbformat": 4,
  "nbformat_minor": 0,
  "metadata": {
    "colab": {
      "name": "Portuguese to English.ipynb",
      "provenance": [],
      "collapsed_sections": [],
      "toc_visible": true,
      "authorship_tag": "ABX9TyO9CKGdApkZIAmPhBlWdpRq",
      "include_colab_link": true
    },
    "kernelspec": {
      "name": "python3",
      "display_name": "Python 3"
    },
    "accelerator": "TPU",
    "widgets": {
      "application/vnd.jupyter.widget-state+json": {
        "8d77f221a625413796c2564ca82b6dcf": {
          "model_module": "@jupyter-widgets/controls",
          "model_name": "HBoxModel",
          "state": {
            "_view_name": "HBoxView",
            "_dom_classes": [],
            "_model_name": "HBoxModel",
            "_view_module": "@jupyter-widgets/controls",
            "_model_module_version": "1.5.0",
            "_view_count": null,
            "_view_module_version": "1.5.0",
            "box_style": "",
            "layout": "IPY_MODEL_3273ca90a037453089001aaf8cd4ff65",
            "_model_module": "@jupyter-widgets/controls",
            "children": [
              "IPY_MODEL_da1b58ca59a145878526a23c16b67bcf",
              "IPY_MODEL_96322888b6344905ba41b4b6339147da"
            ]
          }
        },
        "3273ca90a037453089001aaf8cd4ff65": {
          "model_module": "@jupyter-widgets/base",
          "model_name": "LayoutModel",
          "state": {
            "_view_name": "LayoutView",
            "grid_template_rows": null,
            "right": null,
            "justify_content": null,
            "_view_module": "@jupyter-widgets/base",
            "overflow": null,
            "_model_module_version": "1.2.0",
            "_view_count": null,
            "flex_flow": null,
            "width": null,
            "min_width": null,
            "border": null,
            "align_items": null,
            "bottom": null,
            "_model_module": "@jupyter-widgets/base",
            "top": null,
            "grid_column": null,
            "overflow_y": null,
            "overflow_x": null,
            "grid_auto_flow": null,
            "grid_area": null,
            "grid_template_columns": null,
            "flex": null,
            "_model_name": "LayoutModel",
            "justify_items": null,
            "grid_row": null,
            "max_height": null,
            "align_content": null,
            "visibility": null,
            "align_self": null,
            "height": null,
            "min_height": null,
            "padding": null,
            "grid_auto_rows": null,
            "grid_gap": null,
            "max_width": null,
            "order": null,
            "_view_module_version": "1.2.0",
            "grid_template_areas": null,
            "object_position": null,
            "object_fit": null,
            "grid_auto_columns": null,
            "margin": null,
            "display": null,
            "left": null
          }
        },
        "da1b58ca59a145878526a23c16b67bcf": {
          "model_module": "@jupyter-widgets/controls",
          "model_name": "FloatProgressModel",
          "state": {
            "_view_name": "ProgressView",
            "style": "IPY_MODEL_aef7b57b0cd24f1698200ae85ff7655d",
            "_dom_classes": [],
            "description": "Dl Completed...: 100%",
            "_model_name": "FloatProgressModel",
            "bar_style": "success",
            "max": 1,
            "_view_module": "@jupyter-widgets/controls",
            "_model_module_version": "1.5.0",
            "value": 1,
            "_view_count": null,
            "_view_module_version": "1.5.0",
            "orientation": "horizontal",
            "min": 0,
            "description_tooltip": null,
            "_model_module": "@jupyter-widgets/controls",
            "layout": "IPY_MODEL_01952c388f9b4662b81c9c3013c32585"
          }
        },
        "96322888b6344905ba41b4b6339147da": {
          "model_module": "@jupyter-widgets/controls",
          "model_name": "HTMLModel",
          "state": {
            "_view_name": "HTMLView",
            "style": "IPY_MODEL_03d90bfe45504ee38ed3f43cdd6a691c",
            "_dom_classes": [],
            "description": "",
            "_model_name": "HTMLModel",
            "placeholder": "​",
            "_view_module": "@jupyter-widgets/controls",
            "_model_module_version": "1.5.0",
            "value": " 1/1 [00:20&lt;00:00, 20.64s/ url]",
            "_view_count": null,
            "_view_module_version": "1.5.0",
            "description_tooltip": null,
            "_model_module": "@jupyter-widgets/controls",
            "layout": "IPY_MODEL_e353c6b72cd64cdf97abfc896e229bb7"
          }
        },
        "aef7b57b0cd24f1698200ae85ff7655d": {
          "model_module": "@jupyter-widgets/controls",
          "model_name": "ProgressStyleModel",
          "state": {
            "_view_name": "StyleView",
            "_model_name": "ProgressStyleModel",
            "description_width": "initial",
            "_view_module": "@jupyter-widgets/base",
            "_model_module_version": "1.5.0",
            "_view_count": null,
            "_view_module_version": "1.2.0",
            "bar_color": null,
            "_model_module": "@jupyter-widgets/controls"
          }
        },
        "01952c388f9b4662b81c9c3013c32585": {
          "model_module": "@jupyter-widgets/base",
          "model_name": "LayoutModel",
          "state": {
            "_view_name": "LayoutView",
            "grid_template_rows": null,
            "right": null,
            "justify_content": null,
            "_view_module": "@jupyter-widgets/base",
            "overflow": null,
            "_model_module_version": "1.2.0",
            "_view_count": null,
            "flex_flow": null,
            "width": null,
            "min_width": null,
            "border": null,
            "align_items": null,
            "bottom": null,
            "_model_module": "@jupyter-widgets/base",
            "top": null,
            "grid_column": null,
            "overflow_y": null,
            "overflow_x": null,
            "grid_auto_flow": null,
            "grid_area": null,
            "grid_template_columns": null,
            "flex": null,
            "_model_name": "LayoutModel",
            "justify_items": null,
            "grid_row": null,
            "max_height": null,
            "align_content": null,
            "visibility": null,
            "align_self": null,
            "height": null,
            "min_height": null,
            "padding": null,
            "grid_auto_rows": null,
            "grid_gap": null,
            "max_width": null,
            "order": null,
            "_view_module_version": "1.2.0",
            "grid_template_areas": null,
            "object_position": null,
            "object_fit": null,
            "grid_auto_columns": null,
            "margin": null,
            "display": null,
            "left": null
          }
        },
        "03d90bfe45504ee38ed3f43cdd6a691c": {
          "model_module": "@jupyter-widgets/controls",
          "model_name": "DescriptionStyleModel",
          "state": {
            "_view_name": "StyleView",
            "_model_name": "DescriptionStyleModel",
            "description_width": "",
            "_view_module": "@jupyter-widgets/base",
            "_model_module_version": "1.5.0",
            "_view_count": null,
            "_view_module_version": "1.2.0",
            "_model_module": "@jupyter-widgets/controls"
          }
        },
        "e353c6b72cd64cdf97abfc896e229bb7": {
          "model_module": "@jupyter-widgets/base",
          "model_name": "LayoutModel",
          "state": {
            "_view_name": "LayoutView",
            "grid_template_rows": null,
            "right": null,
            "justify_content": null,
            "_view_module": "@jupyter-widgets/base",
            "overflow": null,
            "_model_module_version": "1.2.0",
            "_view_count": null,
            "flex_flow": null,
            "width": null,
            "min_width": null,
            "border": null,
            "align_items": null,
            "bottom": null,
            "_model_module": "@jupyter-widgets/base",
            "top": null,
            "grid_column": null,
            "overflow_y": null,
            "overflow_x": null,
            "grid_auto_flow": null,
            "grid_area": null,
            "grid_template_columns": null,
            "flex": null,
            "_model_name": "LayoutModel",
            "justify_items": null,
            "grid_row": null,
            "max_height": null,
            "align_content": null,
            "visibility": null,
            "align_self": null,
            "height": null,
            "min_height": null,
            "padding": null,
            "grid_auto_rows": null,
            "grid_gap": null,
            "max_width": null,
            "order": null,
            "_view_module_version": "1.2.0",
            "grid_template_areas": null,
            "object_position": null,
            "object_fit": null,
            "grid_auto_columns": null,
            "margin": null,
            "display": null,
            "left": null
          }
        },
        "29941f58aaa94e8190bc3c66f1f53cd8": {
          "model_module": "@jupyter-widgets/controls",
          "model_name": "HBoxModel",
          "state": {
            "_view_name": "HBoxView",
            "_dom_classes": [],
            "_model_name": "HBoxModel",
            "_view_module": "@jupyter-widgets/controls",
            "_model_module_version": "1.5.0",
            "_view_count": null,
            "_view_module_version": "1.5.0",
            "box_style": "",
            "layout": "IPY_MODEL_5f3c08a4e2e04207be5b9fbd721ce706",
            "_model_module": "@jupyter-widgets/controls",
            "children": [
              "IPY_MODEL_52cafb4df3834b53a6d04100f5751ea9",
              "IPY_MODEL_6299f60bbd7747cb808d7a7d4d345669"
            ]
          }
        },
        "5f3c08a4e2e04207be5b9fbd721ce706": {
          "model_module": "@jupyter-widgets/base",
          "model_name": "LayoutModel",
          "state": {
            "_view_name": "LayoutView",
            "grid_template_rows": null,
            "right": null,
            "justify_content": null,
            "_view_module": "@jupyter-widgets/base",
            "overflow": null,
            "_model_module_version": "1.2.0",
            "_view_count": null,
            "flex_flow": null,
            "width": null,
            "min_width": null,
            "border": null,
            "align_items": null,
            "bottom": null,
            "_model_module": "@jupyter-widgets/base",
            "top": null,
            "grid_column": null,
            "overflow_y": null,
            "overflow_x": null,
            "grid_auto_flow": null,
            "grid_area": null,
            "grid_template_columns": null,
            "flex": null,
            "_model_name": "LayoutModel",
            "justify_items": null,
            "grid_row": null,
            "max_height": null,
            "align_content": null,
            "visibility": null,
            "align_self": null,
            "height": null,
            "min_height": null,
            "padding": null,
            "grid_auto_rows": null,
            "grid_gap": null,
            "max_width": null,
            "order": null,
            "_view_module_version": "1.2.0",
            "grid_template_areas": null,
            "object_position": null,
            "object_fit": null,
            "grid_auto_columns": null,
            "margin": null,
            "display": null,
            "left": null
          }
        },
        "52cafb4df3834b53a6d04100f5751ea9": {
          "model_module": "@jupyter-widgets/controls",
          "model_name": "FloatProgressModel",
          "state": {
            "_view_name": "ProgressView",
            "style": "IPY_MODEL_978c99bc99d24fd0b640f4b6f9e7ce79",
            "_dom_classes": [],
            "description": "Dl Size...: 100%",
            "_model_name": "FloatProgressModel",
            "bar_style": "success",
            "max": 1,
            "_view_module": "@jupyter-widgets/controls",
            "_model_module_version": "1.5.0",
            "value": 1,
            "_view_count": null,
            "_view_module_version": "1.5.0",
            "orientation": "horizontal",
            "min": 0,
            "description_tooltip": null,
            "_model_module": "@jupyter-widgets/controls",
            "layout": "IPY_MODEL_b694ab889b39457b8abf19cae6e4c382"
          }
        },
        "6299f60bbd7747cb808d7a7d4d345669": {
          "model_module": "@jupyter-widgets/controls",
          "model_name": "HTMLModel",
          "state": {
            "_view_name": "HTMLView",
            "style": "IPY_MODEL_6c825dc5f92349689fb72b3d98d5b467",
            "_dom_classes": [],
            "description": "",
            "_model_name": "HTMLModel",
            "placeholder": "​",
            "_view_module": "@jupyter-widgets/controls",
            "_model_module_version": "1.5.0",
            "value": " 124/124 [00:20&lt;00:00,  6.02 MiB/s]",
            "_view_count": null,
            "_view_module_version": "1.5.0",
            "description_tooltip": null,
            "_model_module": "@jupyter-widgets/controls",
            "layout": "IPY_MODEL_057c2b7859cc4c6fbc84392c38c20b4f"
          }
        },
        "978c99bc99d24fd0b640f4b6f9e7ce79": {
          "model_module": "@jupyter-widgets/controls",
          "model_name": "ProgressStyleModel",
          "state": {
            "_view_name": "StyleView",
            "_model_name": "ProgressStyleModel",
            "description_width": "initial",
            "_view_module": "@jupyter-widgets/base",
            "_model_module_version": "1.5.0",
            "_view_count": null,
            "_view_module_version": "1.2.0",
            "bar_color": null,
            "_model_module": "@jupyter-widgets/controls"
          }
        },
        "b694ab889b39457b8abf19cae6e4c382": {
          "model_module": "@jupyter-widgets/base",
          "model_name": "LayoutModel",
          "state": {
            "_view_name": "LayoutView",
            "grid_template_rows": null,
            "right": null,
            "justify_content": null,
            "_view_module": "@jupyter-widgets/base",
            "overflow": null,
            "_model_module_version": "1.2.0",
            "_view_count": null,
            "flex_flow": null,
            "width": null,
            "min_width": null,
            "border": null,
            "align_items": null,
            "bottom": null,
            "_model_module": "@jupyter-widgets/base",
            "top": null,
            "grid_column": null,
            "overflow_y": null,
            "overflow_x": null,
            "grid_auto_flow": null,
            "grid_area": null,
            "grid_template_columns": null,
            "flex": null,
            "_model_name": "LayoutModel",
            "justify_items": null,
            "grid_row": null,
            "max_height": null,
            "align_content": null,
            "visibility": null,
            "align_self": null,
            "height": null,
            "min_height": null,
            "padding": null,
            "grid_auto_rows": null,
            "grid_gap": null,
            "max_width": null,
            "order": null,
            "_view_module_version": "1.2.0",
            "grid_template_areas": null,
            "object_position": null,
            "object_fit": null,
            "grid_auto_columns": null,
            "margin": null,
            "display": null,
            "left": null
          }
        },
        "6c825dc5f92349689fb72b3d98d5b467": {
          "model_module": "@jupyter-widgets/controls",
          "model_name": "DescriptionStyleModel",
          "state": {
            "_view_name": "StyleView",
            "_model_name": "DescriptionStyleModel",
            "description_width": "",
            "_view_module": "@jupyter-widgets/base",
            "_model_module_version": "1.5.0",
            "_view_count": null,
            "_view_module_version": "1.2.0",
            "_model_module": "@jupyter-widgets/controls"
          }
        },
        "057c2b7859cc4c6fbc84392c38c20b4f": {
          "model_module": "@jupyter-widgets/base",
          "model_name": "LayoutModel",
          "state": {
            "_view_name": "LayoutView",
            "grid_template_rows": null,
            "right": null,
            "justify_content": null,
            "_view_module": "@jupyter-widgets/base",
            "overflow": null,
            "_model_module_version": "1.2.0",
            "_view_count": null,
            "flex_flow": null,
            "width": null,
            "min_width": null,
            "border": null,
            "align_items": null,
            "bottom": null,
            "_model_module": "@jupyter-widgets/base",
            "top": null,
            "grid_column": null,
            "overflow_y": null,
            "overflow_x": null,
            "grid_auto_flow": null,
            "grid_area": null,
            "grid_template_columns": null,
            "flex": null,
            "_model_name": "LayoutModel",
            "justify_items": null,
            "grid_row": null,
            "max_height": null,
            "align_content": null,
            "visibility": null,
            "align_self": null,
            "height": null,
            "min_height": null,
            "padding": null,
            "grid_auto_rows": null,
            "grid_gap": null,
            "max_width": null,
            "order": null,
            "_view_module_version": "1.2.0",
            "grid_template_areas": null,
            "object_position": null,
            "object_fit": null,
            "grid_auto_columns": null,
            "margin": null,
            "display": null,
            "left": null
          }
        },
        "b09e315a91de428fad4a5d5f25ebf32f": {
          "model_module": "@jupyter-widgets/controls",
          "model_name": "HBoxModel",
          "state": {
            "_view_name": "HBoxView",
            "_dom_classes": [],
            "_model_name": "HBoxModel",
            "_view_module": "@jupyter-widgets/controls",
            "_model_module_version": "1.5.0",
            "_view_count": null,
            "_view_module_version": "1.5.0",
            "box_style": "",
            "layout": "IPY_MODEL_722d16fa3c0a4ac9aca482e6f76cd0c8",
            "_model_module": "@jupyter-widgets/controls",
            "children": [
              "IPY_MODEL_f0847201a2b34e16a31506f85d3d49ff",
              "IPY_MODEL_13f5ae9c7b2841f5b7e93657d191a594"
            ]
          }
        },
        "722d16fa3c0a4ac9aca482e6f76cd0c8": {
          "model_module": "@jupyter-widgets/base",
          "model_name": "LayoutModel",
          "state": {
            "_view_name": "LayoutView",
            "grid_template_rows": null,
            "right": null,
            "justify_content": null,
            "_view_module": "@jupyter-widgets/base",
            "overflow": null,
            "_model_module_version": "1.2.0",
            "_view_count": null,
            "flex_flow": null,
            "width": null,
            "min_width": null,
            "border": null,
            "align_items": null,
            "bottom": null,
            "_model_module": "@jupyter-widgets/base",
            "top": null,
            "grid_column": null,
            "overflow_y": null,
            "overflow_x": null,
            "grid_auto_flow": null,
            "grid_area": null,
            "grid_template_columns": null,
            "flex": null,
            "_model_name": "LayoutModel",
            "justify_items": null,
            "grid_row": null,
            "max_height": null,
            "align_content": null,
            "visibility": null,
            "align_self": null,
            "height": null,
            "min_height": null,
            "padding": null,
            "grid_auto_rows": null,
            "grid_gap": null,
            "max_width": null,
            "order": null,
            "_view_module_version": "1.2.0",
            "grid_template_areas": null,
            "object_position": null,
            "object_fit": null,
            "grid_auto_columns": null,
            "margin": null,
            "display": null,
            "left": null
          }
        },
        "f0847201a2b34e16a31506f85d3d49ff": {
          "model_module": "@jupyter-widgets/controls",
          "model_name": "FloatProgressModel",
          "state": {
            "_view_name": "ProgressView",
            "style": "IPY_MODEL_878e1e3aed13447b9159ec35fbd95970",
            "_dom_classes": [],
            "description": "Extraction completed...: 100%",
            "_model_name": "FloatProgressModel",
            "bar_style": "success",
            "max": 1,
            "_view_module": "@jupyter-widgets/controls",
            "_model_module_version": "1.5.0",
            "value": 1,
            "_view_count": null,
            "_view_module_version": "1.5.0",
            "orientation": "horizontal",
            "min": 0,
            "description_tooltip": null,
            "_model_module": "@jupyter-widgets/controls",
            "layout": "IPY_MODEL_915c23e664a248dbbbd516ad475f8552"
          }
        },
        "13f5ae9c7b2841f5b7e93657d191a594": {
          "model_module": "@jupyter-widgets/controls",
          "model_name": "HTMLModel",
          "state": {
            "_view_name": "HTMLView",
            "style": "IPY_MODEL_f80b849704da4d9d97a68975bb102f42",
            "_dom_classes": [],
            "description": "",
            "_model_name": "HTMLModel",
            "placeholder": "​",
            "_view_module": "@jupyter-widgets/controls",
            "_model_module_version": "1.5.0",
            "value": " 1/1 [00:20&lt;00:00, 20.54s/ file]",
            "_view_count": null,
            "_view_module_version": "1.5.0",
            "description_tooltip": null,
            "_model_module": "@jupyter-widgets/controls",
            "layout": "IPY_MODEL_be06968799b5453d8f072be7559d6478"
          }
        },
        "878e1e3aed13447b9159ec35fbd95970": {
          "model_module": "@jupyter-widgets/controls",
          "model_name": "ProgressStyleModel",
          "state": {
            "_view_name": "StyleView",
            "_model_name": "ProgressStyleModel",
            "description_width": "initial",
            "_view_module": "@jupyter-widgets/base",
            "_model_module_version": "1.5.0",
            "_view_count": null,
            "_view_module_version": "1.2.0",
            "bar_color": null,
            "_model_module": "@jupyter-widgets/controls"
          }
        },
        "915c23e664a248dbbbd516ad475f8552": {
          "model_module": "@jupyter-widgets/base",
          "model_name": "LayoutModel",
          "state": {
            "_view_name": "LayoutView",
            "grid_template_rows": null,
            "right": null,
            "justify_content": null,
            "_view_module": "@jupyter-widgets/base",
            "overflow": null,
            "_model_module_version": "1.2.0",
            "_view_count": null,
            "flex_flow": null,
            "width": null,
            "min_width": null,
            "border": null,
            "align_items": null,
            "bottom": null,
            "_model_module": "@jupyter-widgets/base",
            "top": null,
            "grid_column": null,
            "overflow_y": null,
            "overflow_x": null,
            "grid_auto_flow": null,
            "grid_area": null,
            "grid_template_columns": null,
            "flex": null,
            "_model_name": "LayoutModel",
            "justify_items": null,
            "grid_row": null,
            "max_height": null,
            "align_content": null,
            "visibility": null,
            "align_self": null,
            "height": null,
            "min_height": null,
            "padding": null,
            "grid_auto_rows": null,
            "grid_gap": null,
            "max_width": null,
            "order": null,
            "_view_module_version": "1.2.0",
            "grid_template_areas": null,
            "object_position": null,
            "object_fit": null,
            "grid_auto_columns": null,
            "margin": null,
            "display": null,
            "left": null
          }
        },
        "f80b849704da4d9d97a68975bb102f42": {
          "model_module": "@jupyter-widgets/controls",
          "model_name": "DescriptionStyleModel",
          "state": {
            "_view_name": "StyleView",
            "_model_name": "DescriptionStyleModel",
            "description_width": "",
            "_view_module": "@jupyter-widgets/base",
            "_model_module_version": "1.5.0",
            "_view_count": null,
            "_view_module_version": "1.2.0",
            "_model_module": "@jupyter-widgets/controls"
          }
        },
        "be06968799b5453d8f072be7559d6478": {
          "model_module": "@jupyter-widgets/base",
          "model_name": "LayoutModel",
          "state": {
            "_view_name": "LayoutView",
            "grid_template_rows": null,
            "right": null,
            "justify_content": null,
            "_view_module": "@jupyter-widgets/base",
            "overflow": null,
            "_model_module_version": "1.2.0",
            "_view_count": null,
            "flex_flow": null,
            "width": null,
            "min_width": null,
            "border": null,
            "align_items": null,
            "bottom": null,
            "_model_module": "@jupyter-widgets/base",
            "top": null,
            "grid_column": null,
            "overflow_y": null,
            "overflow_x": null,
            "grid_auto_flow": null,
            "grid_area": null,
            "grid_template_columns": null,
            "flex": null,
            "_model_name": "LayoutModel",
            "justify_items": null,
            "grid_row": null,
            "max_height": null,
            "align_content": null,
            "visibility": null,
            "align_self": null,
            "height": null,
            "min_height": null,
            "padding": null,
            "grid_auto_rows": null,
            "grid_gap": null,
            "max_width": null,
            "order": null,
            "_view_module_version": "1.2.0",
            "grid_template_areas": null,
            "object_position": null,
            "object_fit": null,
            "grid_auto_columns": null,
            "margin": null,
            "display": null,
            "left": null
          }
        },
        "fbff5b9348524430b13dba2c431fb9b2": {
          "model_module": "@jupyter-widgets/controls",
          "model_name": "HBoxModel",
          "state": {
            "_view_name": "HBoxView",
            "_dom_classes": [],
            "_model_name": "HBoxModel",
            "_view_module": "@jupyter-widgets/controls",
            "_model_module_version": "1.5.0",
            "_view_count": null,
            "_view_module_version": "1.5.0",
            "box_style": "",
            "layout": "IPY_MODEL_e193668cd5734b23acd4307681a23f1f",
            "_model_module": "@jupyter-widgets/controls",
            "children": [
              "IPY_MODEL_5e156b57f98a44c1a60a5193e429911a",
              "IPY_MODEL_866624c813ec45038179da7c5b040325"
            ]
          }
        },
        "e193668cd5734b23acd4307681a23f1f": {
          "model_module": "@jupyter-widgets/base",
          "model_name": "LayoutModel",
          "state": {
            "_view_name": "LayoutView",
            "grid_template_rows": null,
            "right": null,
            "justify_content": null,
            "_view_module": "@jupyter-widgets/base",
            "overflow": null,
            "_model_module_version": "1.2.0",
            "_view_count": null,
            "flex_flow": null,
            "width": null,
            "min_width": null,
            "border": null,
            "align_items": null,
            "bottom": null,
            "_model_module": "@jupyter-widgets/base",
            "top": null,
            "grid_column": null,
            "overflow_y": null,
            "overflow_x": null,
            "grid_auto_flow": null,
            "grid_area": null,
            "grid_template_columns": null,
            "flex": null,
            "_model_name": "LayoutModel",
            "justify_items": null,
            "grid_row": null,
            "max_height": null,
            "align_content": null,
            "visibility": null,
            "align_self": null,
            "height": null,
            "min_height": null,
            "padding": null,
            "grid_auto_rows": null,
            "grid_gap": null,
            "max_width": null,
            "order": null,
            "_view_module_version": "1.2.0",
            "grid_template_areas": null,
            "object_position": null,
            "object_fit": null,
            "grid_auto_columns": null,
            "margin": null,
            "display": null,
            "left": null
          }
        },
        "5e156b57f98a44c1a60a5193e429911a": {
          "model_module": "@jupyter-widgets/controls",
          "model_name": "FloatProgressModel",
          "state": {
            "_view_name": "ProgressView",
            "style": "IPY_MODEL_6ece9a3e143d4abca23e560385ea890a",
            "_dom_classes": [],
            "description": "",
            "_model_name": "FloatProgressModel",
            "bar_style": "info",
            "max": 1,
            "_view_module": "@jupyter-widgets/controls",
            "_model_module_version": "1.5.0",
            "value": 1,
            "_view_count": null,
            "_view_module_version": "1.5.0",
            "orientation": "horizontal",
            "min": 0,
            "description_tooltip": null,
            "_model_module": "@jupyter-widgets/controls",
            "layout": "IPY_MODEL_d358209900cf47d292f91a7203ce665a"
          }
        },
        "866624c813ec45038179da7c5b040325": {
          "model_module": "@jupyter-widgets/controls",
          "model_name": "HTMLModel",
          "state": {
            "_view_name": "HTMLView",
            "style": "IPY_MODEL_0ee6df2f250342a199e8085edb9e2c59",
            "_dom_classes": [],
            "description": "",
            "_model_name": "HTMLModel",
            "placeholder": "​",
            "_view_module": "@jupyter-widgets/controls",
            "_model_module_version": "1.5.0",
            "value": " 51785/0 [00:11&lt;00:00, 4622.33 examples/s]",
            "_view_count": null,
            "_view_module_version": "1.5.0",
            "description_tooltip": null,
            "_model_module": "@jupyter-widgets/controls",
            "layout": "IPY_MODEL_8794ddb18fba4b689afb4d4c91dcaa14"
          }
        },
        "6ece9a3e143d4abca23e560385ea890a": {
          "model_module": "@jupyter-widgets/controls",
          "model_name": "ProgressStyleModel",
          "state": {
            "_view_name": "StyleView",
            "_model_name": "ProgressStyleModel",
            "description_width": "initial",
            "_view_module": "@jupyter-widgets/base",
            "_model_module_version": "1.5.0",
            "_view_count": null,
            "_view_module_version": "1.2.0",
            "bar_color": null,
            "_model_module": "@jupyter-widgets/controls"
          }
        },
        "d358209900cf47d292f91a7203ce665a": {
          "model_module": "@jupyter-widgets/base",
          "model_name": "LayoutModel",
          "state": {
            "_view_name": "LayoutView",
            "grid_template_rows": null,
            "right": null,
            "justify_content": null,
            "_view_module": "@jupyter-widgets/base",
            "overflow": null,
            "_model_module_version": "1.2.0",
            "_view_count": null,
            "flex_flow": null,
            "width": null,
            "min_width": null,
            "border": null,
            "align_items": null,
            "bottom": null,
            "_model_module": "@jupyter-widgets/base",
            "top": null,
            "grid_column": null,
            "overflow_y": null,
            "overflow_x": null,
            "grid_auto_flow": null,
            "grid_area": null,
            "grid_template_columns": null,
            "flex": null,
            "_model_name": "LayoutModel",
            "justify_items": null,
            "grid_row": null,
            "max_height": null,
            "align_content": null,
            "visibility": null,
            "align_self": null,
            "height": null,
            "min_height": null,
            "padding": null,
            "grid_auto_rows": null,
            "grid_gap": null,
            "max_width": null,
            "order": null,
            "_view_module_version": "1.2.0",
            "grid_template_areas": null,
            "object_position": null,
            "object_fit": null,
            "grid_auto_columns": null,
            "margin": null,
            "display": null,
            "left": null
          }
        },
        "0ee6df2f250342a199e8085edb9e2c59": {
          "model_module": "@jupyter-widgets/controls",
          "model_name": "DescriptionStyleModel",
          "state": {
            "_view_name": "StyleView",
            "_model_name": "DescriptionStyleModel",
            "description_width": "",
            "_view_module": "@jupyter-widgets/base",
            "_model_module_version": "1.5.0",
            "_view_count": null,
            "_view_module_version": "1.2.0",
            "_model_module": "@jupyter-widgets/controls"
          }
        },
        "8794ddb18fba4b689afb4d4c91dcaa14": {
          "model_module": "@jupyter-widgets/base",
          "model_name": "LayoutModel",
          "state": {
            "_view_name": "LayoutView",
            "grid_template_rows": null,
            "right": null,
            "justify_content": null,
            "_view_module": "@jupyter-widgets/base",
            "overflow": null,
            "_model_module_version": "1.2.0",
            "_view_count": null,
            "flex_flow": null,
            "width": null,
            "min_width": null,
            "border": null,
            "align_items": null,
            "bottom": null,
            "_model_module": "@jupyter-widgets/base",
            "top": null,
            "grid_column": null,
            "overflow_y": null,
            "overflow_x": null,
            "grid_auto_flow": null,
            "grid_area": null,
            "grid_template_columns": null,
            "flex": null,
            "_model_name": "LayoutModel",
            "justify_items": null,
            "grid_row": null,
            "max_height": null,
            "align_content": null,
            "visibility": null,
            "align_self": null,
            "height": null,
            "min_height": null,
            "padding": null,
            "grid_auto_rows": null,
            "grid_gap": null,
            "max_width": null,
            "order": null,
            "_view_module_version": "1.2.0",
            "grid_template_areas": null,
            "object_position": null,
            "object_fit": null,
            "grid_auto_columns": null,
            "margin": null,
            "display": null,
            "left": null
          }
        },
        "20025ed41d09431ca89e85ecae8f59f2": {
          "model_module": "@jupyter-widgets/controls",
          "model_name": "HBoxModel",
          "state": {
            "_view_name": "HBoxView",
            "_dom_classes": [],
            "_model_name": "HBoxModel",
            "_view_module": "@jupyter-widgets/controls",
            "_model_module_version": "1.5.0",
            "_view_count": null,
            "_view_module_version": "1.5.0",
            "box_style": "",
            "layout": "IPY_MODEL_ca43c5405401496b82db11950bf1b08e",
            "_model_module": "@jupyter-widgets/controls",
            "children": [
              "IPY_MODEL_2db88dcf6eba4bae8b40303fec26a609",
              "IPY_MODEL_37d2ecd3ba744ac38fd8ad5eb8b20713"
            ]
          }
        },
        "ca43c5405401496b82db11950bf1b08e": {
          "model_module": "@jupyter-widgets/base",
          "model_name": "LayoutModel",
          "state": {
            "_view_name": "LayoutView",
            "grid_template_rows": null,
            "right": null,
            "justify_content": null,
            "_view_module": "@jupyter-widgets/base",
            "overflow": null,
            "_model_module_version": "1.2.0",
            "_view_count": null,
            "flex_flow": null,
            "width": null,
            "min_width": null,
            "border": null,
            "align_items": null,
            "bottom": null,
            "_model_module": "@jupyter-widgets/base",
            "top": null,
            "grid_column": null,
            "overflow_y": null,
            "overflow_x": null,
            "grid_auto_flow": null,
            "grid_area": null,
            "grid_template_columns": null,
            "flex": null,
            "_model_name": "LayoutModel",
            "justify_items": null,
            "grid_row": null,
            "max_height": null,
            "align_content": null,
            "visibility": null,
            "align_self": null,
            "height": null,
            "min_height": null,
            "padding": null,
            "grid_auto_rows": null,
            "grid_gap": null,
            "max_width": null,
            "order": null,
            "_view_module_version": "1.2.0",
            "grid_template_areas": null,
            "object_position": null,
            "object_fit": null,
            "grid_auto_columns": null,
            "margin": null,
            "display": null,
            "left": null
          }
        },
        "2db88dcf6eba4bae8b40303fec26a609": {
          "model_module": "@jupyter-widgets/controls",
          "model_name": "FloatProgressModel",
          "state": {
            "_view_name": "ProgressView",
            "style": "IPY_MODEL_8aef779e9c884f498c56367d48eb052e",
            "_dom_classes": [],
            "description": " 72%",
            "_model_name": "FloatProgressModel",
            "bar_style": "danger",
            "max": 51785,
            "_view_module": "@jupyter-widgets/controls",
            "_model_module_version": "1.5.0",
            "value": 37467,
            "_view_count": null,
            "_view_module_version": "1.5.0",
            "orientation": "horizontal",
            "min": 0,
            "description_tooltip": null,
            "_model_module": "@jupyter-widgets/controls",
            "layout": "IPY_MODEL_1cf4c190662d444fb350b0ba84c01b42"
          }
        },
        "37d2ecd3ba744ac38fd8ad5eb8b20713": {
          "model_module": "@jupyter-widgets/controls",
          "model_name": "HTMLModel",
          "state": {
            "_view_name": "HTMLView",
            "style": "IPY_MODEL_db80e6ba1d284935a075c86d36808c20",
            "_dom_classes": [],
            "description": "",
            "_model_name": "HTMLModel",
            "placeholder": "​",
            "_view_module": "@jupyter-widgets/controls",
            "_model_module_version": "1.5.0",
            "value": " 37467/51785 [00:00&lt;22:23, 10.66 examples/s]",
            "_view_count": null,
            "_view_module_version": "1.5.0",
            "description_tooltip": null,
            "_model_module": "@jupyter-widgets/controls",
            "layout": "IPY_MODEL_fd23ab4fc9514010938abaa0cf2eacba"
          }
        },
        "8aef779e9c884f498c56367d48eb052e": {
          "model_module": "@jupyter-widgets/controls",
          "model_name": "ProgressStyleModel",
          "state": {
            "_view_name": "StyleView",
            "_model_name": "ProgressStyleModel",
            "description_width": "initial",
            "_view_module": "@jupyter-widgets/base",
            "_model_module_version": "1.5.0",
            "_view_count": null,
            "_view_module_version": "1.2.0",
            "bar_color": null,
            "_model_module": "@jupyter-widgets/controls"
          }
        },
        "1cf4c190662d444fb350b0ba84c01b42": {
          "model_module": "@jupyter-widgets/base",
          "model_name": "LayoutModel",
          "state": {
            "_view_name": "LayoutView",
            "grid_template_rows": null,
            "right": null,
            "justify_content": null,
            "_view_module": "@jupyter-widgets/base",
            "overflow": null,
            "_model_module_version": "1.2.0",
            "_view_count": null,
            "flex_flow": null,
            "width": null,
            "min_width": null,
            "border": null,
            "align_items": null,
            "bottom": null,
            "_model_module": "@jupyter-widgets/base",
            "top": null,
            "grid_column": null,
            "overflow_y": null,
            "overflow_x": null,
            "grid_auto_flow": null,
            "grid_area": null,
            "grid_template_columns": null,
            "flex": null,
            "_model_name": "LayoutModel",
            "justify_items": null,
            "grid_row": null,
            "max_height": null,
            "align_content": null,
            "visibility": null,
            "align_self": null,
            "height": null,
            "min_height": null,
            "padding": null,
            "grid_auto_rows": null,
            "grid_gap": null,
            "max_width": null,
            "order": null,
            "_view_module_version": "1.2.0",
            "grid_template_areas": null,
            "object_position": null,
            "object_fit": null,
            "grid_auto_columns": null,
            "margin": null,
            "display": null,
            "left": null
          }
        },
        "db80e6ba1d284935a075c86d36808c20": {
          "model_module": "@jupyter-widgets/controls",
          "model_name": "DescriptionStyleModel",
          "state": {
            "_view_name": "StyleView",
            "_model_name": "DescriptionStyleModel",
            "description_width": "",
            "_view_module": "@jupyter-widgets/base",
            "_model_module_version": "1.5.0",
            "_view_count": null,
            "_view_module_version": "1.2.0",
            "_model_module": "@jupyter-widgets/controls"
          }
        },
        "fd23ab4fc9514010938abaa0cf2eacba": {
          "model_module": "@jupyter-widgets/base",
          "model_name": "LayoutModel",
          "state": {
            "_view_name": "LayoutView",
            "grid_template_rows": null,
            "right": null,
            "justify_content": null,
            "_view_module": "@jupyter-widgets/base",
            "overflow": null,
            "_model_module_version": "1.2.0",
            "_view_count": null,
            "flex_flow": null,
            "width": null,
            "min_width": null,
            "border": null,
            "align_items": null,
            "bottom": null,
            "_model_module": "@jupyter-widgets/base",
            "top": null,
            "grid_column": null,
            "overflow_y": null,
            "overflow_x": null,
            "grid_auto_flow": null,
            "grid_area": null,
            "grid_template_columns": null,
            "flex": null,
            "_model_name": "LayoutModel",
            "justify_items": null,
            "grid_row": null,
            "max_height": null,
            "align_content": null,
            "visibility": null,
            "align_self": null,
            "height": null,
            "min_height": null,
            "padding": null,
            "grid_auto_rows": null,
            "grid_gap": null,
            "max_width": null,
            "order": null,
            "_view_module_version": "1.2.0",
            "grid_template_areas": null,
            "object_position": null,
            "object_fit": null,
            "grid_auto_columns": null,
            "margin": null,
            "display": null,
            "left": null
          }
        },
        "042e54995fc64485985ecc3909793c25": {
          "model_module": "@jupyter-widgets/controls",
          "model_name": "HBoxModel",
          "state": {
            "_view_name": "HBoxView",
            "_dom_classes": [],
            "_model_name": "HBoxModel",
            "_view_module": "@jupyter-widgets/controls",
            "_model_module_version": "1.5.0",
            "_view_count": null,
            "_view_module_version": "1.5.0",
            "box_style": "",
            "layout": "IPY_MODEL_24c8024e4f5942be8d59f0a038cfce36",
            "_model_module": "@jupyter-widgets/controls",
            "children": [
              "IPY_MODEL_8bcd480a9dda4b70ad3aba1d011aa26f",
              "IPY_MODEL_4d055b9ad75345a1aecf900750d1d964"
            ]
          }
        },
        "24c8024e4f5942be8d59f0a038cfce36": {
          "model_module": "@jupyter-widgets/base",
          "model_name": "LayoutModel",
          "state": {
            "_view_name": "LayoutView",
            "grid_template_rows": null,
            "right": null,
            "justify_content": null,
            "_view_module": "@jupyter-widgets/base",
            "overflow": null,
            "_model_module_version": "1.2.0",
            "_view_count": null,
            "flex_flow": null,
            "width": null,
            "min_width": null,
            "border": null,
            "align_items": null,
            "bottom": null,
            "_model_module": "@jupyter-widgets/base",
            "top": null,
            "grid_column": null,
            "overflow_y": null,
            "overflow_x": null,
            "grid_auto_flow": null,
            "grid_area": null,
            "grid_template_columns": null,
            "flex": null,
            "_model_name": "LayoutModel",
            "justify_items": null,
            "grid_row": null,
            "max_height": null,
            "align_content": null,
            "visibility": null,
            "align_self": null,
            "height": null,
            "min_height": null,
            "padding": null,
            "grid_auto_rows": null,
            "grid_gap": null,
            "max_width": null,
            "order": null,
            "_view_module_version": "1.2.0",
            "grid_template_areas": null,
            "object_position": null,
            "object_fit": null,
            "grid_auto_columns": null,
            "margin": null,
            "display": null,
            "left": null
          }
        },
        "8bcd480a9dda4b70ad3aba1d011aa26f": {
          "model_module": "@jupyter-widgets/controls",
          "model_name": "FloatProgressModel",
          "state": {
            "_view_name": "ProgressView",
            "style": "IPY_MODEL_663dc91e33f443bf89f1a8f4a2eab482",
            "_dom_classes": [],
            "description": "",
            "_model_name": "FloatProgressModel",
            "bar_style": "info",
            "max": 1,
            "_view_module": "@jupyter-widgets/controls",
            "_model_module_version": "1.5.0",
            "value": 1,
            "_view_count": null,
            "_view_module_version": "1.5.0",
            "orientation": "horizontal",
            "min": 0,
            "description_tooltip": null,
            "_model_module": "@jupyter-widgets/controls",
            "layout": "IPY_MODEL_ecebd93c374c4f718a3659bf8416dfdb"
          }
        },
        "4d055b9ad75345a1aecf900750d1d964": {
          "model_module": "@jupyter-widgets/controls",
          "model_name": "HTMLModel",
          "state": {
            "_view_name": "HTMLView",
            "style": "IPY_MODEL_5208295144864b6cb7558efa4a4fe6fc",
            "_dom_classes": [],
            "description": "",
            "_model_name": "HTMLModel",
            "placeholder": "​",
            "_view_module": "@jupyter-widgets/controls",
            "_model_module_version": "1.5.0",
            "value": " 1193/0 [00:00&lt;00:00, 2545.31 examples/s]",
            "_view_count": null,
            "_view_module_version": "1.5.0",
            "description_tooltip": null,
            "_model_module": "@jupyter-widgets/controls",
            "layout": "IPY_MODEL_31a53de61ee549609014085bebc1c5a0"
          }
        },
        "663dc91e33f443bf89f1a8f4a2eab482": {
          "model_module": "@jupyter-widgets/controls",
          "model_name": "ProgressStyleModel",
          "state": {
            "_view_name": "StyleView",
            "_model_name": "ProgressStyleModel",
            "description_width": "initial",
            "_view_module": "@jupyter-widgets/base",
            "_model_module_version": "1.5.0",
            "_view_count": null,
            "_view_module_version": "1.2.0",
            "bar_color": null,
            "_model_module": "@jupyter-widgets/controls"
          }
        },
        "ecebd93c374c4f718a3659bf8416dfdb": {
          "model_module": "@jupyter-widgets/base",
          "model_name": "LayoutModel",
          "state": {
            "_view_name": "LayoutView",
            "grid_template_rows": null,
            "right": null,
            "justify_content": null,
            "_view_module": "@jupyter-widgets/base",
            "overflow": null,
            "_model_module_version": "1.2.0",
            "_view_count": null,
            "flex_flow": null,
            "width": null,
            "min_width": null,
            "border": null,
            "align_items": null,
            "bottom": null,
            "_model_module": "@jupyter-widgets/base",
            "top": null,
            "grid_column": null,
            "overflow_y": null,
            "overflow_x": null,
            "grid_auto_flow": null,
            "grid_area": null,
            "grid_template_columns": null,
            "flex": null,
            "_model_name": "LayoutModel",
            "justify_items": null,
            "grid_row": null,
            "max_height": null,
            "align_content": null,
            "visibility": null,
            "align_self": null,
            "height": null,
            "min_height": null,
            "padding": null,
            "grid_auto_rows": null,
            "grid_gap": null,
            "max_width": null,
            "order": null,
            "_view_module_version": "1.2.0",
            "grid_template_areas": null,
            "object_position": null,
            "object_fit": null,
            "grid_auto_columns": null,
            "margin": null,
            "display": null,
            "left": null
          }
        },
        "5208295144864b6cb7558efa4a4fe6fc": {
          "model_module": "@jupyter-widgets/controls",
          "model_name": "DescriptionStyleModel",
          "state": {
            "_view_name": "StyleView",
            "_model_name": "DescriptionStyleModel",
            "description_width": "",
            "_view_module": "@jupyter-widgets/base",
            "_model_module_version": "1.5.0",
            "_view_count": null,
            "_view_module_version": "1.2.0",
            "_model_module": "@jupyter-widgets/controls"
          }
        },
        "31a53de61ee549609014085bebc1c5a0": {
          "model_module": "@jupyter-widgets/base",
          "model_name": "LayoutModel",
          "state": {
            "_view_name": "LayoutView",
            "grid_template_rows": null,
            "right": null,
            "justify_content": null,
            "_view_module": "@jupyter-widgets/base",
            "overflow": null,
            "_model_module_version": "1.2.0",
            "_view_count": null,
            "flex_flow": null,
            "width": null,
            "min_width": null,
            "border": null,
            "align_items": null,
            "bottom": null,
            "_model_module": "@jupyter-widgets/base",
            "top": null,
            "grid_column": null,
            "overflow_y": null,
            "overflow_x": null,
            "grid_auto_flow": null,
            "grid_area": null,
            "grid_template_columns": null,
            "flex": null,
            "_model_name": "LayoutModel",
            "justify_items": null,
            "grid_row": null,
            "max_height": null,
            "align_content": null,
            "visibility": null,
            "align_self": null,
            "height": null,
            "min_height": null,
            "padding": null,
            "grid_auto_rows": null,
            "grid_gap": null,
            "max_width": null,
            "order": null,
            "_view_module_version": "1.2.0",
            "grid_template_areas": null,
            "object_position": null,
            "object_fit": null,
            "grid_auto_columns": null,
            "margin": null,
            "display": null,
            "left": null
          }
        },
        "768282b99ae14822a52d2ea71bb5e380": {
          "model_module": "@jupyter-widgets/controls",
          "model_name": "HBoxModel",
          "state": {
            "_view_name": "HBoxView",
            "_dom_classes": [],
            "_model_name": "HBoxModel",
            "_view_module": "@jupyter-widgets/controls",
            "_model_module_version": "1.5.0",
            "_view_count": null,
            "_view_module_version": "1.5.0",
            "box_style": "",
            "layout": "IPY_MODEL_1b50681f8b394625b56f9aba958d2f6c",
            "_model_module": "@jupyter-widgets/controls",
            "children": [
              "IPY_MODEL_8af4033f0a6a4b03a9302fe7a90395a6",
              "IPY_MODEL_4915fddb992140ef8b6b895aca5f4bc3"
            ]
          }
        },
        "1b50681f8b394625b56f9aba958d2f6c": {
          "model_module": "@jupyter-widgets/base",
          "model_name": "LayoutModel",
          "state": {
            "_view_name": "LayoutView",
            "grid_template_rows": null,
            "right": null,
            "justify_content": null,
            "_view_module": "@jupyter-widgets/base",
            "overflow": null,
            "_model_module_version": "1.2.0",
            "_view_count": null,
            "flex_flow": null,
            "width": null,
            "min_width": null,
            "border": null,
            "align_items": null,
            "bottom": null,
            "_model_module": "@jupyter-widgets/base",
            "top": null,
            "grid_column": null,
            "overflow_y": null,
            "overflow_x": null,
            "grid_auto_flow": null,
            "grid_area": null,
            "grid_template_columns": null,
            "flex": null,
            "_model_name": "LayoutModel",
            "justify_items": null,
            "grid_row": null,
            "max_height": null,
            "align_content": null,
            "visibility": null,
            "align_self": null,
            "height": null,
            "min_height": null,
            "padding": null,
            "grid_auto_rows": null,
            "grid_gap": null,
            "max_width": null,
            "order": null,
            "_view_module_version": "1.2.0",
            "grid_template_areas": null,
            "object_position": null,
            "object_fit": null,
            "grid_auto_columns": null,
            "margin": null,
            "display": null,
            "left": null
          }
        },
        "8af4033f0a6a4b03a9302fe7a90395a6": {
          "model_module": "@jupyter-widgets/controls",
          "model_name": "FloatProgressModel",
          "state": {
            "_view_name": "ProgressView",
            "style": "IPY_MODEL_29bfe802bba24d25babd5d74fae8a10d",
            "_dom_classes": [],
            "description": "  0%",
            "_model_name": "FloatProgressModel",
            "bar_style": "danger",
            "max": 1193,
            "_view_module": "@jupyter-widgets/controls",
            "_model_module_version": "1.5.0",
            "value": 0,
            "_view_count": null,
            "_view_module_version": "1.5.0",
            "orientation": "horizontal",
            "min": 0,
            "description_tooltip": null,
            "_model_module": "@jupyter-widgets/controls",
            "layout": "IPY_MODEL_858d516ddb614d12b88ef2bdf56e06bf"
          }
        },
        "4915fddb992140ef8b6b895aca5f4bc3": {
          "model_module": "@jupyter-widgets/controls",
          "model_name": "HTMLModel",
          "state": {
            "_view_name": "HTMLView",
            "style": "IPY_MODEL_a1d170d649f84da0afc76ace83573fdc",
            "_dom_classes": [],
            "description": "",
            "_model_name": "HTMLModel",
            "placeholder": "​",
            "_view_module": "@jupyter-widgets/controls",
            "_model_module_version": "1.5.0",
            "value": " 0/1193 [00:00&lt;?, ? examples/s]",
            "_view_count": null,
            "_view_module_version": "1.5.0",
            "description_tooltip": null,
            "_model_module": "@jupyter-widgets/controls",
            "layout": "IPY_MODEL_76cd472c4d1b46ca8ba3a37457e3cc51"
          }
        },
        "29bfe802bba24d25babd5d74fae8a10d": {
          "model_module": "@jupyter-widgets/controls",
          "model_name": "ProgressStyleModel",
          "state": {
            "_view_name": "StyleView",
            "_model_name": "ProgressStyleModel",
            "description_width": "initial",
            "_view_module": "@jupyter-widgets/base",
            "_model_module_version": "1.5.0",
            "_view_count": null,
            "_view_module_version": "1.2.0",
            "bar_color": null,
            "_model_module": "@jupyter-widgets/controls"
          }
        },
        "858d516ddb614d12b88ef2bdf56e06bf": {
          "model_module": "@jupyter-widgets/base",
          "model_name": "LayoutModel",
          "state": {
            "_view_name": "LayoutView",
            "grid_template_rows": null,
            "right": null,
            "justify_content": null,
            "_view_module": "@jupyter-widgets/base",
            "overflow": null,
            "_model_module_version": "1.2.0",
            "_view_count": null,
            "flex_flow": null,
            "width": null,
            "min_width": null,
            "border": null,
            "align_items": null,
            "bottom": null,
            "_model_module": "@jupyter-widgets/base",
            "top": null,
            "grid_column": null,
            "overflow_y": null,
            "overflow_x": null,
            "grid_auto_flow": null,
            "grid_area": null,
            "grid_template_columns": null,
            "flex": null,
            "_model_name": "LayoutModel",
            "justify_items": null,
            "grid_row": null,
            "max_height": null,
            "align_content": null,
            "visibility": null,
            "align_self": null,
            "height": null,
            "min_height": null,
            "padding": null,
            "grid_auto_rows": null,
            "grid_gap": null,
            "max_width": null,
            "order": null,
            "_view_module_version": "1.2.0",
            "grid_template_areas": null,
            "object_position": null,
            "object_fit": null,
            "grid_auto_columns": null,
            "margin": null,
            "display": null,
            "left": null
          }
        },
        "a1d170d649f84da0afc76ace83573fdc": {
          "model_module": "@jupyter-widgets/controls",
          "model_name": "DescriptionStyleModel",
          "state": {
            "_view_name": "StyleView",
            "_model_name": "DescriptionStyleModel",
            "description_width": "",
            "_view_module": "@jupyter-widgets/base",
            "_model_module_version": "1.5.0",
            "_view_count": null,
            "_view_module_version": "1.2.0",
            "_model_module": "@jupyter-widgets/controls"
          }
        },
        "76cd472c4d1b46ca8ba3a37457e3cc51": {
          "model_module": "@jupyter-widgets/base",
          "model_name": "LayoutModel",
          "state": {
            "_view_name": "LayoutView",
            "grid_template_rows": null,
            "right": null,
            "justify_content": null,
            "_view_module": "@jupyter-widgets/base",
            "overflow": null,
            "_model_module_version": "1.2.0",
            "_view_count": null,
            "flex_flow": null,
            "width": null,
            "min_width": null,
            "border": null,
            "align_items": null,
            "bottom": null,
            "_model_module": "@jupyter-widgets/base",
            "top": null,
            "grid_column": null,
            "overflow_y": null,
            "overflow_x": null,
            "grid_auto_flow": null,
            "grid_area": null,
            "grid_template_columns": null,
            "flex": null,
            "_model_name": "LayoutModel",
            "justify_items": null,
            "grid_row": null,
            "max_height": null,
            "align_content": null,
            "visibility": null,
            "align_self": null,
            "height": null,
            "min_height": null,
            "padding": null,
            "grid_auto_rows": null,
            "grid_gap": null,
            "max_width": null,
            "order": null,
            "_view_module_version": "1.2.0",
            "grid_template_areas": null,
            "object_position": null,
            "object_fit": null,
            "grid_auto_columns": null,
            "margin": null,
            "display": null,
            "left": null
          }
        },
        "0e504320054840bda266a5af3bf5a6b6": {
          "model_module": "@jupyter-widgets/controls",
          "model_name": "HBoxModel",
          "state": {
            "_view_name": "HBoxView",
            "_dom_classes": [],
            "_model_name": "HBoxModel",
            "_view_module": "@jupyter-widgets/controls",
            "_model_module_version": "1.5.0",
            "_view_count": null,
            "_view_module_version": "1.5.0",
            "box_style": "",
            "layout": "IPY_MODEL_abd803065251472384c319493cafa7ef",
            "_model_module": "@jupyter-widgets/controls",
            "children": [
              "IPY_MODEL_4bc81d8e1d5642708be6ed2e28cdd845",
              "IPY_MODEL_ca13b1baac1e40c1ae33be9d594d6d0c"
            ]
          }
        },
        "abd803065251472384c319493cafa7ef": {
          "model_module": "@jupyter-widgets/base",
          "model_name": "LayoutModel",
          "state": {
            "_view_name": "LayoutView",
            "grid_template_rows": null,
            "right": null,
            "justify_content": null,
            "_view_module": "@jupyter-widgets/base",
            "overflow": null,
            "_model_module_version": "1.2.0",
            "_view_count": null,
            "flex_flow": null,
            "width": null,
            "min_width": null,
            "border": null,
            "align_items": null,
            "bottom": null,
            "_model_module": "@jupyter-widgets/base",
            "top": null,
            "grid_column": null,
            "overflow_y": null,
            "overflow_x": null,
            "grid_auto_flow": null,
            "grid_area": null,
            "grid_template_columns": null,
            "flex": null,
            "_model_name": "LayoutModel",
            "justify_items": null,
            "grid_row": null,
            "max_height": null,
            "align_content": null,
            "visibility": null,
            "align_self": null,
            "height": null,
            "min_height": null,
            "padding": null,
            "grid_auto_rows": null,
            "grid_gap": null,
            "max_width": null,
            "order": null,
            "_view_module_version": "1.2.0",
            "grid_template_areas": null,
            "object_position": null,
            "object_fit": null,
            "grid_auto_columns": null,
            "margin": null,
            "display": null,
            "left": null
          }
        },
        "4bc81d8e1d5642708be6ed2e28cdd845": {
          "model_module": "@jupyter-widgets/controls",
          "model_name": "FloatProgressModel",
          "state": {
            "_view_name": "ProgressView",
            "style": "IPY_MODEL_6bee5ddaaf80434a96f9048cca499733",
            "_dom_classes": [],
            "description": "",
            "_model_name": "FloatProgressModel",
            "bar_style": "info",
            "max": 1,
            "_view_module": "@jupyter-widgets/controls",
            "_model_module_version": "1.5.0",
            "value": 1,
            "_view_count": null,
            "_view_module_version": "1.5.0",
            "orientation": "horizontal",
            "min": 0,
            "description_tooltip": null,
            "_model_module": "@jupyter-widgets/controls",
            "layout": "IPY_MODEL_6cd0f1559ebb4655bbf8ee57ec407051"
          }
        },
        "ca13b1baac1e40c1ae33be9d594d6d0c": {
          "model_module": "@jupyter-widgets/controls",
          "model_name": "HTMLModel",
          "state": {
            "_view_name": "HTMLView",
            "style": "IPY_MODEL_9a3acd84142e42e9b82a0e411f4df70d",
            "_dom_classes": [],
            "description": "",
            "_model_name": "HTMLModel",
            "placeholder": "​",
            "_view_module": "@jupyter-widgets/controls",
            "_model_module_version": "1.5.0",
            "value": " 1803/0 [00:00&lt;00:00, 3447.21 examples/s]",
            "_view_count": null,
            "_view_module_version": "1.5.0",
            "description_tooltip": null,
            "_model_module": "@jupyter-widgets/controls",
            "layout": "IPY_MODEL_ad653bd9266b48298d2c4dec3140c53f"
          }
        },
        "6bee5ddaaf80434a96f9048cca499733": {
          "model_module": "@jupyter-widgets/controls",
          "model_name": "ProgressStyleModel",
          "state": {
            "_view_name": "StyleView",
            "_model_name": "ProgressStyleModel",
            "description_width": "initial",
            "_view_module": "@jupyter-widgets/base",
            "_model_module_version": "1.5.0",
            "_view_count": null,
            "_view_module_version": "1.2.0",
            "bar_color": null,
            "_model_module": "@jupyter-widgets/controls"
          }
        },
        "6cd0f1559ebb4655bbf8ee57ec407051": {
          "model_module": "@jupyter-widgets/base",
          "model_name": "LayoutModel",
          "state": {
            "_view_name": "LayoutView",
            "grid_template_rows": null,
            "right": null,
            "justify_content": null,
            "_view_module": "@jupyter-widgets/base",
            "overflow": null,
            "_model_module_version": "1.2.0",
            "_view_count": null,
            "flex_flow": null,
            "width": null,
            "min_width": null,
            "border": null,
            "align_items": null,
            "bottom": null,
            "_model_module": "@jupyter-widgets/base",
            "top": null,
            "grid_column": null,
            "overflow_y": null,
            "overflow_x": null,
            "grid_auto_flow": null,
            "grid_area": null,
            "grid_template_columns": null,
            "flex": null,
            "_model_name": "LayoutModel",
            "justify_items": null,
            "grid_row": null,
            "max_height": null,
            "align_content": null,
            "visibility": null,
            "align_self": null,
            "height": null,
            "min_height": null,
            "padding": null,
            "grid_auto_rows": null,
            "grid_gap": null,
            "max_width": null,
            "order": null,
            "_view_module_version": "1.2.0",
            "grid_template_areas": null,
            "object_position": null,
            "object_fit": null,
            "grid_auto_columns": null,
            "margin": null,
            "display": null,
            "left": null
          }
        },
        "9a3acd84142e42e9b82a0e411f4df70d": {
          "model_module": "@jupyter-widgets/controls",
          "model_name": "DescriptionStyleModel",
          "state": {
            "_view_name": "StyleView",
            "_model_name": "DescriptionStyleModel",
            "description_width": "",
            "_view_module": "@jupyter-widgets/base",
            "_model_module_version": "1.5.0",
            "_view_count": null,
            "_view_module_version": "1.2.0",
            "_model_module": "@jupyter-widgets/controls"
          }
        },
        "ad653bd9266b48298d2c4dec3140c53f": {
          "model_module": "@jupyter-widgets/base",
          "model_name": "LayoutModel",
          "state": {
            "_view_name": "LayoutView",
            "grid_template_rows": null,
            "right": null,
            "justify_content": null,
            "_view_module": "@jupyter-widgets/base",
            "overflow": null,
            "_model_module_version": "1.2.0",
            "_view_count": null,
            "flex_flow": null,
            "width": null,
            "min_width": null,
            "border": null,
            "align_items": null,
            "bottom": null,
            "_model_module": "@jupyter-widgets/base",
            "top": null,
            "grid_column": null,
            "overflow_y": null,
            "overflow_x": null,
            "grid_auto_flow": null,
            "grid_area": null,
            "grid_template_columns": null,
            "flex": null,
            "_model_name": "LayoutModel",
            "justify_items": null,
            "grid_row": null,
            "max_height": null,
            "align_content": null,
            "visibility": null,
            "align_self": null,
            "height": null,
            "min_height": null,
            "padding": null,
            "grid_auto_rows": null,
            "grid_gap": null,
            "max_width": null,
            "order": null,
            "_view_module_version": "1.2.0",
            "grid_template_areas": null,
            "object_position": null,
            "object_fit": null,
            "grid_auto_columns": null,
            "margin": null,
            "display": null,
            "left": null
          }
        },
        "515abdd60dbc4a75ae63ec149ba9a372": {
          "model_module": "@jupyter-widgets/controls",
          "model_name": "HBoxModel",
          "state": {
            "_view_name": "HBoxView",
            "_dom_classes": [],
            "_model_name": "HBoxModel",
            "_view_module": "@jupyter-widgets/controls",
            "_model_module_version": "1.5.0",
            "_view_count": null,
            "_view_module_version": "1.5.0",
            "box_style": "",
            "layout": "IPY_MODEL_458ff50a68c34471804d6b66f781bebd",
            "_model_module": "@jupyter-widgets/controls",
            "children": [
              "IPY_MODEL_5bc86a936b6949899db4fea6b35e0df8",
              "IPY_MODEL_c7a503f350dc4c008a34c97e9a11d097"
            ]
          }
        },
        "458ff50a68c34471804d6b66f781bebd": {
          "model_module": "@jupyter-widgets/base",
          "model_name": "LayoutModel",
          "state": {
            "_view_name": "LayoutView",
            "grid_template_rows": null,
            "right": null,
            "justify_content": null,
            "_view_module": "@jupyter-widgets/base",
            "overflow": null,
            "_model_module_version": "1.2.0",
            "_view_count": null,
            "flex_flow": null,
            "width": null,
            "min_width": null,
            "border": null,
            "align_items": null,
            "bottom": null,
            "_model_module": "@jupyter-widgets/base",
            "top": null,
            "grid_column": null,
            "overflow_y": null,
            "overflow_x": null,
            "grid_auto_flow": null,
            "grid_area": null,
            "grid_template_columns": null,
            "flex": null,
            "_model_name": "LayoutModel",
            "justify_items": null,
            "grid_row": null,
            "max_height": null,
            "align_content": null,
            "visibility": null,
            "align_self": null,
            "height": null,
            "min_height": null,
            "padding": null,
            "grid_auto_rows": null,
            "grid_gap": null,
            "max_width": null,
            "order": null,
            "_view_module_version": "1.2.0",
            "grid_template_areas": null,
            "object_position": null,
            "object_fit": null,
            "grid_auto_columns": null,
            "margin": null,
            "display": null,
            "left": null
          }
        },
        "5bc86a936b6949899db4fea6b35e0df8": {
          "model_module": "@jupyter-widgets/controls",
          "model_name": "FloatProgressModel",
          "state": {
            "_view_name": "ProgressView",
            "style": "IPY_MODEL_b7ac65fdb0164025af692151b2a0bd6f",
            "_dom_classes": [],
            "description": "  0%",
            "_model_name": "FloatProgressModel",
            "bar_style": "danger",
            "max": 1803,
            "_view_module": "@jupyter-widgets/controls",
            "_model_module_version": "1.5.0",
            "value": 0,
            "_view_count": null,
            "_view_module_version": "1.5.0",
            "orientation": "horizontal",
            "min": 0,
            "description_tooltip": null,
            "_model_module": "@jupyter-widgets/controls",
            "layout": "IPY_MODEL_c6961091078b4815a20e6e2042c2c705"
          }
        },
        "c7a503f350dc4c008a34c97e9a11d097": {
          "model_module": "@jupyter-widgets/controls",
          "model_name": "HTMLModel",
          "state": {
            "_view_name": "HTMLView",
            "style": "IPY_MODEL_a1b0ab71d0e24db3a7a975a92484818f",
            "_dom_classes": [],
            "description": "",
            "_model_name": "HTMLModel",
            "placeholder": "​",
            "_view_module": "@jupyter-widgets/controls",
            "_model_module_version": "1.5.0",
            "value": " 0/1803 [00:00&lt;?, ? examples/s]",
            "_view_count": null,
            "_view_module_version": "1.5.0",
            "description_tooltip": null,
            "_model_module": "@jupyter-widgets/controls",
            "layout": "IPY_MODEL_3b7307865cbc4c3791579c5547753a6a"
          }
        },
        "b7ac65fdb0164025af692151b2a0bd6f": {
          "model_module": "@jupyter-widgets/controls",
          "model_name": "ProgressStyleModel",
          "state": {
            "_view_name": "StyleView",
            "_model_name": "ProgressStyleModel",
            "description_width": "initial",
            "_view_module": "@jupyter-widgets/base",
            "_model_module_version": "1.5.0",
            "_view_count": null,
            "_view_module_version": "1.2.0",
            "bar_color": null,
            "_model_module": "@jupyter-widgets/controls"
          }
        },
        "c6961091078b4815a20e6e2042c2c705": {
          "model_module": "@jupyter-widgets/base",
          "model_name": "LayoutModel",
          "state": {
            "_view_name": "LayoutView",
            "grid_template_rows": null,
            "right": null,
            "justify_content": null,
            "_view_module": "@jupyter-widgets/base",
            "overflow": null,
            "_model_module_version": "1.2.0",
            "_view_count": null,
            "flex_flow": null,
            "width": null,
            "min_width": null,
            "border": null,
            "align_items": null,
            "bottom": null,
            "_model_module": "@jupyter-widgets/base",
            "top": null,
            "grid_column": null,
            "overflow_y": null,
            "overflow_x": null,
            "grid_auto_flow": null,
            "grid_area": null,
            "grid_template_columns": null,
            "flex": null,
            "_model_name": "LayoutModel",
            "justify_items": null,
            "grid_row": null,
            "max_height": null,
            "align_content": null,
            "visibility": null,
            "align_self": null,
            "height": null,
            "min_height": null,
            "padding": null,
            "grid_auto_rows": null,
            "grid_gap": null,
            "max_width": null,
            "order": null,
            "_view_module_version": "1.2.0",
            "grid_template_areas": null,
            "object_position": null,
            "object_fit": null,
            "grid_auto_columns": null,
            "margin": null,
            "display": null,
            "left": null
          }
        },
        "a1b0ab71d0e24db3a7a975a92484818f": {
          "model_module": "@jupyter-widgets/controls",
          "model_name": "DescriptionStyleModel",
          "state": {
            "_view_name": "StyleView",
            "_model_name": "DescriptionStyleModel",
            "description_width": "",
            "_view_module": "@jupyter-widgets/base",
            "_model_module_version": "1.5.0",
            "_view_count": null,
            "_view_module_version": "1.2.0",
            "_model_module": "@jupyter-widgets/controls"
          }
        },
        "3b7307865cbc4c3791579c5547753a6a": {
          "model_module": "@jupyter-widgets/base",
          "model_name": "LayoutModel",
          "state": {
            "_view_name": "LayoutView",
            "grid_template_rows": null,
            "right": null,
            "justify_content": null,
            "_view_module": "@jupyter-widgets/base",
            "overflow": null,
            "_model_module_version": "1.2.0",
            "_view_count": null,
            "flex_flow": null,
            "width": null,
            "min_width": null,
            "border": null,
            "align_items": null,
            "bottom": null,
            "_model_module": "@jupyter-widgets/base",
            "top": null,
            "grid_column": null,
            "overflow_y": null,
            "overflow_x": null,
            "grid_auto_flow": null,
            "grid_area": null,
            "grid_template_columns": null,
            "flex": null,
            "_model_name": "LayoutModel",
            "justify_items": null,
            "grid_row": null,
            "max_height": null,
            "align_content": null,
            "visibility": null,
            "align_self": null,
            "height": null,
            "min_height": null,
            "padding": null,
            "grid_auto_rows": null,
            "grid_gap": null,
            "max_width": null,
            "order": null,
            "_view_module_version": "1.2.0",
            "grid_template_areas": null,
            "object_position": null,
            "object_fit": null,
            "grid_auto_columns": null,
            "margin": null,
            "display": null,
            "left": null
          }
        }
      }
    }
  },
  "cells": [
    {
      "cell_type": "markdown",
      "metadata": {
        "id": "view-in-github",
        "colab_type": "text"
      },
      "source": [
        "<a href=\"https://colab.research.google.com/github/Satwikram/Deep-Learning-Implementations/blob/master/Transformer/Portuguese%20to%20English.ipynb\" target=\"_parent\"><img src=\"https://colab.research.google.com/assets/colab-badge.svg\" alt=\"Open In Colab\"/></a>"
      ]
    },
    {
      "cell_type": "markdown",
      "metadata": {
        "id": "VZcl6PM2v3IH",
        "colab_type": "text"
      },
      "source": [
        "## Author: Satwik Ram K\n",
        "Portuguese to English Transalation"
      ]
    },
    {
      "cell_type": "markdown",
      "metadata": {
        "id": "fsQ3MjisxLyH",
        "colab_type": "text"
      },
      "source": [
        "## Importing Dependencies"
      ]
    },
    {
      "cell_type": "code",
      "metadata": {
        "id": "MWeRaJ42xPXL",
        "colab_type": "code",
        "colab": {}
      },
      "source": [
        "import numpy as np\n",
        "import pandas as pd\n",
        "import re\n",
        "import math\n",
        "import re\n",
        "import tensorflow as tf\n",
        "from tensorflow import keras\n",
        "import tensorflow_datasets as tfds\n",
        "import matplotlib.pyplot as plt\n"
      ],
      "execution_count": 1,
      "outputs": []
    },
    {
      "cell_type": "markdown",
      "metadata": {
        "id": "xBG44wtuxzVe",
        "colab_type": "text"
      },
      "source": [
        "## Loading Dataset\n",
        "\n",
        "The dataset is available in Tfds"
      ]
    },
    {
      "cell_type": "code",
      "metadata": {
        "id": "QNad1bVkxgcE",
        "colab_type": "code",
        "colab": {
          "base_uri": "https://localhost:8080/",
          "height": 416,
          "referenced_widgets": [
            "8d77f221a625413796c2564ca82b6dcf",
            "3273ca90a037453089001aaf8cd4ff65",
            "da1b58ca59a145878526a23c16b67bcf",
            "96322888b6344905ba41b4b6339147da",
            "aef7b57b0cd24f1698200ae85ff7655d",
            "01952c388f9b4662b81c9c3013c32585",
            "03d90bfe45504ee38ed3f43cdd6a691c",
            "e353c6b72cd64cdf97abfc896e229bb7",
            "29941f58aaa94e8190bc3c66f1f53cd8",
            "5f3c08a4e2e04207be5b9fbd721ce706",
            "52cafb4df3834b53a6d04100f5751ea9",
            "6299f60bbd7747cb808d7a7d4d345669",
            "978c99bc99d24fd0b640f4b6f9e7ce79",
            "b694ab889b39457b8abf19cae6e4c382",
            "6c825dc5f92349689fb72b3d98d5b467",
            "057c2b7859cc4c6fbc84392c38c20b4f",
            "b09e315a91de428fad4a5d5f25ebf32f",
            "722d16fa3c0a4ac9aca482e6f76cd0c8",
            "f0847201a2b34e16a31506f85d3d49ff",
            "13f5ae9c7b2841f5b7e93657d191a594",
            "878e1e3aed13447b9159ec35fbd95970",
            "915c23e664a248dbbbd516ad475f8552",
            "f80b849704da4d9d97a68975bb102f42",
            "be06968799b5453d8f072be7559d6478",
            "fbff5b9348524430b13dba2c431fb9b2",
            "e193668cd5734b23acd4307681a23f1f",
            "5e156b57f98a44c1a60a5193e429911a",
            "866624c813ec45038179da7c5b040325",
            "6ece9a3e143d4abca23e560385ea890a",
            "d358209900cf47d292f91a7203ce665a",
            "0ee6df2f250342a199e8085edb9e2c59",
            "8794ddb18fba4b689afb4d4c91dcaa14",
            "20025ed41d09431ca89e85ecae8f59f2",
            "ca43c5405401496b82db11950bf1b08e",
            "2db88dcf6eba4bae8b40303fec26a609",
            "37d2ecd3ba744ac38fd8ad5eb8b20713",
            "8aef779e9c884f498c56367d48eb052e",
            "1cf4c190662d444fb350b0ba84c01b42",
            "db80e6ba1d284935a075c86d36808c20",
            "fd23ab4fc9514010938abaa0cf2eacba",
            "042e54995fc64485985ecc3909793c25",
            "24c8024e4f5942be8d59f0a038cfce36",
            "8bcd480a9dda4b70ad3aba1d011aa26f",
            "4d055b9ad75345a1aecf900750d1d964",
            "663dc91e33f443bf89f1a8f4a2eab482",
            "ecebd93c374c4f718a3659bf8416dfdb",
            "5208295144864b6cb7558efa4a4fe6fc",
            "31a53de61ee549609014085bebc1c5a0",
            "768282b99ae14822a52d2ea71bb5e380",
            "1b50681f8b394625b56f9aba958d2f6c",
            "8af4033f0a6a4b03a9302fe7a90395a6",
            "4915fddb992140ef8b6b895aca5f4bc3",
            "29bfe802bba24d25babd5d74fae8a10d",
            "858d516ddb614d12b88ef2bdf56e06bf",
            "a1d170d649f84da0afc76ace83573fdc",
            "76cd472c4d1b46ca8ba3a37457e3cc51",
            "0e504320054840bda266a5af3bf5a6b6",
            "abd803065251472384c319493cafa7ef",
            "4bc81d8e1d5642708be6ed2e28cdd845",
            "ca13b1baac1e40c1ae33be9d594d6d0c",
            "6bee5ddaaf80434a96f9048cca499733",
            "6cd0f1559ebb4655bbf8ee57ec407051",
            "9a3acd84142e42e9b82a0e411f4df70d",
            "ad653bd9266b48298d2c4dec3140c53f",
            "515abdd60dbc4a75ae63ec149ba9a372",
            "458ff50a68c34471804d6b66f781bebd",
            "5bc86a936b6949899db4fea6b35e0df8",
            "c7a503f350dc4c008a34c97e9a11d097",
            "b7ac65fdb0164025af692151b2a0bd6f",
            "c6961091078b4815a20e6e2042c2c705",
            "a1b0ab71d0e24db3a7a975a92484818f",
            "3b7307865cbc4c3791579c5547753a6a"
          ]
        },
        "outputId": "5011a44d-f979-4e50-90f4-df69f98c6617"
      },
      "source": [
        "data, metadata = tfds.load('ted_hrlr_translate/pt_to_en',with_info = True, as_supervised=True)"
      ],
      "execution_count": 2,
      "outputs": [
        {
          "output_type": "stream",
          "text": [
            "\u001b[1mDownloading and preparing dataset ted_hrlr_translate/pt_to_en/1.0.0 (download: 124.94 MiB, generated: Unknown size, total: 124.94 MiB) to /root/tensorflow_datasets/ted_hrlr_translate/pt_to_en/1.0.0...\u001b[0m\n"
          ],
          "name": "stdout"
        },
        {
          "output_type": "display_data",
          "data": {
            "application/vnd.jupyter.widget-view+json": {
              "model_id": "8d77f221a625413796c2564ca82b6dcf",
              "version_minor": 0,
              "version_major": 2
            },
            "text/plain": [
              "HBox(children=(FloatProgress(value=1.0, bar_style='info', description='Dl Completed...', max=1.0, style=Progre…"
            ]
          },
          "metadata": {
            "tags": []
          }
        },
        {
          "output_type": "display_data",
          "data": {
            "application/vnd.jupyter.widget-view+json": {
              "model_id": "29941f58aaa94e8190bc3c66f1f53cd8",
              "version_minor": 0,
              "version_major": 2
            },
            "text/plain": [
              "HBox(children=(FloatProgress(value=1.0, bar_style='info', description='Dl Size...', max=1.0, style=ProgressSty…"
            ]
          },
          "metadata": {
            "tags": []
          }
        },
        {
          "output_type": "display_data",
          "data": {
            "application/vnd.jupyter.widget-view+json": {
              "model_id": "b09e315a91de428fad4a5d5f25ebf32f",
              "version_minor": 0,
              "version_major": 2
            },
            "text/plain": [
              "HBox(children=(FloatProgress(value=1.0, bar_style='info', description='Extraction completed...', max=1.0, styl…"
            ]
          },
          "metadata": {
            "tags": []
          }
        },
        {
          "output_type": "stream",
          "text": [
            "\n",
            "\n",
            "\n",
            "\n",
            "\n",
            "\n"
          ],
          "name": "stdout"
        },
        {
          "output_type": "display_data",
          "data": {
            "application/vnd.jupyter.widget-view+json": {
              "model_id": "fbff5b9348524430b13dba2c431fb9b2",
              "version_minor": 0,
              "version_major": 2
            },
            "text/plain": [
              "HBox(children=(FloatProgress(value=1.0, bar_style='info', max=1.0), HTML(value='')))"
            ]
          },
          "metadata": {
            "tags": []
          }
        },
        {
          "output_type": "stream",
          "text": [
            "\rShuffling and writing examples to /root/tensorflow_datasets/ted_hrlr_translate/pt_to_en/1.0.0.incompletePVWXQB/ted_hrlr_translate-train.tfrecord\n"
          ],
          "name": "stdout"
        },
        {
          "output_type": "display_data",
          "data": {
            "application/vnd.jupyter.widget-view+json": {
              "model_id": "20025ed41d09431ca89e85ecae8f59f2",
              "version_minor": 0,
              "version_major": 2
            },
            "text/plain": [
              "HBox(children=(FloatProgress(value=0.0, max=51785.0), HTML(value='')))"
            ]
          },
          "metadata": {
            "tags": []
          }
        },
        {
          "output_type": "stream",
          "text": [
            "\r"
          ],
          "name": "stdout"
        },
        {
          "output_type": "display_data",
          "data": {
            "application/vnd.jupyter.widget-view+json": {
              "model_id": "042e54995fc64485985ecc3909793c25",
              "version_minor": 0,
              "version_major": 2
            },
            "text/plain": [
              "HBox(children=(FloatProgress(value=1.0, bar_style='info', max=1.0), HTML(value='')))"
            ]
          },
          "metadata": {
            "tags": []
          }
        },
        {
          "output_type": "stream",
          "text": [
            "\rShuffling and writing examples to /root/tensorflow_datasets/ted_hrlr_translate/pt_to_en/1.0.0.incompletePVWXQB/ted_hrlr_translate-validation.tfrecord\n"
          ],
          "name": "stdout"
        },
        {
          "output_type": "display_data",
          "data": {
            "application/vnd.jupyter.widget-view+json": {
              "model_id": "768282b99ae14822a52d2ea71bb5e380",
              "version_minor": 0,
              "version_major": 2
            },
            "text/plain": [
              "HBox(children=(FloatProgress(value=0.0, max=1193.0), HTML(value='')))"
            ]
          },
          "metadata": {
            "tags": []
          }
        },
        {
          "output_type": "stream",
          "text": [
            "\r"
          ],
          "name": "stdout"
        },
        {
          "output_type": "display_data",
          "data": {
            "application/vnd.jupyter.widget-view+json": {
              "model_id": "0e504320054840bda266a5af3bf5a6b6",
              "version_minor": 0,
              "version_major": 2
            },
            "text/plain": [
              "HBox(children=(FloatProgress(value=1.0, bar_style='info', max=1.0), HTML(value='')))"
            ]
          },
          "metadata": {
            "tags": []
          }
        },
        {
          "output_type": "stream",
          "text": [
            "\rShuffling and writing examples to /root/tensorflow_datasets/ted_hrlr_translate/pt_to_en/1.0.0.incompletePVWXQB/ted_hrlr_translate-test.tfrecord\n"
          ],
          "name": "stdout"
        },
        {
          "output_type": "display_data",
          "data": {
            "application/vnd.jupyter.widget-view+json": {
              "model_id": "515abdd60dbc4a75ae63ec149ba9a372",
              "version_minor": 0,
              "version_major": 2
            },
            "text/plain": [
              "HBox(children=(FloatProgress(value=0.0, max=1803.0), HTML(value='')))"
            ]
          },
          "metadata": {
            "tags": []
          }
        },
        {
          "output_type": "stream",
          "text": [
            "\u001b[1mDataset ted_hrlr_translate downloaded and prepared to /root/tensorflow_datasets/ted_hrlr_translate/pt_to_en/1.0.0. Subsequent calls will reuse this data.\u001b[0m\n"
          ],
          "name": "stdout"
        }
      ]
    },
    {
      "cell_type": "code",
      "metadata": {
        "id": "nb-bYBX9yNRn",
        "colab_type": "code",
        "colab": {
          "base_uri": "https://localhost:8080/",
          "height": 68
        },
        "outputId": "07d1dae2-ee80-499e-de27-c22fd79cb8c8"
      },
      "source": [
        "data"
      ],
      "execution_count": 3,
      "outputs": [
        {
          "output_type": "execute_result",
          "data": {
            "text/plain": [
              "{'test': <DatasetV1Adapter shapes: ((), ()), types: (tf.string, tf.string)>,\n",
              " 'train': <DatasetV1Adapter shapes: ((), ()), types: (tf.string, tf.string)>,\n",
              " 'validation': <DatasetV1Adapter shapes: ((), ()), types: (tf.string, tf.string)>}"
            ]
          },
          "metadata": {
            "tags": []
          },
          "execution_count": 3
        }
      ]
    },
    {
      "cell_type": "code",
      "metadata": {
        "id": "_nJvKw2eyTBB",
        "colab_type": "code",
        "colab": {
          "base_uri": "https://localhost:8080/",
          "height": 459
        },
        "outputId": "90e83a62-c8ff-4ee8-d359-2e18b740d7f8"
      },
      "source": [
        "metadata"
      ],
      "execution_count": 4,
      "outputs": [
        {
          "output_type": "execute_result",
          "data": {
            "text/plain": [
              "tfds.core.DatasetInfo(\n",
              "    name='ted_hrlr_translate',\n",
              "    version=1.0.0,\n",
              "    description='Data sets derived from TED talk transcripts for comparing similar language pairs\n",
              "where one is high resource and the other is low resource.\n",
              "',\n",
              "    homepage='https://github.com/neulab/word-embeddings-for-nmt',\n",
              "    features=Translation({\n",
              "        'en': Text(shape=(), dtype=tf.string),\n",
              "        'pt': Text(shape=(), dtype=tf.string),\n",
              "    }),\n",
              "    total_num_examples=54781,\n",
              "    splits={\n",
              "        'test': 1803,\n",
              "        'train': 51785,\n",
              "        'validation': 1193,\n",
              "    },\n",
              "    supervised_keys=('pt', 'en'),\n",
              "    citation=\"\"\"@inproceedings{Ye2018WordEmbeddings,\n",
              "      author  = {Ye, Qi and Devendra, Sachan and Matthieu, Felix and Sarguna, Padmanabhan and Graham, Neubig},\n",
              "      title   = {When and Why are pre-trained word embeddings useful for Neural Machine Translation},\n",
              "      booktitle = {HLT-NAACL},\n",
              "      year    = {2018},\n",
              "      }\"\"\",\n",
              "    redistribution_info=,\n",
              ")"
            ]
          },
          "metadata": {
            "tags": []
          },
          "execution_count": 4
        }
      ]
    },
    {
      "cell_type": "markdown",
      "metadata": {
        "id": "mTfhvZD0ysDt",
        "colab_type": "text"
      },
      "source": [
        "## Taking Train and Validation Data"
      ]
    },
    {
      "cell_type": "code",
      "metadata": {
        "id": "XUAPgtOzyVpz",
        "colab_type": "code",
        "colab": {}
      },
      "source": [
        "train, val = data['train'], data['validation']"
      ],
      "execution_count": 5,
      "outputs": []
    },
    {
      "cell_type": "code",
      "metadata": {
        "id": "PGeetyXly5Zq",
        "colab_type": "code",
        "colab": {
          "base_uri": "https://localhost:8080/",
          "height": 34
        },
        "outputId": "238bd4a7-673c-430d-c9fd-f8e0d40dd073"
      },
      "source": [
        "type(train)"
      ],
      "execution_count": 6,
      "outputs": [
        {
          "output_type": "execute_result",
          "data": {
            "text/plain": [
              "tensorflow.python.data.ops.dataset_ops.DatasetV1Adapter"
            ]
          },
          "metadata": {
            "tags": []
          },
          "execution_count": 6
        }
      ]
    },
    {
      "cell_type": "markdown",
      "metadata": {
        "id": "tZejYX5k2DCW",
        "colab_type": "text"
      },
      "source": [
        "## Creating a custom subwords tokenizer from the training dataset."
      ]
    },
    {
      "cell_type": "code",
      "metadata": {
        "id": "NFAUITGu0hyT",
        "colab_type": "code",
        "colab": {
          "base_uri": "https://localhost:8080/",
          "height": 496
        },
        "outputId": "4cfd7e3b-692a-4ec0-d3bc-c19c437b1d92"
      },
      "source": [
        "count = 0\n",
        "for a, b in train:\n",
        "  count += 1\n",
        "  if count == 10:\n",
        "    break\n",
        "  else:\n",
        "    print(\"Portugees sentence:\",a)\n",
        "    print(\"English Corresponding Sentence\",b)\n",
        "    print(\"--\"*60)\n",
        "  "
      ],
      "execution_count": 7,
      "outputs": [
        {
          "output_type": "stream",
          "text": [
            "Portugees sentence: tf.Tensor(b'e quando melhoramos a procura , tiramos a \\xc3\\xbanica vantagem da impress\\xc3\\xa3o , que \\xc3\\xa9 a serendipidade .', shape=(), dtype=string)\n",
            "English Corresponding Sentence tf.Tensor(b'and when you improve searchability , you actually take away the one advantage of print , which is serendipity .', shape=(), dtype=string)\n",
            "------------------------------------------------------------------------------------------------------------------------\n",
            "Portugees sentence: tf.Tensor(b'mas e se estes fatores fossem ativos ?', shape=(), dtype=string)\n",
            "English Corresponding Sentence tf.Tensor(b'but what if it were active ?', shape=(), dtype=string)\n",
            "------------------------------------------------------------------------------------------------------------------------\n",
            "Portugees sentence: tf.Tensor(b'mas eles n\\xc3\\xa3o tinham a curiosidade de me testar .', shape=(), dtype=string)\n",
            "English Corresponding Sentence tf.Tensor(b\"but they did n't test for curiosity .\", shape=(), dtype=string)\n",
            "------------------------------------------------------------------------------------------------------------------------\n",
            "Portugees sentence: tf.Tensor(b'e esta rebeldia consciente \\xc3\\xa9 a raz\\xc3\\xa3o pela qual eu , como agn\\xc3\\xb3stica , posso ainda ter f\\xc3\\xa9 .', shape=(), dtype=string)\n",
            "English Corresponding Sentence tf.Tensor(b'and this conscious defiance is why i , as an agnostic , can still have faith .', shape=(), dtype=string)\n",
            "------------------------------------------------------------------------------------------------------------------------\n",
            "Portugees sentence: tf.Tensor(b\"`` `` '' podem usar tudo sobre a mesa no meu corpo . ''\", shape=(), dtype=string)\n",
            "English Corresponding Sentence tf.Tensor(b'you can use everything on the table on me .', shape=(), dtype=string)\n",
            "------------------------------------------------------------------------------------------------------------------------\n",
            "Portugees sentence: tf.Tensor(b\"`` eu escrevo muito acerca do `` '' teatro de seguran\\xc3\\xa7a '' '' , que s\\xc3\\xa3o produtos que fazem as pessoas sentirem-se seguras mas que , na realidade , n\\xc3\\xa3o fazem nada . ''\", shape=(), dtype=string)\n",
            "English Corresponding Sentence tf.Tensor(b\"`` i write a lot about `` '' security theater , '' '' which are products that make people feel secure , but do n't actually do anything . ''\", shape=(), dtype=string)\n",
            "------------------------------------------------------------------------------------------------------------------------\n",
            "Portugees sentence: tf.Tensor(b'colocaram-no bem no fundo duma mina de ferro no minnesota , nos \\xc3\\xbaltimos dois dias anunciaram os resultados mais sens\\xc3\\xadveis at\\xc3\\xa9 agora .', shape=(), dtype=string)\n",
            "English Corresponding Sentence tf.Tensor(b\"and they 've put it deep down in an iron mine in minnesota , ok , deep under the ground , and in fact , in the last couple of days announced the most sensitive results so far .\", shape=(), dtype=string)\n",
            "------------------------------------------------------------------------------------------------------------------------\n",
            "Portugees sentence: tf.Tensor(b'algumas pessoas t\\xc3\\xaam medo de que n\\xc3\\xa3o gostem delas .', shape=(), dtype=string)\n",
            "English Corresponding Sentence tf.Tensor(b'see , some people might fear girls not liking them back .', shape=(), dtype=string)\n",
            "------------------------------------------------------------------------------------------------------------------------\n",
            "Portugees sentence: tf.Tensor(b'n\\xc3\\xa3o , o que nos aconteceu , chris , \\xc3\\xa9 que o poder , o pre\\xc3\\xa7o est\\xc3\\xa1 fixado fora da margem .', shape=(), dtype=string)\n",
            "English Corresponding Sentence tf.Tensor(b\"no , what happened to us , chris , is that power , it 's priced off the margin .\", shape=(), dtype=string)\n",
            "------------------------------------------------------------------------------------------------------------------------\n"
          ],
          "name": "stdout"
        }
      ]
    },
    {
      "cell_type": "code",
      "metadata": {
        "id": "5cZnCUBg0-lt",
        "colab_type": "code",
        "colab": {}
      },
      "source": [
        "tokenizer_en = tfds.features.text.SubwordTextEncoder.build_from_corpus(\n",
        "    (en.numpy() for pt, en in train), target_vocab_size = 2**13\n",
        ")\n",
        "\n",
        "tokenizer_pt = tfds.features.text.SubwordTextEncoder.build_from_corpus(\n",
        "    (pt.numpy() for pt, en in train), target_vocab_size = 2**13\n",
        ")"
      ],
      "execution_count": 8,
      "outputs": []
    },
    {
      "cell_type": "code",
      "metadata": {
        "id": "d2fZdZT05NFb",
        "colab_type": "code",
        "colab": {}
      },
      "source": [
        "tokenizer_en.save_to_file('tokenizer_en')\n",
        "tokenizer_pt.save_to_file('tokenizer_pt')"
      ],
      "execution_count": 9,
      "outputs": []
    },
    {
      "cell_type": "code",
      "metadata": {
        "id": "DWv6RudK6SG-",
        "colab_type": "code",
        "colab": {}
      },
      "source": [
        "# Loading saved tokenizer\n",
        "encoder_en = tfds.features.text.SubwordTextEncoder.load_from_file('/content/tokenizer_en')\n",
        "encoder_pt = tfds.features.text.SubwordTextEncoder.load_from_file('/content/tokenizer_pt')"
      ],
      "execution_count": 10,
      "outputs": []
    },
    {
      "cell_type": "code",
      "metadata": {
        "id": "17Ci-MAs6pNo",
        "colab_type": "code",
        "colab": {
          "base_uri": "https://localhost:8080/",
          "height": 68
        },
        "outputId": "dc654631-4f22-4590-997a-fd48ef395bab"
      },
      "source": [
        "sample_string = \"Transfomer is cool.\"\n",
        "\n",
        "encoded_string = encoder_en.encode(sample_string)\n",
        "\n",
        "original_string = encoder_en.decode(encoded_string)\n",
        "\n",
        "print(\"Orginal String:\",sample_string)\n",
        "print(\"Encoded String:\",encoded_string)\n",
        "print(\"Decoded String:\",original_string)"
      ],
      "execution_count": 11,
      "outputs": [
        {
          "output_type": "stream",
          "text": [
            "Orginal String: Transfomer is cool.\n",
            "Encoded String: [7915, 1248, 7946, 1391, 2762, 7863, 13, 1671, 7877]\n",
            "Decoded String: Transfomer is cool.\n"
          ],
          "name": "stdout"
        }
      ]
    },
    {
      "cell_type": "code",
      "metadata": {
        "id": "nSBv4LiZm8kE",
        "colab_type": "code",
        "colab": {
          "base_uri": "https://localhost:8080/",
          "height": 170
        },
        "outputId": "ddd9bdf8-e406-4cbc-deb7-e143314f84bf"
      },
      "source": [
        "for ts in encoded_string:\n",
        "  print ('{} ----> {}'.format(ts, encoder_en.decode([ts])))"
      ],
      "execution_count": 12,
      "outputs": [
        {
          "output_type": "stream",
          "text": [
            "7915 ----> T\n",
            "1248 ----> ran\n",
            "7946 ----> s\n",
            "1391 ----> fo\n",
            "2762 ----> mer\n",
            "7863 ---->  \n",
            "13 ----> is \n",
            "1671 ----> cool\n",
            "7877 ----> .\n"
          ],
          "name": "stdout"
        }
      ]
    },
    {
      "cell_type": "code",
      "metadata": {
        "id": "59fXhQCg7ivD",
        "colab_type": "code",
        "colab": {}
      },
      "source": [
        "BUFFER_SIZE = 20000\n",
        "BATCH_SIZE = 64"
      ],
      "execution_count": 13,
      "outputs": []
    },
    {
      "cell_type": "markdown",
      "metadata": {
        "id": "h0nORr1m8MxF",
        "colab_type": "text"
      },
      "source": [
        "## Add a start and end token to the input and target."
      ]
    },
    {
      "cell_type": "code",
      "metadata": {
        "id": "KCKxrFDSATqm",
        "colab_type": "code",
        "colab": {
          "base_uri": "https://localhost:8080/",
          "height": 51
        },
        "outputId": "bdc29e66-d6be-469b-ba37-aeb3d65917f4"
      },
      "source": [
        "print(encoder_pt.vocab_size)\n",
        "print(encoder_en.vocab_size)"
      ],
      "execution_count": 14,
      "outputs": [
        {
          "output_type": "stream",
          "text": [
            "8214\n",
            "8087\n"
          ],
          "name": "stdout"
        }
      ]
    },
    {
      "cell_type": "code",
      "metadata": {
        "id": "QRsPfOQIB_2o",
        "colab_type": "code",
        "colab": {
          "base_uri": "https://localhost:8080/",
          "height": 51
        },
        "outputId": "b5e5a03b-2c9e-4864-cf89-bae49e236fc4"
      },
      "source": [
        "a = [encoder_pt.vocab_size]\n",
        "b = np.array([2])\n",
        "print(b[0])\n",
        "c = a + b[0]\n",
        "print(c)"
      ],
      "execution_count": 15,
      "outputs": [
        {
          "output_type": "stream",
          "text": [
            "2\n",
            "[8216]\n"
          ],
          "name": "stdout"
        }
      ]
    },
    {
      "cell_type": "code",
      "metadata": {
        "id": "XZhkwg0H_Llv",
        "colab_type": "code",
        "colab": {}
      },
      "source": [
        "def encode(lang1, lang2):\n",
        "  lang1 = [encoder_pt.vocab_size] + encoder_pt.encode(lang1.numpy()) + [encoder_pt.vocab_size + 1]\n",
        "\n",
        "  lang2 = [encoder_en.vocab_size] + encoder_en.encode(lang2.numpy()) + [encoder_en.vocab_size + 1]\n",
        "\n",
        "  return lang1, lang2"
      ],
      "execution_count": 16,
      "outputs": []
    },
    {
      "cell_type": "code",
      "metadata": {
        "id": "UsJaq_72C38c",
        "colab_type": "code",
        "colab": {}
      },
      "source": [
        "def tf_encode(pt, en):\n",
        "  result_pt, result_en = tf.py_function(encode, [pt, en], [tf.int64, tf.int64])\n",
        "  result_pt.set_shape([None])\n",
        "  result_en.set_shape([None])\n",
        "\n",
        "  return result_pt, result_en"
      ],
      "execution_count": 17,
      "outputs": []
    },
    {
      "cell_type": "markdown",
      "metadata": {
        "id": "UahS8-ajDtkQ",
        "colab_type": "text"
      },
      "source": [
        "## Dropping long sentences over 40 tokens "
      ]
    },
    {
      "cell_type": "code",
      "metadata": {
        "id": "7EJCbbZ3DmRx",
        "colab_type": "code",
        "colab": {}
      },
      "source": [
        "MAX_LENGTH = 40"
      ],
      "execution_count": 18,
      "outputs": []
    },
    {
      "cell_type": "code",
      "metadata": {
        "id": "ELwafB1PDqm4",
        "colab_type": "code",
        "colab": {}
      },
      "source": [
        "def filter_max_length(x, y, max_length = MAX_LENGTH):\n",
        "  return tf.logical_and(tf.size(x) <= max_length, tf.size(y) <= max_length)"
      ],
      "execution_count": 19,
      "outputs": []
    },
    {
      "cell_type": "code",
      "metadata": {
        "id": "4d3-4Mv8E3iw",
        "colab_type": "code",
        "colab": {}
      },
      "source": [
        "train_dataset = train.map(tf_encode)\n",
        "train_dataset = train_dataset.filter(filter_max_length)\n",
        "\n",
        "# cache the dataset to memory to get a speedup while reading from it.\n",
        "train_dataset = train_dataset.cache()\n",
        "train_dataset = train_dataset.shuffle(BUFFER_SIZE).padded_batch(BATCH_SIZE)\n",
        "train_dataset = train_dataset.prefetch(tf.data.experimental.AUTOTUNE)\n",
        "\n",
        "val_dataset = val.map(tf_encode)\n",
        "val_dataset = val_dataset.filter(filter_max_length).padded_batch(BATCH_SIZE)"
      ],
      "execution_count": 20,
      "outputs": []
    },
    {
      "cell_type": "code",
      "metadata": {
        "id": "LLMLKiytJMmU",
        "colab_type": "code",
        "colab": {
          "base_uri": "https://localhost:8080/",
          "height": 289
        },
        "outputId": "23196e10-5b10-4751-ead9-db5bdc0c61d3"
      },
      "source": [
        "pt_batch, en_batch = next(iter(val_dataset))\n",
        "pt_batch, en_batch"
      ],
      "execution_count": 21,
      "outputs": [
        {
          "output_type": "execute_result",
          "data": {
            "text/plain": [
              "(<tf.Tensor: shape=(64, 38), dtype=int64, numpy=\n",
              " array([[8214,  342, 3032, ...,    0,    0,    0],\n",
              "        [8214,   95,  198, ...,    0,    0,    0],\n",
              "        [8214, 4479, 7990, ...,    0,    0,    0],\n",
              "        ...,\n",
              "        [8214,  584,   12, ...,    0,    0,    0],\n",
              "        [8214,   59, 1548, ...,    0,    0,    0],\n",
              "        [8214,  118,   34, ...,    0,    0,    0]])>,\n",
              " <tf.Tensor: shape=(64, 40), dtype=int64, numpy=\n",
              " array([[8087,   98,   25, ...,    0,    0,    0],\n",
              "        [8087,   12,   20, ...,    0,    0,    0],\n",
              "        [8087,   12, 5453, ...,    0,    0,    0],\n",
              "        ...,\n",
              "        [8087,   18, 2059, ...,    0,    0,    0],\n",
              "        [8087,   16, 1436, ...,    0,    0,    0],\n",
              "        [8087,   15,   57, ...,    0,    0,    0]])>)"
            ]
          },
          "metadata": {
            "tags": []
          },
          "execution_count": 21
        }
      ]
    },
    {
      "cell_type": "markdown",
      "metadata": {
        "id": "KiCuB_wlJYSr",
        "colab_type": "text"
      },
      "source": [
        "## Positional Encoding"
      ]
    },
    {
      "cell_type": "code",
      "metadata": {
        "id": "wzn3s3m1JRgB",
        "colab_type": "code",
        "colab": {}
      },
      "source": [
        "def get_angles(pos, i, d_model):\n",
        "  angles_rates = 1 / np.power(1000, (2 * (i//2)) / np.float32(d_model))\n",
        "  return pos * angles_rates"
      ],
      "execution_count": 22,
      "outputs": []
    },
    {
      "cell_type": "markdown",
      "metadata": {
        "id": "N_-Q5dszdkoE",
        "colab_type": "text"
      },
      "source": [
        "np.newaxis will expand the dimension of the array"
      ]
    },
    {
      "cell_type": "code",
      "metadata": {
        "id": "Ch0aUwr9atf0",
        "colab_type": "code",
        "colab": {}
      },
      "source": [
        "def positional_encoding(position, d_model):\n",
        "  angle_rads = get_angles(np.arange(position)[:, np.newaxis],\n",
        "                          np.arange(d_model)[np.newaxis, :],\n",
        "                          d_model)\n",
        "  \n",
        "  # apply sin to even indices in the array; 2i\n",
        "  angle_rads[:, 0::2] = np.sin(angle_rads[:, 0::2])\n",
        "\n",
        "  # apply cos to odd indices in the array; 2i+1\n",
        "  angle_rads[:, 1::2] = np.cos(angle_rads[:, 1::2])\n",
        "\n",
        "  pos_encoding = angle_rads[np.newaxis, ...]\n",
        "\n",
        "  return tf.cast(pos_encoding, dtype=tf.float32)"
      ],
      "execution_count": 23,
      "outputs": []
    },
    {
      "cell_type": "code",
      "metadata": {
        "id": "a2_rm_v1ebXh",
        "colab_type": "code",
        "colab": {
          "base_uri": "https://localhost:8080/",
          "height": 34
        },
        "outputId": "b6349965-03b3-4ae2-d4f3-9e98a8f071cb"
      },
      "source": [
        "pos_encoding = positional_encoding(50, 512)\n",
        "print(pos_encoding.shape)"
      ],
      "execution_count": 24,
      "outputs": [
        {
          "output_type": "stream",
          "text": [
            "(1, 50, 512)\n"
          ],
          "name": "stdout"
        }
      ]
    },
    {
      "cell_type": "markdown",
      "metadata": {
        "id": "Z4pSrNOKgmj8",
        "colab_type": "text"
      },
      "source": [
        "## Masking\n",
        "\n",
        "Mask all the pad tokens in the batch of sequence. It ensures that the model does not treat padding as the input. The mask indicates where pad value 0 is present: it outputs a 1 at those locations, and a 0 otherwise."
      ]
    },
    {
      "cell_type": "code",
      "metadata": {
        "id": "xoKZwyTGgTAG",
        "colab_type": "code",
        "colab": {}
      },
      "source": [
        "def create_padding_mask(seq):\n",
        "  seq = tf.cast(tf.math.equal(seq, 0), tf.float32)\n",
        "\n",
        "  # add extra dimensions to add the padding\n",
        "  # to the attention logits.\n",
        "\n",
        "  return seq[:, tf.newaxis, tf.newaxis, :]  # (batch_size, 1, 1, seq_len)"
      ],
      "execution_count": 25,
      "outputs": []
    },
    {
      "cell_type": "code",
      "metadata": {
        "id": "4tCi67dti9kj",
        "colab_type": "code",
        "colab": {
          "base_uri": "https://localhost:8080/",
          "height": 153
        },
        "outputId": "7bbb2798-6ec4-4cd9-d60f-b09dc6d49957"
      },
      "source": [
        "xx = tf.constant([[7, 6, 0, 0, 1], [1, 2, 3, 0, 0], [0, 0, 0, 4, 5]])\n",
        "create_padding_mask(xx)"
      ],
      "execution_count": 26,
      "outputs": [
        {
          "output_type": "execute_result",
          "data": {
            "text/plain": [
              "<tf.Tensor: shape=(3, 1, 1, 5), dtype=float32, numpy=\n",
              "array([[[[0., 0., 1., 1., 0.]]],\n",
              "\n",
              "\n",
              "       [[[0., 0., 0., 1., 1.]]],\n",
              "\n",
              "\n",
              "       [[[1., 1., 1., 0., 0.]]]], dtype=float32)>"
            ]
          },
          "metadata": {
            "tags": []
          },
          "execution_count": 26
        }
      ]
    },
    {
      "cell_type": "markdown",
      "metadata": {
        "id": "bJ_DRjPZjLw5",
        "colab_type": "text"
      },
      "source": [
        "The look-ahead mask is used to mask the future tokens in a sequence. In other words, the mask indicates which entries should not be used."
      ]
    },
    {
      "cell_type": "code",
      "metadata": {
        "id": "bwFBQ7UqjE_3",
        "colab_type": "code",
        "colab": {}
      },
      "source": [
        "def create_look_ahead_mask(size):\n",
        "  mask = 1 - tf.linalg.band_part(tf.ones((size, size)), -1, 0)\n",
        "  return mask  # (seq_len, seq_len)"
      ],
      "execution_count": 27,
      "outputs": []
    },
    {
      "cell_type": "code",
      "metadata": {
        "id": "0nK_rNV2k9aU",
        "colab_type": "code",
        "colab": {
          "base_uri": "https://localhost:8080/",
          "height": 85
        },
        "outputId": "d2cf42d3-5606-46f8-d43b-d45702000e15"
      },
      "source": [
        "xx = tf.random.uniform((1, 3))\n",
        "temp = create_look_ahead_mask(xx.shape[1])\n",
        "temp  "
      ],
      "execution_count": 28,
      "outputs": [
        {
          "output_type": "execute_result",
          "data": {
            "text/plain": [
              "<tf.Tensor: shape=(3, 3), dtype=float32, numpy=\n",
              "array([[0., 1., 1.],\n",
              "       [0., 0., 1.],\n",
              "       [0., 0., 0.]], dtype=float32)>"
            ]
          },
          "metadata": {
            "tags": []
          },
          "execution_count": 28
        }
      ]
    },
    {
      "cell_type": "markdown",
      "metadata": {
        "id": "xLlynz8lmZAj",
        "colab_type": "text"
      },
      "source": [
        "## Scaled Dot Product attention"
      ]
    },
    {
      "cell_type": "code",
      "metadata": {
        "id": "1t-7YtzLlEEm",
        "colab_type": "code",
        "colab": {}
      },
      "source": [
        "def scaled_dot_product_attention(q, k, v, mask):\n",
        "\n",
        "  matmul_qk = tf.matmul(q, v, transpose_b = True)\n",
        "\n",
        "  # scale matmul_qk\n",
        "  dk = tf.cast(tf.shape(k)[-1], tf.float32)\n",
        "  scaled_attention_logits = matmul_qk / tf.math.sqrt(dk)\n",
        "\n",
        "  # add the mask to the scaled tensor.\n",
        "  if mask is not None:\n",
        "    scaled_attention_logits += (mask * -1e9)\n",
        "\n",
        "  # Applying softmax\n",
        "  attention_weights = tf.nn.softmax(scaled_attention_logits, axis = -1)\n",
        "\n",
        "  output = tf.matmul(attention_weights, v)\n",
        "\n",
        "  return output, attention_weights"
      ],
      "execution_count": 29,
      "outputs": []
    },
    {
      "cell_type": "code",
      "metadata": {
        "id": "yBpL7H52rvpu",
        "colab_type": "code",
        "colab": {}
      },
      "source": [
        "def print_out(q, k, v):\n",
        "  temp_out, temp_attn = scaled_dot_product_attention(\n",
        "      q, k, v, None)\n",
        "  print ('Attention weights are:')\n",
        "  print (temp_attn)\n",
        "  print ('Output is:')\n",
        "  print (temp_out)"
      ],
      "execution_count": 30,
      "outputs": []
    },
    {
      "cell_type": "markdown",
      "metadata": {
        "id": "uqkKxhWys8gv",
        "colab_type": "text"
      },
      "source": [
        "## Multi-head Attention"
      ]
    },
    {
      "cell_type": "code",
      "metadata": {
        "id": "s7Kx1mML6nj-",
        "colab_type": "code",
        "colab": {}
      },
      "source": [
        "class MultiHeadAttention(tf.keras.layers.Layer):\n",
        "  def __init__(self, d_model, num_heads):\n",
        "    super(MultiHeadAttention, self).__init__()\n",
        "    self.d_model = d_model\n",
        "    self.num_heads = num_heads\n",
        "\n",
        "    assert d_model % num_heads == 0\n",
        "\n",
        "    self.depth = d_model // self.num_heads\n",
        "\n",
        "    self.wq = tf.keras.layers.Dense(d_model)\n",
        "    self.wk = tf.keras.layers.Dense(d_model)\n",
        "    self.wv = tf.keras.layers.Dense(d_model)\n",
        "\n",
        "    self.dense = tf.keras.layers.Dense(d_model)\n",
        "\n",
        "\n",
        "  def split_heads(self, x, batch_size):\n",
        "    x = tf.reshape(x, (batch_size, -1, self.num_heads, self.depth))\n",
        "    return tf.transpose(x, perm=[0, 2, 1, 3])\n",
        "\n",
        "  def call(self, v, k, q, mask):\n",
        "    batch_size = tf.shape(q)[0]\n",
        "\n",
        "    q = self.wq(q)\n",
        "    k = self.wk(k)\n",
        "    v = self.wv(v)\n",
        "\n",
        "    q = self.split_heads(q, batch_size)  # (batch_size, num_heads, seq_len_q, depth)\n",
        "    k = self.split_heads(k, batch_size)  # (batch_size, num_heads, seq_len_k, depth)\n",
        "    v = self.split_heads(v, batch_size)  # (batch_size, num_heads, seq_len_v, depth)\n",
        "\n",
        "    scaled_attention, attention_weights = scaled_dot_product_attention(q, k, v, mask)\n",
        "\n",
        "    scaled_attention = tf.transpose(scaled_attention, perm=[0, 2, 1, 3])\n",
        "\n",
        "    concat_attention = tf.reshape(scaled_attention, \n",
        "                                  (batch_size, -1, self.d_model)) \n",
        "    \n",
        "    output = self.dense(concat_attention)\n",
        "\n",
        "    return output, attention_weights"
      ],
      "execution_count": 31,
      "outputs": []
    },
    {
      "cell_type": "code",
      "metadata": {
        "id": "YkYztgx-_2O0",
        "colab_type": "code",
        "colab": {
          "base_uri": "https://localhost:8080/",
          "height": 34
        },
        "outputId": "204064c2-31f2-4407-85b9-f2052eddb35d"
      },
      "source": [
        "temp_mha = MultiHeadAttention(d_model=512, num_heads=8)\n",
        "y = tf.random.uniform((1, 60, 512))  # (batch_size, encoder_sequence, d_model)\n",
        "out, attn = temp_mha(y, k=y, q=y, mask=None)\n",
        "out.shape, attn.shape"
      ],
      "execution_count": 32,
      "outputs": [
        {
          "output_type": "execute_result",
          "data": {
            "text/plain": [
              "(TensorShape([1, 60, 512]), TensorShape([1, 8, 60, 60]))"
            ]
          },
          "metadata": {
            "tags": []
          },
          "execution_count": 32
        }
      ]
    },
    {
      "cell_type": "markdown",
      "metadata": {
        "id": "2cpJIehKBf5T",
        "colab_type": "text"
      },
      "source": [
        "## Point wise feedforward network"
      ]
    },
    {
      "cell_type": "code",
      "metadata": {
        "id": "iNiQgJExBDJR",
        "colab_type": "code",
        "colab": {}
      },
      "source": [
        "def point_wise_feed_forward_network(d_model, dff):\n",
        "  return tf.keras.Sequential([\n",
        "      tf.keras.layers.Dense(dff, activation='relu'),  # (batch_size, seq_len, dff)\n",
        "      tf.keras.layers.Dense(d_model)  # (batch_size, seq_len, d_model)\n",
        "  ])"
      ],
      "execution_count": 33,
      "outputs": []
    },
    {
      "cell_type": "code",
      "metadata": {
        "id": "DHG85blwCQFN",
        "colab_type": "code",
        "colab": {
          "base_uri": "https://localhost:8080/",
          "height": 34
        },
        "outputId": "97291c94-61a3-477f-b8ec-c62b5ebed77f"
      },
      "source": [
        "sample_ffn = point_wise_feed_forward_network(512, 2048)\n",
        "sample_ffn(tf.random.uniform((64, 50, 512))).shape"
      ],
      "execution_count": 34,
      "outputs": [
        {
          "output_type": "execute_result",
          "data": {
            "text/plain": [
              "TensorShape([64, 50, 512])"
            ]
          },
          "metadata": {
            "tags": []
          },
          "execution_count": 34
        }
      ]
    },
    {
      "cell_type": "markdown",
      "metadata": {
        "id": "y9-OIXkuCc51",
        "colab_type": "text"
      },
      "source": [
        "## Encoder Layer"
      ]
    },
    {
      "cell_type": "code",
      "metadata": {
        "id": "n_4Cnoq0CU0G",
        "colab_type": "code",
        "colab": {}
      },
      "source": [
        "class EncoderLayer(tf.keras.layers.Layer):\n",
        "  def __init__(self, d_model, num_heads, dff, rate = 0.1):\n",
        "    super(EncoderLayer, self).__init__()\n",
        "\n",
        "    self.mha = MultiHeadAttention(d_model, num_heads)\n",
        "    self.ffn = point_wise_feed_forward_network(d_model, dff)\n",
        "\n",
        "    self.layernorm1 = tf.keras.layers.LayerNormalization(epsilon=1e-6)\n",
        "    self.layernorm2 = tf.keras.layers.LayerNormalization(epsilon=1e-6)\n",
        "\n",
        "    self.dropout1 = tf.keras.layers.Dropout(rate)\n",
        "    self.dropout2 = tf.keras.layers.Dropout(rate)\n",
        "\n",
        "\n",
        "  def call(self, x, training, mask):\n",
        "    \n",
        "    attn_output, _ = self.mha(x, x, x, mask)\n",
        "    attn_output = self.dropout1(attn_output, training=training)\n",
        "    out1 = self.layernorm1(x + attn_output)\n",
        "\n",
        "    ffn_output = self.ffn(out1)\n",
        "    ffn_output = self.dropout2(ffn_output, training=training)\n",
        "    out2 = self.layernorm2(out1 + ffn_output)\n",
        "\n",
        "    return out2"
      ],
      "execution_count": 35,
      "outputs": []
    },
    {
      "cell_type": "markdown",
      "metadata": {
        "id": "cLyDEMKALtBf",
        "colab_type": "text"
      },
      "source": [
        "## Decode Layer"
      ]
    },
    {
      "cell_type": "code",
      "metadata": {
        "id": "R-4RserwLp9F",
        "colab_type": "code",
        "colab": {}
      },
      "source": [
        "class DecoderLayer(tf.keras.layers.Layer):\n",
        "  def __init__(self, d_model, num_heads, dff, rate=0.1):\n",
        "    super(DecoderLayer, self).__init__()\n",
        "\n",
        "    self.mha1 = MultiHeadAttention(d_model, num_heads)\n",
        "    self.mha2 = MultiHeadAttention(d_model, num_heads)\n",
        "\n",
        "    self.ffn = point_wise_feed_forward_network(d_model, dff)\n",
        " \n",
        "    self.layernorm1 = tf.keras.layers.LayerNormalization(epsilon=1e-6)\n",
        "    self.layernorm2 = tf.keras.layers.LayerNormalization(epsilon=1e-6)\n",
        "    self.layernorm3 = tf.keras.layers.LayerNormalization(epsilon=1e-6)\n",
        "    \n",
        "    self.dropout1 = tf.keras.layers.Dropout(rate)\n",
        "    self.dropout2 = tf.keras.layers.Dropout(rate)\n",
        "    self.dropout3 = tf.keras.layers.Dropout(rate)\n",
        "    \n",
        "    \n",
        "  def call(self, x, enc_output, training, \n",
        "           look_ahead_mask, padding_mask):\n",
        "    # enc_output.shape == (batch_size, input_seq_len, d_model)\n",
        "\n",
        "    attn1, attn_weights_block1 = self.mha1(x, x, x, look_ahead_mask)  # (batch_size, target_seq_len, d_model)\n",
        "    attn1 = self.dropout1(attn1, training=training)\n",
        "    out1 = self.layernorm1(attn1 + x)\n",
        "    \n",
        "    attn2, attn_weights_block2 = self.mha2(\n",
        "        enc_output, enc_output, out1, padding_mask)  # (batch_size, target_seq_len, d_model)\n",
        "    attn2 = self.dropout2(attn2, training=training)\n",
        "    out2 = self.layernorm2(attn2 + out1)  # (batch_size, target_seq_len, d_model)\n",
        "    \n",
        "    ffn_output = self.ffn(out2)  # (batch_size, target_seq_len, d_model)\n",
        "    ffn_output = self.dropout3(ffn_output, training=training)\n",
        "    out3 = self.layernorm3(ffn_output + out2)  # (batch_size, target_seq_len, d_model)\n",
        "    \n",
        "    return out3, attn_weights_block1, attn_weights_block2"
      ],
      "execution_count": 36,
      "outputs": []
    },
    {
      "cell_type": "markdown",
      "metadata": {
        "id": "96pq3-BJM76f",
        "colab_type": "text"
      },
      "source": [
        "## Encoder"
      ]
    },
    {
      "cell_type": "code",
      "metadata": {
        "id": "aL3BBBnSM6u4",
        "colab_type": "code",
        "colab": {}
      },
      "source": [
        "class Encoder(tf.keras.layers.Layer):\n",
        "  def __init__(self, num_layers, d_model, num_heads, dff, input_vocab_size,\n",
        "               maximum_position_encoding, rate=0.1):\n",
        "    super(Encoder, self).__init__()\n",
        "\n",
        "    self.num_layers = num_layers\n",
        "    self.num_heads = num_heads\n",
        "    self.d_model = d_model\n",
        "\n",
        "    self.embedding = tf.keras.layers.Embedding(input_vocab_size, d_model)\n",
        "\n",
        "    self.pos_encoding = positional_encoding(maximum_position_encoding, \n",
        "                                            self.d_model)\n",
        " \n",
        "    self.enc_layers = [EncoderLayer(d_model, num_heads, dff, rate) \n",
        "                       for _ in range(num_layers)]\n",
        "\n",
        "    self.dropout = tf.keras.layers.Dropout(rate)\n",
        "\n",
        "  def call(self, x, training, mask):\n",
        "\n",
        "    seq_len = tf.shape(x)[1]\n",
        "    \n",
        "    # adding embedding and position encoding.\n",
        "    x = self.embedding(x)  # (batch_size, input_seq_len, d_model)\n",
        "    x *= tf.math.sqrt(tf.cast(self.d_model, tf.float32))\n",
        "    x += self.pos_encoding[:, :seq_len, :]\n",
        "\n",
        "    x = self.dropout(x, training=training)\n",
        "    \n",
        "    for i in range(self.num_layers):\n",
        "      x = self.enc_layers[i](x, training, mask)\n",
        "    \n",
        "    return x  # (batch_size, input_seq_len, d_model)\n"
      ],
      "execution_count": 37,
      "outputs": []
    },
    {
      "cell_type": "markdown",
      "metadata": {
        "id": "EtHNe0LVP-G7",
        "colab_type": "text"
      },
      "source": [
        "## Decoder"
      ]
    },
    {
      "cell_type": "code",
      "metadata": {
        "id": "Bkf3HtZcP8u-",
        "colab_type": "code",
        "colab": {}
      },
      "source": [
        "class Decoder(tf.keras.layers.Layer):\n",
        "  def __init__(self, num_layers, d_model, num_heads, dff, target_vocab_size,\n",
        "               maximum_position_encoding, rate=0.1):\n",
        "    super(Decoder, self).__init__()\n",
        "\n",
        "    self.d_model = d_model\n",
        "    self.num_layers = num_layers\n",
        "    \n",
        "    self.embedding = tf.keras.layers.Embedding(target_vocab_size, d_model)\n",
        "    self.pos_encoding = positional_encoding(maximum_position_encoding, d_model)\n",
        "    \n",
        "    self.dec_layers = [DecoderLayer(d_model, num_heads, dff, rate) \n",
        "                       for _ in range(num_layers)]\n",
        "    self.dropout = tf.keras.layers.Dropout(rate)\n",
        "    \n",
        "  def call(self, x, enc_output, training, \n",
        "           look_ahead_mask, padding_mask):\n",
        "\n",
        "    seq_len = tf.shape(x)[1]\n",
        "    attention_weights = {}\n",
        "    \n",
        "    x = self.embedding(x)  # (batch_size, target_seq_len, d_model)\n",
        "    x *= tf.math.sqrt(tf.cast(self.d_model, tf.float32))\n",
        "    x += self.pos_encoding[:, :seq_len, :]\n",
        "    \n",
        "    x = self.dropout(x, training=training)\n",
        "\n",
        "    for i in range(self.num_layers):\n",
        "      x, block1, block2 = self.dec_layers[i](x, enc_output, training,\n",
        "                                             look_ahead_mask, padding_mask)\n",
        "      \n",
        "      attention_weights['decoder_layer{}_block1'.format(i+1)] = block1\n",
        "      attention_weights['decoder_layer{}_block2'.format(i+1)] = block2\n",
        "    \n",
        "    # x.shape == (batch_size, target_seq_len, d_model)\n",
        "    return x, attention_weights"
      ],
      "execution_count": 38,
      "outputs": []
    },
    {
      "cell_type": "markdown",
      "metadata": {
        "id": "8uI9NyKc0sH9",
        "colab_type": "text"
      },
      "source": [
        "## Transformer"
      ]
    },
    {
      "cell_type": "code",
      "metadata": {
        "id": "2gLbSbf40xau",
        "colab_type": "code",
        "colab": {}
      },
      "source": [
        "class Transformer(tf.keras.Model):\n",
        "  def __init__(self, num_layers, d_model, num_heads, dff, input_vocab_size, target_vocab_size, pe_input, pe_target, rate=0.1):\n",
        "    super(Transformer, self).__init__()\n",
        "\n",
        "    self.encoder = Encoder(num_layers, d_model, num_heads, dff, \n",
        "                           input_vocab_size, pe_input, rate)\n",
        "\n",
        "    self.decoder = Decoder(num_layers, d_model, num_heads, dff, \n",
        "                           target_vocab_size, pe_target, rate)\n",
        "\n",
        "    self.final_layer = tf.keras.layers.Dense(target_vocab_size)\n",
        "    \n",
        "  def call(self, inp, tar, training, enc_padding_mask,look_ahead_mask, dec_padding_mask):\n",
        "\n",
        "    enc_output = self.encoder(inp, training, enc_padding_mask) \n",
        "\n",
        "    dec_output, attention_weights = self.decoder(\n",
        "        tar, enc_output, training, look_ahead_mask, dec_padding_mask)\n",
        "    \n",
        "    final_output = self.final_layer(dec_output)  \n",
        "    \n",
        "    return final_output, attention_weights"
      ],
      "execution_count": 39,
      "outputs": []
    },
    {
      "cell_type": "markdown",
      "metadata": {
        "id": "smzdgqLQ3VkJ",
        "colab_type": "text"
      },
      "source": [
        "## Setting HyperParameter"
      ]
    },
    {
      "cell_type": "code",
      "metadata": {
        "id": "Hx2ju70p3Ni3",
        "colab_type": "code",
        "colab": {}
      },
      "source": [
        "num_layers = 4\n",
        "d_model = 128\n",
        "dff = 512\n",
        "num_heads = 8\n",
        "\n",
        "input_vocab_size = encoder_pt.vocab_size + 2\n",
        "target_vocab_size = encoder_en.vocab_size + 2\n",
        "dropout_rate = 0.1"
      ],
      "execution_count": 40,
      "outputs": []
    },
    {
      "cell_type": "markdown",
      "metadata": {
        "id": "C9szEeFy37Du",
        "colab_type": "text"
      },
      "source": [
        "## Optimizer"
      ]
    },
    {
      "cell_type": "code",
      "metadata": {
        "id": "-tvZTdz836Yn",
        "colab_type": "code",
        "colab": {}
      },
      "source": [
        "class CustomSchedule(tf.keras.optimizers.schedules.LearningRateSchedule):\n",
        "  def __init__(self, d_model, warmup_steps=4000):\n",
        "    super(CustomSchedule, self).__init__()\n",
        "    \n",
        "    self.d_model = d_model\n",
        "    self.d_model = tf.cast(self.d_model, tf.float32)\n",
        "\n",
        "    self.warmup_steps = warmup_steps\n",
        "    \n",
        "  def __call__(self, step):\n",
        "    arg1 = tf.math.rsqrt(step)\n",
        "    arg2 = step * (self.warmup_steps ** -1.5)\n",
        "    \n",
        "    return tf.math.rsqrt(self.d_model) * tf.math.minimum(arg1, arg2)"
      ],
      "execution_count": 41,
      "outputs": []
    },
    {
      "cell_type": "code",
      "metadata": {
        "id": "2luGty3y49cW",
        "colab_type": "code",
        "colab": {}
      },
      "source": [
        "learning_rate = CustomSchedule(d_model)\n",
        "\n",
        "optimizer = tf.keras.optimizers.Adam(learning_rate, beta_1=0.9, beta_2=0.98, \n",
        "                                     epsilon=1e-9)"
      ],
      "execution_count": 42,
      "outputs": []
    },
    {
      "cell_type": "markdown",
      "metadata": {
        "id": "UB2KnP1t5E2U",
        "colab_type": "text"
      },
      "source": [
        "## Loss and Metric"
      ]
    },
    {
      "cell_type": "code",
      "metadata": {
        "id": "1QpBZNrCBdex",
        "colab_type": "code",
        "colab": {}
      },
      "source": [
        "loss_object = tf.keras.losses.SparseCategoricalCrossentropy(\n",
        "    from_logits=True, reduction='none')"
      ],
      "execution_count": 43,
      "outputs": []
    },
    {
      "cell_type": "code",
      "metadata": {
        "id": "M2n2Vuwa4-K1",
        "colab_type": "code",
        "colab": {}
      },
      "source": [
        "def loss_function(real, pred):\n",
        "  mask = tf.math.logical_not(tf.math.equal(real, 0))\n",
        "  loss_ = loss_object(real, pred)\n",
        "\n",
        "  mask = tf.cast(mask, dtype=loss_.dtype)\n",
        "  loss_ *= mask\n",
        "  \n",
        "  return tf.reduce_sum(loss_)/tf.reduce_sum(mask)"
      ],
      "execution_count": 44,
      "outputs": []
    },
    {
      "cell_type": "code",
      "metadata": {
        "id": "XSQL_C0B6UG1",
        "colab_type": "code",
        "colab": {}
      },
      "source": [
        "train_loss = tf.keras.metrics.Mean(name='train_loss')\n",
        "train_accuracy = tf.keras.metrics.SparseCategoricalAccuracy(\n",
        "    name='train_accuracy')"
      ],
      "execution_count": 45,
      "outputs": []
    },
    {
      "cell_type": "markdown",
      "metadata": {
        "id": "7eMS-2Z56Ksb",
        "colab_type": "text"
      },
      "source": [
        "## Checkpoint"
      ]
    },
    {
      "cell_type": "code",
      "metadata": {
        "id": "WFsObMdr6Hon",
        "colab_type": "code",
        "colab": {}
      },
      "source": [
        "transformer = Transformer(num_layers, d_model, num_heads, dff,\n",
        "                          input_vocab_size, target_vocab_size, \n",
        "                          pe_input=input_vocab_size, \n",
        "                          pe_target=target_vocab_size,\n",
        "                          rate=dropout_rate)"
      ],
      "execution_count": 46,
      "outputs": []
    },
    {
      "cell_type": "code",
      "metadata": {
        "id": "5dXxp9jO6apa",
        "colab_type": "code",
        "colab": {}
      },
      "source": [
        "def create_masks(inp, tar):\n",
        "  \n",
        "  enc_padding_mask = create_padding_mask(inp)\n",
        "  \n",
        "  dec_padding_mask = create_padding_mask(inp)\n",
        "  \n",
        "  look_ahead_mask = create_look_ahead_mask(tf.shape(tar)[1])\n",
        "  dec_target_padding_mask = create_padding_mask(tar)\n",
        "  combined_mask = tf.maximum(dec_target_padding_mask, look_ahead_mask)\n",
        "  \n",
        "  return enc_padding_mask, combined_mask, dec_padding_mask"
      ],
      "execution_count": 47,
      "outputs": []
    },
    {
      "cell_type": "code",
      "metadata": {
        "id": "m49f0JLl7xmV",
        "colab_type": "code",
        "colab": {}
      },
      "source": [
        "checkpoint_path = \"./checkpoints/train\"\n",
        "\n",
        "ckpt = tf.train.Checkpoint(transformer=transformer,\n",
        "                           optimizer=optimizer)\n",
        "\n",
        "ckpt_manager = tf.train.CheckpointManager(ckpt, checkpoint_path, max_to_keep=1)\n",
        "\n",
        "# if a checkpoint exists, restore the latest checkpoint.\n",
        "if ckpt_manager.latest_checkpoint:\n",
        "  ckpt.restore(ckpt_manager.latest_checkpoint)\n",
        "  print ('Latest checkpoint restored!!')"
      ],
      "execution_count": 48,
      "outputs": []
    },
    {
      "cell_type": "markdown",
      "metadata": {
        "id": "DqHzPXDz9Ju8",
        "colab_type": "text"
      },
      "source": [
        "## Training"
      ]
    },
    {
      "cell_type": "code",
      "metadata": {
        "id": "5HK3uCJQ9JK9",
        "colab_type": "code",
        "colab": {}
      },
      "source": [
        "EPOCHS = 20"
      ],
      "execution_count": 49,
      "outputs": []
    },
    {
      "cell_type": "code",
      "metadata": {
        "id": "-8EI-Znt8-7I",
        "colab_type": "code",
        "colab": {}
      },
      "source": [
        "train_step_signature = [\n",
        "    tf.TensorSpec(shape=(None, None), dtype=tf.int64),\n",
        "    tf.TensorSpec(shape=(None, None), dtype=tf.int64),\n",
        "]\n",
        "\n",
        "@tf.function(input_signature=train_step_signature)\n",
        "def train_step(inp, tar):\n",
        "  tar_inp = tar[:, :-1]\n",
        "  tar_real = tar[:, 1:]\n",
        "  \n",
        "  enc_padding_mask, combined_mask, dec_padding_mask = create_masks(inp, tar_inp)\n",
        "  \n",
        "  with tf.GradientTape() as tape:\n",
        "    predictions, _ = transformer(inp, tar_inp, \n",
        "                                 True, \n",
        "                                 enc_padding_mask, \n",
        "                                 combined_mask, \n",
        "                                 dec_padding_mask)\n",
        "    loss = loss_function(tar_real, predictions)\n",
        "\n",
        "  gradients = tape.gradient(loss, transformer.trainable_variables)    \n",
        "  optimizer.apply_gradients(zip(gradients, transformer.trainable_variables))\n",
        "  \n",
        "  train_loss(loss)\n",
        "  train_accuracy(tar_real, predictions)"
      ],
      "execution_count": 50,
      "outputs": []
    },
    {
      "cell_type": "code",
      "metadata": {
        "id": "pcBukpuB-YVX",
        "colab_type": "code",
        "colab": {}
      },
      "source": [
        "from tqdm import tqdm\n",
        "import time"
      ],
      "execution_count": 51,
      "outputs": []
    },
    {
      "cell_type": "code",
      "metadata": {
        "id": "p6SsppkN-ao2",
        "colab_type": "code",
        "colab": {
          "base_uri": "https://localhost:8080/",
          "height": 1000
        },
        "outputId": "dc95358b-bc07-4858-96cd-052ea8f0ad42"
      },
      "source": [
        "for epoch in tqdm(range(EPOCHS)):\n",
        "  start = time.time()\n",
        "\n",
        "  train_loss.reset_states()\n",
        "  train_accuracy.reset_states()\n",
        "  \n",
        "  # inp -> portuguese, tar -> english\n",
        "  for (batch, (inp, tar)) in enumerate(train_dataset):\n",
        "    train_step(inp, tar)\n",
        "    \n",
        "    if batch % 50 == 0:\n",
        "      print ('Epoch {} Batch {} Loss {:.4f} Accuracy {:.4f}'.format(\n",
        "          epoch + 1, batch, train_loss.result(), train_accuracy.result()))\n",
        "      \n",
        "  if (epoch + 1) % 5 == 0:\n",
        "    ckpt_save_path = ckpt_manager.save()\n",
        "    print ('Saving checkpoint for epoch {} at {}'.format(epoch+1,\n",
        "                                                         ckpt_save_path))\n",
        "    \n",
        "  print ('Epoch {} Loss {:.4f} Accuracy {:.4f}'.format(epoch + 1, \n",
        "                                                train_loss.result(), \n",
        "                                                train_accuracy.result()))\n",
        "\n",
        "  print ('Time taken for 1 epoch: {} secs\\n'.format(time.time() - start))\n"
      ],
      "execution_count": 52,
      "outputs": [
        {
          "output_type": "stream",
          "text": [
            "\r  0%|          | 0/20 [00:00<?, ?it/s]"
          ],
          "name": "stderr"
        },
        {
          "output_type": "stream",
          "text": [
            "WARNING:tensorflow:Gradients do not exist for variables ['transformer/encoder/encoder_layer/multi_head_attention_1/dense_7/kernel:0', 'transformer/encoder/encoder_layer/multi_head_attention_1/dense_7/bias:0', 'transformer/encoder/encoder_layer_1/multi_head_attention_2/dense_13/kernel:0', 'transformer/encoder/encoder_layer_1/multi_head_attention_2/dense_13/bias:0', 'transformer/encoder/encoder_layer_2/multi_head_attention_3/dense_19/kernel:0', 'transformer/encoder/encoder_layer_2/multi_head_attention_3/dense_19/bias:0', 'transformer/encoder/encoder_layer_3/multi_head_attention_4/dense_25/kernel:0', 'transformer/encoder/encoder_layer_3/multi_head_attention_4/dense_25/bias:0', 'transformer/decoder/decoder_layer/multi_head_attention_5/dense_31/kernel:0', 'transformer/decoder/decoder_layer/multi_head_attention_5/dense_31/bias:0', 'transformer/decoder/decoder_layer/multi_head_attention_6/dense_35/kernel:0', 'transformer/decoder/decoder_layer/multi_head_attention_6/dense_35/bias:0', 'transformer/decoder/decoder_layer_1/multi_head_attention_7/dense_41/kernel:0', 'transformer/decoder/decoder_layer_1/multi_head_attention_7/dense_41/bias:0', 'transformer/decoder/decoder_layer_1/multi_head_attention_8/dense_45/kernel:0', 'transformer/decoder/decoder_layer_1/multi_head_attention_8/dense_45/bias:0', 'transformer/decoder/decoder_layer_2/multi_head_attention_9/dense_51/kernel:0', 'transformer/decoder/decoder_layer_2/multi_head_attention_9/dense_51/bias:0', 'transformer/decoder/decoder_layer_2/multi_head_attention_10/dense_55/kernel:0', 'transformer/decoder/decoder_layer_2/multi_head_attention_10/dense_55/bias:0', 'transformer/decoder/decoder_layer_3/multi_head_attention_11/dense_61/kernel:0', 'transformer/decoder/decoder_layer_3/multi_head_attention_11/dense_61/bias:0', 'transformer/decoder/decoder_layer_3/multi_head_attention_12/dense_65/kernel:0', 'transformer/decoder/decoder_layer_3/multi_head_attention_12/dense_65/bias:0'] when minimizing the loss.\n"
          ],
          "name": "stdout"
        },
        {
          "output_type": "stream",
          "text": [
            "WARNING:tensorflow:Gradients do not exist for variables ['transformer/encoder/encoder_layer/multi_head_attention_1/dense_7/kernel:0', 'transformer/encoder/encoder_layer/multi_head_attention_1/dense_7/bias:0', 'transformer/encoder/encoder_layer_1/multi_head_attention_2/dense_13/kernel:0', 'transformer/encoder/encoder_layer_1/multi_head_attention_2/dense_13/bias:0', 'transformer/encoder/encoder_layer_2/multi_head_attention_3/dense_19/kernel:0', 'transformer/encoder/encoder_layer_2/multi_head_attention_3/dense_19/bias:0', 'transformer/encoder/encoder_layer_3/multi_head_attention_4/dense_25/kernel:0', 'transformer/encoder/encoder_layer_3/multi_head_attention_4/dense_25/bias:0', 'transformer/decoder/decoder_layer/multi_head_attention_5/dense_31/kernel:0', 'transformer/decoder/decoder_layer/multi_head_attention_5/dense_31/bias:0', 'transformer/decoder/decoder_layer/multi_head_attention_6/dense_35/kernel:0', 'transformer/decoder/decoder_layer/multi_head_attention_6/dense_35/bias:0', 'transformer/decoder/decoder_layer_1/multi_head_attention_7/dense_41/kernel:0', 'transformer/decoder/decoder_layer_1/multi_head_attention_7/dense_41/bias:0', 'transformer/decoder/decoder_layer_1/multi_head_attention_8/dense_45/kernel:0', 'transformer/decoder/decoder_layer_1/multi_head_attention_8/dense_45/bias:0', 'transformer/decoder/decoder_layer_2/multi_head_attention_9/dense_51/kernel:0', 'transformer/decoder/decoder_layer_2/multi_head_attention_9/dense_51/bias:0', 'transformer/decoder/decoder_layer_2/multi_head_attention_10/dense_55/kernel:0', 'transformer/decoder/decoder_layer_2/multi_head_attention_10/dense_55/bias:0', 'transformer/decoder/decoder_layer_3/multi_head_attention_11/dense_61/kernel:0', 'transformer/decoder/decoder_layer_3/multi_head_attention_11/dense_61/bias:0', 'transformer/decoder/decoder_layer_3/multi_head_attention_12/dense_65/kernel:0', 'transformer/decoder/decoder_layer_3/multi_head_attention_12/dense_65/bias:0'] when minimizing the loss.\n"
          ],
          "name": "stderr"
        },
        {
          "output_type": "stream",
          "text": [
            "WARNING:tensorflow:Gradients do not exist for variables ['transformer/encoder/encoder_layer/multi_head_attention_1/dense_7/kernel:0', 'transformer/encoder/encoder_layer/multi_head_attention_1/dense_7/bias:0', 'transformer/encoder/encoder_layer_1/multi_head_attention_2/dense_13/kernel:0', 'transformer/encoder/encoder_layer_1/multi_head_attention_2/dense_13/bias:0', 'transformer/encoder/encoder_layer_2/multi_head_attention_3/dense_19/kernel:0', 'transformer/encoder/encoder_layer_2/multi_head_attention_3/dense_19/bias:0', 'transformer/encoder/encoder_layer_3/multi_head_attention_4/dense_25/kernel:0', 'transformer/encoder/encoder_layer_3/multi_head_attention_4/dense_25/bias:0', 'transformer/decoder/decoder_layer/multi_head_attention_5/dense_31/kernel:0', 'transformer/decoder/decoder_layer/multi_head_attention_5/dense_31/bias:0', 'transformer/decoder/decoder_layer/multi_head_attention_6/dense_35/kernel:0', 'transformer/decoder/decoder_layer/multi_head_attention_6/dense_35/bias:0', 'transformer/decoder/decoder_layer_1/multi_head_attention_7/dense_41/kernel:0', 'transformer/decoder/decoder_layer_1/multi_head_attention_7/dense_41/bias:0', 'transformer/decoder/decoder_layer_1/multi_head_attention_8/dense_45/kernel:0', 'transformer/decoder/decoder_layer_1/multi_head_attention_8/dense_45/bias:0', 'transformer/decoder/decoder_layer_2/multi_head_attention_9/dense_51/kernel:0', 'transformer/decoder/decoder_layer_2/multi_head_attention_9/dense_51/bias:0', 'transformer/decoder/decoder_layer_2/multi_head_attention_10/dense_55/kernel:0', 'transformer/decoder/decoder_layer_2/multi_head_attention_10/dense_55/bias:0', 'transformer/decoder/decoder_layer_3/multi_head_attention_11/dense_61/kernel:0', 'transformer/decoder/decoder_layer_3/multi_head_attention_11/dense_61/bias:0', 'transformer/decoder/decoder_layer_3/multi_head_attention_12/dense_65/kernel:0', 'transformer/decoder/decoder_layer_3/multi_head_attention_12/dense_65/bias:0'] when minimizing the loss.\n"
          ],
          "name": "stdout"
        },
        {
          "output_type": "stream",
          "text": [
            "WARNING:tensorflow:Gradients do not exist for variables ['transformer/encoder/encoder_layer/multi_head_attention_1/dense_7/kernel:0', 'transformer/encoder/encoder_layer/multi_head_attention_1/dense_7/bias:0', 'transformer/encoder/encoder_layer_1/multi_head_attention_2/dense_13/kernel:0', 'transformer/encoder/encoder_layer_1/multi_head_attention_2/dense_13/bias:0', 'transformer/encoder/encoder_layer_2/multi_head_attention_3/dense_19/kernel:0', 'transformer/encoder/encoder_layer_2/multi_head_attention_3/dense_19/bias:0', 'transformer/encoder/encoder_layer_3/multi_head_attention_4/dense_25/kernel:0', 'transformer/encoder/encoder_layer_3/multi_head_attention_4/dense_25/bias:0', 'transformer/decoder/decoder_layer/multi_head_attention_5/dense_31/kernel:0', 'transformer/decoder/decoder_layer/multi_head_attention_5/dense_31/bias:0', 'transformer/decoder/decoder_layer/multi_head_attention_6/dense_35/kernel:0', 'transformer/decoder/decoder_layer/multi_head_attention_6/dense_35/bias:0', 'transformer/decoder/decoder_layer_1/multi_head_attention_7/dense_41/kernel:0', 'transformer/decoder/decoder_layer_1/multi_head_attention_7/dense_41/bias:0', 'transformer/decoder/decoder_layer_1/multi_head_attention_8/dense_45/kernel:0', 'transformer/decoder/decoder_layer_1/multi_head_attention_8/dense_45/bias:0', 'transformer/decoder/decoder_layer_2/multi_head_attention_9/dense_51/kernel:0', 'transformer/decoder/decoder_layer_2/multi_head_attention_9/dense_51/bias:0', 'transformer/decoder/decoder_layer_2/multi_head_attention_10/dense_55/kernel:0', 'transformer/decoder/decoder_layer_2/multi_head_attention_10/dense_55/bias:0', 'transformer/decoder/decoder_layer_3/multi_head_attention_11/dense_61/kernel:0', 'transformer/decoder/decoder_layer_3/multi_head_attention_11/dense_61/bias:0', 'transformer/decoder/decoder_layer_3/multi_head_attention_12/dense_65/kernel:0', 'transformer/decoder/decoder_layer_3/multi_head_attention_12/dense_65/bias:0'] when minimizing the loss.\n"
          ],
          "name": "stderr"
        },
        {
          "output_type": "stream",
          "text": [
            "Epoch 1 Batch 0 Loss 9.0291 Accuracy 0.0000\n",
            "Epoch 1 Batch 50 Loss 8.9679 Accuracy 0.0027\n",
            "Epoch 1 Batch 100 Loss 8.8691 Accuracy 0.0147\n",
            "Epoch 1 Batch 150 Loss 8.7620 Accuracy 0.0190\n",
            "Epoch 1 Batch 200 Loss 8.6318 Accuracy 0.0214\n",
            "Epoch 1 Batch 250 Loss 8.4763 Accuracy 0.0234\n",
            "Epoch 1 Batch 300 Loss 8.2996 Accuracy 0.0262\n",
            "Epoch 1 Batch 350 Loss 8.1130 Accuracy 0.0299\n",
            "Epoch 1 Batch 400 Loss 7.9315 Accuracy 0.0334\n",
            "Epoch 1 Batch 450 Loss 7.7677 Accuracy 0.0363\n",
            "Epoch 1 Batch 500 Loss 7.6226 Accuracy 0.0392\n",
            "Epoch 1 Batch 550 Loss 7.4901 Accuracy 0.0424\n",
            "Epoch 1 Batch 600 Loss 7.3660 Accuracy 0.0459\n",
            "Epoch 1 Batch 650 Loss 7.2488 Accuracy 0.0491\n",
            "Epoch 1 Batch 700 Loss 7.1360 Accuracy 0.0523\n"
          ],
          "name": "stdout"
        },
        {
          "output_type": "stream",
          "text": [
            "\r  5%|▌         | 1/20 [17:33<5:33:27, 1053.04s/it]"
          ],
          "name": "stderr"
        },
        {
          "output_type": "stream",
          "text": [
            "Epoch 1 Loss 7.1314 Accuracy 0.0524\n",
            "Time taken for 1 epoch: 1053.0428628921509 secs\n",
            "\n",
            "Epoch 2 Batch 0 Loss 5.6223 Accuracy 0.1072\n",
            "Epoch 2 Batch 50 Loss 5.5281 Accuracy 0.1022\n",
            "Epoch 2 Batch 100 Loss 5.4724 Accuracy 0.1033\n",
            "Epoch 2 Batch 150 Loss 5.4086 Accuracy 0.1050\n",
            "Epoch 2 Batch 200 Loss 5.3622 Accuracy 0.1067\n",
            "Epoch 2 Batch 250 Loss 5.3198 Accuracy 0.1085\n",
            "Epoch 2 Batch 300 Loss 5.2796 Accuracy 0.1102\n",
            "Epoch 2 Batch 350 Loss 5.2444 Accuracy 0.1117\n",
            "Epoch 2 Batch 400 Loss 5.2099 Accuracy 0.1133\n",
            "Epoch 2 Batch 450 Loss 5.1762 Accuracy 0.1150\n",
            "Epoch 2 Batch 500 Loss 5.1469 Accuracy 0.1167\n",
            "Epoch 2 Batch 550 Loss 5.1178 Accuracy 0.1181\n",
            "Epoch 2 Batch 600 Loss 5.0902 Accuracy 0.1194\n",
            "Epoch 2 Batch 650 Loss 5.0642 Accuracy 0.1206\n",
            "Epoch 2 Batch 700 Loss 5.0412 Accuracy 0.1218\n"
          ],
          "name": "stdout"
        },
        {
          "output_type": "stream",
          "text": [
            "\r 10%|█         | 2/20 [34:19<5:11:41, 1038.99s/it]"
          ],
          "name": "stderr"
        },
        {
          "output_type": "stream",
          "text": [
            "Epoch 2 Loss 5.0401 Accuracy 0.1218\n",
            "Time taken for 1 epoch: 1006.2001996040344 secs\n",
            "\n",
            "Epoch 3 Batch 0 Loss 4.7446 Accuracy 0.1370\n",
            "Epoch 3 Batch 50 Loss 4.6294 Accuracy 0.1420\n",
            "Epoch 3 Batch 100 Loss 4.6139 Accuracy 0.1430\n",
            "Epoch 3 Batch 150 Loss 4.6141 Accuracy 0.1434\n",
            "Epoch 3 Batch 200 Loss 4.5973 Accuracy 0.1438\n",
            "Epoch 3 Batch 250 Loss 4.5837 Accuracy 0.1440\n",
            "Epoch 3 Batch 300 Loss 4.5664 Accuracy 0.1445\n",
            "Epoch 3 Batch 350 Loss 4.5524 Accuracy 0.1451\n",
            "Epoch 3 Batch 400 Loss 4.5430 Accuracy 0.1454\n",
            "Epoch 3 Batch 450 Loss 4.5323 Accuracy 0.1464\n",
            "Epoch 3 Batch 500 Loss 4.5212 Accuracy 0.1471\n",
            "Epoch 3 Batch 550 Loss 4.5126 Accuracy 0.1477\n",
            "Epoch 3 Batch 600 Loss 4.5011 Accuracy 0.1482\n",
            "Epoch 3 Batch 650 Loss 4.4899 Accuracy 0.1487\n",
            "Epoch 3 Batch 700 Loss 4.4800 Accuracy 0.1493\n"
          ],
          "name": "stdout"
        },
        {
          "output_type": "stream",
          "text": [
            "\r 15%|█▌        | 3/20 [51:07<4:51:47, 1029.88s/it]"
          ],
          "name": "stderr"
        },
        {
          "output_type": "stream",
          "text": [
            "Epoch 3 Loss 4.4795 Accuracy 0.1493\n",
            "Time taken for 1 epoch: 1008.6043944358826 secs\n",
            "\n",
            "Epoch 4 Batch 0 Loss 4.2234 Accuracy 0.1286\n",
            "Epoch 4 Batch 50 Loss 4.2341 Accuracy 0.1588\n",
            "Epoch 4 Batch 100 Loss 4.2130 Accuracy 0.1599\n",
            "Epoch 4 Batch 150 Loss 4.2135 Accuracy 0.1607\n",
            "Epoch 4 Batch 200 Loss 4.2087 Accuracy 0.1607\n",
            "Epoch 4 Batch 250 Loss 4.2063 Accuracy 0.1607\n",
            "Epoch 4 Batch 300 Loss 4.1967 Accuracy 0.1606\n",
            "Epoch 4 Batch 350 Loss 4.1885 Accuracy 0.1614\n",
            "Epoch 4 Batch 400 Loss 4.1796 Accuracy 0.1623\n",
            "Epoch 4 Batch 450 Loss 4.1741 Accuracy 0.1630\n",
            "Epoch 4 Batch 500 Loss 4.1634 Accuracy 0.1641\n",
            "Epoch 4 Batch 550 Loss 4.1510 Accuracy 0.1648\n",
            "Epoch 4 Batch 600 Loss 4.1413 Accuracy 0.1654\n",
            "Epoch 4 Batch 650 Loss 4.1286 Accuracy 0.1661\n",
            "Epoch 4 Batch 700 Loss 4.1182 Accuracy 0.1665\n"
          ],
          "name": "stdout"
        },
        {
          "output_type": "stream",
          "text": [
            "\r 20%|██        | 4/20 [1:08:06<4:33:44, 1026.52s/it]"
          ],
          "name": "stderr"
        },
        {
          "output_type": "stream",
          "text": [
            "Epoch 4 Loss 4.1174 Accuracy 0.1666\n",
            "Time taken for 1 epoch: 1018.7036883831024 secs\n",
            "\n",
            "Epoch 5 Batch 0 Loss 3.7390 Accuracy 0.1867\n",
            "Epoch 5 Batch 50 Loss 3.8286 Accuracy 0.1786\n",
            "Epoch 5 Batch 100 Loss 3.8143 Accuracy 0.1788\n",
            "Epoch 5 Batch 150 Loss 3.8055 Accuracy 0.1810\n",
            "Epoch 5 Batch 200 Loss 3.7983 Accuracy 0.1814\n",
            "Epoch 5 Batch 250 Loss 3.7880 Accuracy 0.1827\n",
            "Epoch 5 Batch 300 Loss 3.7812 Accuracy 0.1833\n",
            "Epoch 5 Batch 350 Loss 3.7671 Accuracy 0.1844\n",
            "Epoch 5 Batch 400 Loss 3.7545 Accuracy 0.1856\n",
            "Epoch 5 Batch 450 Loss 3.7419 Accuracy 0.1863\n",
            "Epoch 5 Batch 500 Loss 3.7304 Accuracy 0.1875\n",
            "Epoch 5 Batch 550 Loss 3.7193 Accuracy 0.1881\n",
            "Epoch 5 Batch 600 Loss 3.7055 Accuracy 0.1889\n",
            "Epoch 5 Batch 650 Loss 3.6934 Accuracy 0.1897\n",
            "Epoch 5 Batch 700 Loss 3.6833 Accuracy 0.1905\n"
          ],
          "name": "stdout"
        },
        {
          "output_type": "stream",
          "text": [
            "\r 25%|██▌       | 5/20 [1:25:10<4:16:27, 1025.86s/it]"
          ],
          "name": "stderr"
        },
        {
          "output_type": "stream",
          "text": [
            "Saving checkpoint for epoch 5 at ./checkpoints/train/ckpt-1\n",
            "Epoch 5 Loss 3.6827 Accuracy 0.1905\n",
            "Time taken for 1 epoch: 1024.3174667358398 secs\n",
            "\n",
            "Epoch 6 Batch 0 Loss 3.2415 Accuracy 0.2314\n",
            "Epoch 6 Batch 50 Loss 3.3357 Accuracy 0.2100\n",
            "Epoch 6 Batch 100 Loss 3.3447 Accuracy 0.2075\n",
            "Epoch 6 Batch 150 Loss 3.3355 Accuracy 0.2080\n",
            "Epoch 6 Batch 200 Loss 3.3297 Accuracy 0.2090\n",
            "Epoch 6 Batch 250 Loss 3.3232 Accuracy 0.2095\n",
            "Epoch 6 Batch 300 Loss 3.3161 Accuracy 0.2100\n",
            "Epoch 6 Batch 350 Loss 3.3094 Accuracy 0.2111\n",
            "Epoch 6 Batch 400 Loss 3.3052 Accuracy 0.2115\n",
            "Epoch 6 Batch 450 Loss 3.2980 Accuracy 0.2123\n",
            "Epoch 6 Batch 500 Loss 3.2923 Accuracy 0.2130\n",
            "Epoch 6 Batch 550 Loss 3.2865 Accuracy 0.2134\n",
            "Epoch 6 Batch 600 Loss 3.2798 Accuracy 0.2138\n",
            "Epoch 6 Batch 650 Loss 3.2716 Accuracy 0.2145\n",
            "Epoch 6 Batch 700 Loss 3.2630 Accuracy 0.2149\n"
          ],
          "name": "stdout"
        },
        {
          "output_type": "stream",
          "text": [
            "\r 30%|███       | 6/20 [1:42:21<3:59:40, 1027.17s/it]"
          ],
          "name": "stderr"
        },
        {
          "output_type": "stream",
          "text": [
            "Epoch 6 Loss 3.2626 Accuracy 0.2149\n",
            "Time taken for 1 epoch: 1030.2179145812988 secs\n",
            "\n",
            "Epoch 7 Batch 0 Loss 2.7779 Accuracy 0.2196\n",
            "Epoch 7 Batch 50 Loss 2.9334 Accuracy 0.2310\n",
            "Epoch 7 Batch 100 Loss 2.9235 Accuracy 0.2311\n",
            "Epoch 7 Batch 150 Loss 2.9249 Accuracy 0.2310\n",
            "Epoch 7 Batch 200 Loss 2.9183 Accuracy 0.2312\n",
            "Epoch 7 Batch 250 Loss 2.9096 Accuracy 0.2321\n",
            "Epoch 7 Batch 300 Loss 2.9087 Accuracy 0.2327\n",
            "Epoch 7 Batch 350 Loss 2.9020 Accuracy 0.2332\n",
            "Epoch 7 Batch 400 Loss 2.8937 Accuracy 0.2336\n",
            "Epoch 7 Batch 450 Loss 2.8885 Accuracy 0.2340\n",
            "Epoch 7 Batch 500 Loss 2.8813 Accuracy 0.2347\n",
            "Epoch 7 Batch 550 Loss 2.8781 Accuracy 0.2353\n",
            "Epoch 7 Batch 600 Loss 2.8725 Accuracy 0.2353\n",
            "Epoch 7 Batch 650 Loss 2.8705 Accuracy 0.2357\n",
            "Epoch 7 Batch 700 Loss 2.8644 Accuracy 0.2361\n"
          ],
          "name": "stdout"
        },
        {
          "output_type": "stream",
          "text": [
            "\r 35%|███▌      | 7/20 [1:59:23<3:42:16, 1025.85s/it]"
          ],
          "name": "stderr"
        },
        {
          "output_type": "stream",
          "text": [
            "Epoch 7 Loss 2.8642 Accuracy 0.2361\n",
            "Time taken for 1 epoch: 1022.7787706851959 secs\n",
            "\n",
            "Epoch 8 Batch 0 Loss 2.3684 Accuracy 0.2344\n",
            "Epoch 8 Batch 50 Loss 2.5391 Accuracy 0.2540\n",
            "Epoch 8 Batch 100 Loss 2.5344 Accuracy 0.2554\n",
            "Epoch 8 Batch 150 Loss 2.5414 Accuracy 0.2551\n",
            "Epoch 8 Batch 200 Loss 2.5493 Accuracy 0.2543\n",
            "Epoch 8 Batch 250 Loss 2.5459 Accuracy 0.2543\n",
            "Epoch 8 Batch 300 Loss 2.5397 Accuracy 0.2542\n",
            "Epoch 8 Batch 350 Loss 2.5376 Accuracy 0.2546\n",
            "Epoch 8 Batch 400 Loss 2.5371 Accuracy 0.2556\n",
            "Epoch 8 Batch 450 Loss 2.5342 Accuracy 0.2556\n",
            "Epoch 8 Batch 500 Loss 2.5292 Accuracy 0.2557\n",
            "Epoch 8 Batch 550 Loss 2.5293 Accuracy 0.2558\n",
            "Epoch 8 Batch 600 Loss 2.5315 Accuracy 0.2557\n",
            "Epoch 8 Batch 650 Loss 2.5278 Accuracy 0.2558\n",
            "Epoch 8 Batch 700 Loss 2.5258 Accuracy 0.2559\n"
          ],
          "name": "stdout"
        },
        {
          "output_type": "stream",
          "text": [
            "\r 40%|████      | 8/20 [2:16:10<3:24:01, 1020.14s/it]"
          ],
          "name": "stderr"
        },
        {
          "output_type": "stream",
          "text": [
            "Epoch 8 Loss 2.5257 Accuracy 0.2559\n",
            "Time taken for 1 epoch: 1006.8064563274384 secs\n",
            "\n",
            "Epoch 9 Batch 0 Loss 2.2831 Accuracy 0.2826\n",
            "Epoch 9 Batch 50 Loss 2.2395 Accuracy 0.2713\n",
            "Epoch 9 Batch 100 Loss 2.2317 Accuracy 0.2719\n",
            "Epoch 9 Batch 150 Loss 2.2589 Accuracy 0.2709\n",
            "Epoch 9 Batch 200 Loss 2.2668 Accuracy 0.2695\n",
            "Epoch 9 Batch 250 Loss 2.2700 Accuracy 0.2697\n",
            "Epoch 9 Batch 300 Loss 2.2708 Accuracy 0.2705\n",
            "Epoch 9 Batch 350 Loss 2.2646 Accuracy 0.2702\n",
            "Epoch 9 Batch 400 Loss 2.2637 Accuracy 0.2702\n",
            "Epoch 9 Batch 450 Loss 2.2633 Accuracy 0.2703\n",
            "Epoch 9 Batch 500 Loss 2.2668 Accuracy 0.2700\n",
            "Epoch 9 Batch 550 Loss 2.2668 Accuracy 0.2706\n",
            "Epoch 9 Batch 600 Loss 2.2694 Accuracy 0.2704\n",
            "Epoch 9 Batch 650 Loss 2.2708 Accuracy 0.2701\n",
            "Epoch 9 Batch 700 Loss 2.2715 Accuracy 0.2704\n"
          ],
          "name": "stdout"
        },
        {
          "output_type": "stream",
          "text": [
            "\r 45%|████▌     | 9/20 [2:32:58<3:06:20, 1016.37s/it]"
          ],
          "name": "stderr"
        },
        {
          "output_type": "stream",
          "text": [
            "Epoch 9 Loss 2.2718 Accuracy 0.2704\n",
            "Time taken for 1 epoch: 1007.5856347084045 secs\n",
            "\n",
            "Epoch 10 Batch 0 Loss 1.9693 Accuracy 0.2915\n",
            "Epoch 10 Batch 50 Loss 2.0225 Accuracy 0.2870\n",
            "Epoch 10 Batch 100 Loss 2.0399 Accuracy 0.2856\n",
            "Epoch 10 Batch 150 Loss 2.0413 Accuracy 0.2842\n",
            "Epoch 10 Batch 200 Loss 2.0486 Accuracy 0.2841\n",
            "Epoch 10 Batch 250 Loss 2.0609 Accuracy 0.2835\n",
            "Epoch 10 Batch 300 Loss 2.0613 Accuracy 0.2827\n",
            "Epoch 10 Batch 350 Loss 2.0644 Accuracy 0.2820\n",
            "Epoch 10 Batch 400 Loss 2.0663 Accuracy 0.2818\n",
            "Epoch 10 Batch 450 Loss 2.0696 Accuracy 0.2818\n",
            "Epoch 10 Batch 500 Loss 2.0706 Accuracy 0.2822\n",
            "Epoch 10 Batch 550 Loss 2.0725 Accuracy 0.2820\n",
            "Epoch 10 Batch 600 Loss 2.0760 Accuracy 0.2819\n",
            "Epoch 10 Batch 650 Loss 2.0810 Accuracy 0.2819\n",
            "Epoch 10 Batch 700 Loss 2.0833 Accuracy 0.2817\n"
          ],
          "name": "stdout"
        },
        {
          "output_type": "stream",
          "text": [
            "\r 50%|█████     | 10/20 [2:49:50<2:49:11, 1015.19s/it]"
          ],
          "name": "stderr"
        },
        {
          "output_type": "stream",
          "text": [
            "Saving checkpoint for epoch 10 at ./checkpoints/train/ckpt-2\n",
            "Epoch 10 Loss 2.0837 Accuracy 0.2816\n",
            "Time taken for 1 epoch: 1012.4011416435242 secs\n",
            "\n",
            "Epoch 11 Batch 0 Loss 1.8580 Accuracy 0.2862\n",
            "Epoch 11 Batch 50 Loss 1.8553 Accuracy 0.2945\n",
            "Epoch 11 Batch 100 Loss 1.8661 Accuracy 0.2918\n",
            "Epoch 11 Batch 150 Loss 1.8846 Accuracy 0.2907\n",
            "Epoch 11 Batch 200 Loss 1.8964 Accuracy 0.2910\n",
            "Epoch 11 Batch 250 Loss 1.8984 Accuracy 0.2916\n",
            "Epoch 11 Batch 300 Loss 1.9077 Accuracy 0.2916\n",
            "Epoch 11 Batch 350 Loss 1.9101 Accuracy 0.2916\n",
            "Epoch 11 Batch 400 Loss 1.9131 Accuracy 0.2917\n",
            "Epoch 11 Batch 450 Loss 1.9172 Accuracy 0.2916\n",
            "Epoch 11 Batch 500 Loss 1.9175 Accuracy 0.2916\n",
            "Epoch 11 Batch 550 Loss 1.9201 Accuracy 0.2918\n",
            "Epoch 11 Batch 600 Loss 1.9255 Accuracy 0.2916\n",
            "Epoch 11 Batch 650 Loss 1.9307 Accuracy 0.2912\n",
            "Epoch 11 Batch 700 Loss 1.9346 Accuracy 0.2913\n"
          ],
          "name": "stdout"
        },
        {
          "output_type": "stream",
          "text": [
            "\r 55%|█████▌    | 11/20 [3:06:51<2:32:30, 1016.77s/it]"
          ],
          "name": "stderr"
        },
        {
          "output_type": "stream",
          "text": [
            "Epoch 11 Loss 1.9345 Accuracy 0.2913\n",
            "Time taken for 1 epoch: 1020.4685938358307 secs\n",
            "\n",
            "Epoch 12 Batch 0 Loss 1.8103 Accuracy 0.2893\n",
            "Epoch 12 Batch 50 Loss 1.7340 Accuracy 0.3029\n",
            "Epoch 12 Batch 100 Loss 1.7557 Accuracy 0.2986\n",
            "Epoch 12 Batch 150 Loss 1.7694 Accuracy 0.2978\n",
            "Epoch 12 Batch 200 Loss 1.7756 Accuracy 0.2977\n",
            "Epoch 12 Batch 250 Loss 1.7800 Accuracy 0.2983\n",
            "Epoch 12 Batch 300 Loss 1.7832 Accuracy 0.2986\n",
            "Epoch 12 Batch 350 Loss 1.7849 Accuracy 0.2989\n",
            "Epoch 12 Batch 400 Loss 1.7899 Accuracy 0.2986\n",
            "Epoch 12 Batch 450 Loss 1.7952 Accuracy 0.2986\n",
            "Epoch 12 Batch 500 Loss 1.7979 Accuracy 0.2987\n",
            "Epoch 12 Batch 550 Loss 1.8032 Accuracy 0.2986\n",
            "Epoch 12 Batch 600 Loss 1.8098 Accuracy 0.2983\n",
            "Epoch 12 Batch 650 Loss 1.8129 Accuracy 0.2979\n",
            "Epoch 12 Batch 700 Loss 1.8151 Accuracy 0.2981\n"
          ],
          "name": "stdout"
        },
        {
          "output_type": "stream",
          "text": [
            "\r 60%|██████    | 12/20 [3:24:40<2:17:41, 1032.64s/it]"
          ],
          "name": "stderr"
        },
        {
          "output_type": "stream",
          "text": [
            "Epoch 12 Loss 1.8153 Accuracy 0.2980\n",
            "Time taken for 1 epoch: 1069.6503975391388 secs\n",
            "\n",
            "Epoch 13 Batch 0 Loss 1.6108 Accuracy 0.2688\n",
            "Epoch 13 Batch 50 Loss 1.6265 Accuracy 0.3068\n",
            "Epoch 13 Batch 100 Loss 1.6436 Accuracy 0.3059\n",
            "Epoch 13 Batch 150 Loss 1.6532 Accuracy 0.3079\n",
            "Epoch 13 Batch 200 Loss 1.6601 Accuracy 0.3086\n",
            "Epoch 13 Batch 250 Loss 1.6700 Accuracy 0.3090\n",
            "Epoch 13 Batch 300 Loss 1.6760 Accuracy 0.3081\n",
            "Epoch 13 Batch 350 Loss 1.6825 Accuracy 0.3076\n",
            "Epoch 13 Batch 400 Loss 1.6847 Accuracy 0.3066\n",
            "Epoch 13 Batch 450 Loss 1.6886 Accuracy 0.3063\n",
            "Epoch 13 Batch 500 Loss 1.6948 Accuracy 0.3066\n",
            "Epoch 13 Batch 550 Loss 1.6987 Accuracy 0.3063\n",
            "Epoch 13 Batch 600 Loss 1.7025 Accuracy 0.3060\n",
            "Epoch 13 Batch 650 Loss 1.7076 Accuracy 0.3054\n",
            "Epoch 13 Batch 700 Loss 1.7114 Accuracy 0.3055\n"
          ],
          "name": "stdout"
        },
        {
          "output_type": "stream",
          "text": [
            "\r 65%|██████▌   | 13/20 [3:42:08<2:00:59, 1037.06s/it]"
          ],
          "name": "stderr"
        },
        {
          "output_type": "stream",
          "text": [
            "Epoch 13 Loss 1.7118 Accuracy 0.3055\n",
            "Time taken for 1 epoch: 1047.3813300132751 secs\n",
            "\n",
            "Epoch 14 Batch 0 Loss 1.5438 Accuracy 0.3170\n",
            "Epoch 14 Batch 50 Loss 1.5338 Accuracy 0.3151\n",
            "Epoch 14 Batch 100 Loss 1.5396 Accuracy 0.3171\n",
            "Epoch 14 Batch 150 Loss 1.5538 Accuracy 0.3170\n",
            "Epoch 14 Batch 200 Loss 1.5636 Accuracy 0.3154\n",
            "Epoch 14 Batch 250 Loss 1.5729 Accuracy 0.3136\n",
            "Epoch 14 Batch 300 Loss 1.5844 Accuracy 0.3138\n",
            "Epoch 14 Batch 350 Loss 1.5896 Accuracy 0.3142\n",
            "Epoch 14 Batch 400 Loss 1.5946 Accuracy 0.3132\n",
            "Epoch 14 Batch 450 Loss 1.5988 Accuracy 0.3130\n",
            "Epoch 14 Batch 500 Loss 1.6056 Accuracy 0.3126\n",
            "Epoch 14 Batch 550 Loss 1.6094 Accuracy 0.3127\n",
            "Epoch 14 Batch 600 Loss 1.6131 Accuracy 0.3121\n",
            "Epoch 14 Batch 650 Loss 1.6185 Accuracy 0.3116\n",
            "Epoch 14 Batch 700 Loss 1.6228 Accuracy 0.3113\n"
          ],
          "name": "stdout"
        },
        {
          "output_type": "stream",
          "text": [
            "\r 70%|███████   | 14/20 [3:59:59<1:44:43, 1047.30s/it]"
          ],
          "name": "stderr"
        },
        {
          "output_type": "stream",
          "text": [
            "Epoch 14 Loss 1.6230 Accuracy 0.3112\n",
            "Time taken for 1 epoch: 1071.1898155212402 secs\n",
            "\n",
            "Epoch 15 Batch 0 Loss 1.3480 Accuracy 0.2998\n",
            "Epoch 15 Batch 50 Loss 1.4582 Accuracy 0.3237\n",
            "Epoch 15 Batch 100 Loss 1.4730 Accuracy 0.3198\n",
            "Epoch 15 Batch 150 Loss 1.4749 Accuracy 0.3185\n",
            "Epoch 15 Batch 200 Loss 1.4900 Accuracy 0.3192\n",
            "Epoch 15 Batch 250 Loss 1.5005 Accuracy 0.3188\n",
            "Epoch 15 Batch 300 Loss 1.5041 Accuracy 0.3186\n",
            "Epoch 15 Batch 350 Loss 1.5075 Accuracy 0.3186\n",
            "Epoch 15 Batch 400 Loss 1.5153 Accuracy 0.3187\n",
            "Epoch 15 Batch 450 Loss 1.5174 Accuracy 0.3186\n",
            "Epoch 15 Batch 500 Loss 1.5222 Accuracy 0.3181\n",
            "Epoch 15 Batch 550 Loss 1.5275 Accuracy 0.3175\n",
            "Epoch 15 Batch 600 Loss 1.5329 Accuracy 0.3167\n",
            "Epoch 15 Batch 650 Loss 1.5395 Accuracy 0.3163\n",
            "Epoch 15 Batch 700 Loss 1.5440 Accuracy 0.3160\n"
          ],
          "name": "stdout"
        },
        {
          "output_type": "stream",
          "text": [
            "\r 75%|███████▌  | 15/20 [4:19:29<1:30:21, 1084.21s/it]"
          ],
          "name": "stderr"
        },
        {
          "output_type": "stream",
          "text": [
            "Saving checkpoint for epoch 15 at ./checkpoints/train/ckpt-3\n",
            "Epoch 15 Loss 1.5444 Accuracy 0.3160\n",
            "Time taken for 1 epoch: 1170.3235285282135 secs\n",
            "\n",
            "Epoch 16 Batch 0 Loss 1.2784 Accuracy 0.3109\n",
            "Epoch 16 Batch 50 Loss 1.3848 Accuracy 0.3310\n",
            "Epoch 16 Batch 100 Loss 1.3901 Accuracy 0.3284\n",
            "Epoch 16 Batch 150 Loss 1.4071 Accuracy 0.3268\n",
            "Epoch 16 Batch 200 Loss 1.4174 Accuracy 0.3249\n",
            "Epoch 16 Batch 250 Loss 1.4300 Accuracy 0.3243\n",
            "Epoch 16 Batch 300 Loss 1.4341 Accuracy 0.3242\n",
            "Epoch 16 Batch 350 Loss 1.4409 Accuracy 0.3235\n",
            "Epoch 16 Batch 400 Loss 1.4456 Accuracy 0.3229\n",
            "Epoch 16 Batch 450 Loss 1.4497 Accuracy 0.3227\n",
            "Epoch 16 Batch 500 Loss 1.4532 Accuracy 0.3228\n",
            "Epoch 16 Batch 550 Loss 1.4575 Accuracy 0.3227\n",
            "Epoch 16 Batch 600 Loss 1.4638 Accuracy 0.3222\n",
            "Epoch 16 Batch 650 Loss 1.4704 Accuracy 0.3218\n",
            "Epoch 16 Batch 700 Loss 1.4768 Accuracy 0.3216\n"
          ],
          "name": "stdout"
        },
        {
          "output_type": "stream",
          "text": [
            "\r 80%|████████  | 16/20 [4:37:43<1:12:28, 1087.22s/it]"
          ],
          "name": "stderr"
        },
        {
          "output_type": "stream",
          "text": [
            "Epoch 16 Loss 1.4767 Accuracy 0.3216\n",
            "Time taken for 1 epoch: 1094.2494962215424 secs\n",
            "\n",
            "Epoch 17 Batch 0 Loss 1.4199 Accuracy 0.3602\n",
            "Epoch 17 Batch 50 Loss 1.3305 Accuracy 0.3279\n",
            "Epoch 17 Batch 100 Loss 1.3508 Accuracy 0.3294\n",
            "Epoch 17 Batch 150 Loss 1.3583 Accuracy 0.3301\n",
            "Epoch 17 Batch 200 Loss 1.3672 Accuracy 0.3301\n",
            "Epoch 17 Batch 250 Loss 1.3698 Accuracy 0.3287\n",
            "Epoch 17 Batch 300 Loss 1.3728 Accuracy 0.3288\n",
            "Epoch 17 Batch 350 Loss 1.3763 Accuracy 0.3283\n",
            "Epoch 17 Batch 400 Loss 1.3816 Accuracy 0.3272\n",
            "Epoch 17 Batch 450 Loss 1.3856 Accuracy 0.3271\n",
            "Epoch 17 Batch 500 Loss 1.3924 Accuracy 0.3265\n",
            "Epoch 17 Batch 550 Loss 1.3988 Accuracy 0.3266\n",
            "Epoch 17 Batch 600 Loss 1.4019 Accuracy 0.3263\n",
            "Epoch 17 Batch 650 Loss 1.4094 Accuracy 0.3254\n",
            "Epoch 17 Batch 700 Loss 1.4158 Accuracy 0.3251\n"
          ],
          "name": "stdout"
        },
        {
          "output_type": "stream",
          "text": [
            "\r 85%|████████▌ | 17/20 [4:55:19<53:52, 1077.57s/it]  "
          ],
          "name": "stderr"
        },
        {
          "output_type": "stream",
          "text": [
            "Epoch 17 Loss 1.4163 Accuracy 0.3251\n",
            "Time taken for 1 epoch: 1055.0480976104736 secs\n",
            "\n",
            "Epoch 18 Batch 0 Loss 1.4087 Accuracy 0.3285\n",
            "Epoch 18 Batch 50 Loss 1.2726 Accuracy 0.3358\n",
            "Epoch 18 Batch 100 Loss 1.2718 Accuracy 0.3343\n",
            "Epoch 18 Batch 150 Loss 1.2875 Accuracy 0.3330\n",
            "Epoch 18 Batch 200 Loss 1.2994 Accuracy 0.3333\n",
            "Epoch 18 Batch 250 Loss 1.3059 Accuracy 0.3327\n",
            "Epoch 18 Batch 300 Loss 1.3114 Accuracy 0.3319\n",
            "Epoch 18 Batch 350 Loss 1.3193 Accuracy 0.3316\n",
            "Epoch 18 Batch 400 Loss 1.3238 Accuracy 0.3318\n",
            "Epoch 18 Batch 450 Loss 1.3300 Accuracy 0.3309\n",
            "Epoch 18 Batch 500 Loss 1.3360 Accuracy 0.3310\n",
            "Epoch 18 Batch 550 Loss 1.3410 Accuracy 0.3305\n",
            "Epoch 18 Batch 600 Loss 1.3480 Accuracy 0.3301\n",
            "Epoch 18 Batch 650 Loss 1.3540 Accuracy 0.3294\n",
            "Epoch 18 Batch 700 Loss 1.3608 Accuracy 0.3290\n"
          ],
          "name": "stdout"
        },
        {
          "output_type": "stream",
          "text": [
            "\r 90%|█████████ | 18/20 [5:12:56<35:42, 1071.42s/it]"
          ],
          "name": "stderr"
        },
        {
          "output_type": "stream",
          "text": [
            "Epoch 18 Loss 1.3607 Accuracy 0.3290\n",
            "Time taken for 1 epoch: 1057.0651578903198 secs\n",
            "\n",
            "Epoch 19 Batch 0 Loss 1.2653 Accuracy 0.3281\n",
            "Epoch 19 Batch 50 Loss 1.2065 Accuracy 0.3359\n",
            "Epoch 19 Batch 100 Loss 1.2242 Accuracy 0.3360\n",
            "Epoch 19 Batch 150 Loss 1.2354 Accuracy 0.3354\n",
            "Epoch 19 Batch 200 Loss 1.2495 Accuracy 0.3344\n",
            "Epoch 19 Batch 250 Loss 1.2576 Accuracy 0.3342\n",
            "Epoch 19 Batch 300 Loss 1.2649 Accuracy 0.3345\n",
            "Epoch 19 Batch 350 Loss 1.2725 Accuracy 0.3347\n",
            "Epoch 19 Batch 400 Loss 1.2776 Accuracy 0.3347\n",
            "Epoch 19 Batch 450 Loss 1.2804 Accuracy 0.3349\n",
            "Epoch 19 Batch 500 Loss 1.2864 Accuracy 0.3343\n",
            "Epoch 19 Batch 550 Loss 1.2934 Accuracy 0.3336\n",
            "Epoch 19 Batch 600 Loss 1.2973 Accuracy 0.3330\n",
            "Epoch 19 Batch 650 Loss 1.3042 Accuracy 0.3327\n",
            "Epoch 19 Batch 700 Loss 1.3116 Accuracy 0.3323\n"
          ],
          "name": "stdout"
        },
        {
          "output_type": "stream",
          "text": [
            "\r 95%|█████████▌| 19/20 [5:29:45<17:32, 1052.95s/it]"
          ],
          "name": "stderr"
        },
        {
          "output_type": "stream",
          "text": [
            "Epoch 19 Loss 1.3119 Accuracy 0.3322\n",
            "Time taken for 1 epoch: 1009.8349068164825 secs\n",
            "\n",
            "Epoch 20 Batch 0 Loss 1.1362 Accuracy 0.4032\n",
            "Epoch 20 Batch 50 Loss 1.1903 Accuracy 0.3460\n",
            "Epoch 20 Batch 100 Loss 1.1945 Accuracy 0.3423\n",
            "Epoch 20 Batch 150 Loss 1.1970 Accuracy 0.3413\n",
            "Epoch 20 Batch 200 Loss 1.2059 Accuracy 0.3404\n",
            "Epoch 20 Batch 250 Loss 1.2159 Accuracy 0.3393\n",
            "Epoch 20 Batch 300 Loss 1.2197 Accuracy 0.3397\n",
            "Epoch 20 Batch 350 Loss 1.2277 Accuracy 0.3387\n",
            "Epoch 20 Batch 400 Loss 1.2333 Accuracy 0.3382\n",
            "Epoch 20 Batch 450 Loss 1.2413 Accuracy 0.3374\n",
            "Epoch 20 Batch 500 Loss 1.2460 Accuracy 0.3372\n",
            "Epoch 20 Batch 550 Loss 1.2501 Accuracy 0.3368\n",
            "Epoch 20 Batch 600 Loss 1.2554 Accuracy 0.3366\n",
            "Epoch 20 Batch 650 Loss 1.2598 Accuracy 0.3363\n",
            "Epoch 20 Batch 700 Loss 1.2658 Accuracy 0.3361\n"
          ],
          "name": "stdout"
        },
        {
          "output_type": "stream",
          "text": [
            "100%|██████████| 20/20 [5:46:26<00:00, 1039.35s/it]"
          ],
          "name": "stderr"
        },
        {
          "output_type": "stream",
          "text": [
            "Saving checkpoint for epoch 20 at ./checkpoints/train/ckpt-4\n",
            "Epoch 20 Loss 1.2660 Accuracy 0.3360\n",
            "Time taken for 1 epoch: 1001.0584070682526 secs\n",
            "\n"
          ],
          "name": "stdout"
        },
        {
          "output_type": "stream",
          "text": [
            "\n"
          ],
          "name": "stderr"
        }
      ]
    },
    {
      "cell_type": "code",
      "metadata": {
        "id": "2YemPoKFXt3v",
        "colab_type": "code",
        "colab": {
          "base_uri": "https://localhost:8080/",
          "height": 255
        },
        "outputId": "4c58f018-d21d-4ae9-f8a1-8c30119db852"
      },
      "source": [
        "transformer.summary()"
      ],
      "execution_count": 58,
      "outputs": [
        {
          "output_type": "stream",
          "text": [
            "Model: \"transformer\"\n",
            "_________________________________________________________________\n",
            "Layer (type)                 Output Shape              Param #   \n",
            "=================================================================\n",
            "encoder (Encoder)            multiple                  1844736   \n",
            "_________________________________________________________________\n",
            "decoder (Decoder)            multiple                  2093696   \n",
            "_________________________________________________________________\n",
            "dense_70 (Dense)             multiple                  1043481   \n",
            "=================================================================\n",
            "Total params: 4,981,913\n",
            "Trainable params: 4,981,913\n",
            "Non-trainable params: 0\n",
            "_________________________________________________________________\n"
          ],
          "name": "stdout"
        }
      ]
    },
    {
      "cell_type": "code",
      "metadata": {
        "id": "tJAmjWYTbp-t",
        "colab_type": "code",
        "colab": {}
      },
      "source": [
        "from google.colab import files"
      ],
      "execution_count": 61,
      "outputs": []
    },
    {
      "cell_type": "code",
      "metadata": {
        "id": "IxrFVa3ycCBy",
        "colab_type": "code",
        "colab": {
          "base_uri": "https://localhost:8080/",
          "height": 102
        },
        "outputId": "92e7653d-003c-4a38-c019-ad3fae39b194"
      },
      "source": [
        "! zip -r 'checkpoints.zip' '/content/checkpoints'"
      ],
      "execution_count": 62,
      "outputs": [
        {
          "output_type": "stream",
          "text": [
            "  adding: content/checkpoints/ (stored 0%)\n",
            "  adding: content/checkpoints/train/ (stored 0%)\n",
            "  adding: content/checkpoints/train/ckpt-4.data-00000-of-00001 (deflated 9%)\n",
            "  adding: content/checkpoints/train/checkpoint (deflated 39%)\n",
            "  adding: content/checkpoints/train/ckpt-4.index (deflated 82%)\n"
          ],
          "name": "stdout"
        }
      ]
    },
    {
      "cell_type": "code",
      "metadata": {
        "id": "Ap80Zfd6cPIT",
        "colab_type": "code",
        "colab": {}
      },
      "source": [
        "transformer.save_weights('translator')"
      ],
      "execution_count": 64,
      "outputs": []
    },
    {
      "cell_type": "code",
      "metadata": {
        "id": "4Df9uxz6lCJU",
        "colab_type": "code",
        "colab": {}
      },
      "source": [
        ""
      ],
      "execution_count": null,
      "outputs": []
    }
  ]
}